{
  "nbformat": 4,
  "nbformat_minor": 0,
  "metadata": {
    "colab": {
      "provenance": [],
      "authorship_tag": "ABX9TyOvDr5BkbuA77dbtj8QAHL/",
      "include_colab_link": true
    },
    "kernelspec": {
      "name": "python3",
      "display_name": "Python 3"
    },
    "language_info": {
      "name": "python"
    }
  },
  "cells": [
    {
      "cell_type": "markdown",
      "metadata": {
        "id": "view-in-github",
        "colab_type": "text"
      },
      "source": [
        "<a href=\"https://colab.research.google.com/github/EndymionSleeping/1KB570-project/blob/main/matb_project_v3_4.ipynb\" target=\"_parent\"><img src=\"https://colab.research.google.com/assets/colab-badge.svg\" alt=\"Open In Colab\"/></a>"
      ]
    },
    {
      "cell_type": "markdown",
      "source": [
        "# Init\n",
        "Handling dependancied and importing datasets"
      ],
      "metadata": {
        "id": "oPo1-nL54X9I"
      }
    },
    {
      "cell_type": "code",
      "execution_count": 1,
      "metadata": {
        "id": "seqgTdrn4R6m"
      },
      "outputs": [],
      "source": [
        "from google.colab import output\n",
        "output.enable_custom_widget_manager()\n"
      ]
    },
    {
      "cell_type": "code",
      "source": [
        "try:\n",
        "    import google.colab  # type: ignore # noqa: F401\n",
        "    %pip install git+https://github.com/hackingmaterials/matbench\n",
        "except ImportError:\n",
        "    print(\"not in Colab\")"
      ],
      "metadata": {
        "colab": {
          "base_uri": "https://localhost:8080/"
        },
        "id": "XK8sEtDK4hd3",
        "outputId": "3a8a5287-392f-4c58-e348-6c9f25c1d867"
      },
      "execution_count": 2,
      "outputs": [
        {
          "output_type": "stream",
          "name": "stdout",
          "text": [
            "Collecting git+https://github.com/hackingmaterials/matbench\n",
            "  Cloning https://github.com/hackingmaterials/matbench to /tmp/pip-req-build-8or411f8\n",
            "  Running command git clone --filter=blob:none --quiet https://github.com/hackingmaterials/matbench /tmp/pip-req-build-8or411f8\n",
            "  Resolved https://github.com/hackingmaterials/matbench to commit 936176db18ca4cd7b38cbd957c017a5bac770c6b\n",
            "  Installing build dependencies ... \u001b[?25l\u001b[?25hdone\n",
            "  Getting requirements to build wheel ... \u001b[?25l\u001b[?25hdone\n",
            "  Preparing metadata (pyproject.toml) ... \u001b[?25l\u001b[?25hdone\n",
            "Collecting matminer>=0.7.4 (from matbench==0.6)\n",
            "  Downloading matminer-0.9.3-py3-none-any.whl.metadata (4.9 kB)\n",
            "Requirement already satisfied: scipy>=1.9.0 in /usr/local/lib/python3.10/dist-packages (from matbench==0.6) (1.13.1)\n",
            "Collecting monty>=2022.4.26 (from matbench==0.6)\n",
            "  Downloading monty-2024.7.30-py3-none-any.whl.metadata (3.2 kB)\n",
            "Requirement already satisfied: scikit-learn>=1.0.1 in /usr/local/lib/python3.10/dist-packages (from matbench==0.6) (1.5.2)\n",
            "Requirement already satisfied: numpy>=1.23 in /usr/local/lib/python3.10/dist-packages (from matminer>=0.7.4->matbench==0.6) (1.26.4)\n",
            "Requirement already satisfied: requests~=2.31 in /usr/local/lib/python3.10/dist-packages (from matminer>=0.7.4->matbench==0.6) (2.32.3)\n",
            "Requirement already satisfied: pandas<3,>=1.5 in /usr/local/lib/python3.10/dist-packages (from matminer>=0.7.4->matbench==0.6) (2.2.2)\n",
            "Requirement already satisfied: tqdm~=4.66 in /usr/local/lib/python3.10/dist-packages (from matminer>=0.7.4->matbench==0.6) (4.66.5)\n",
            "Collecting pymongo~=4.5 (from matminer>=0.7.4->matbench==0.6)\n",
            "  Downloading pymongo-4.10.1-cp310-cp310-manylinux_2_17_x86_64.manylinux2014_x86_64.whl.metadata (22 kB)\n",
            "Requirement already satisfied: sympy~=1.11 in /usr/local/lib/python3.10/dist-packages (from matminer>=0.7.4->matbench==0.6) (1.13.3)\n",
            "Collecting pymatgen>=2023 (from matminer>=0.7.4->matbench==0.6)\n",
            "  Downloading pymatgen-2024.10.3-cp310-cp310-manylinux_2_17_x86_64.manylinux2014_x86_64.whl.metadata (13 kB)\n",
            "Requirement already satisfied: joblib>=1.2.0 in /usr/local/lib/python3.10/dist-packages (from scikit-learn>=1.0.1->matbench==0.6) (1.4.2)\n",
            "Requirement already satisfied: threadpoolctl>=3.1.0 in /usr/local/lib/python3.10/dist-packages (from scikit-learn>=1.0.1->matbench==0.6) (3.5.0)\n",
            "Requirement already satisfied: python-dateutil>=2.8.2 in /usr/local/lib/python3.10/dist-packages (from pandas<3,>=1.5->matminer>=0.7.4->matbench==0.6) (2.8.2)\n",
            "Requirement already satisfied: pytz>=2020.1 in /usr/local/lib/python3.10/dist-packages (from pandas<3,>=1.5->matminer>=0.7.4->matbench==0.6) (2024.2)\n",
            "Requirement already satisfied: tzdata>=2022.7 in /usr/local/lib/python3.10/dist-packages (from pandas<3,>=1.5->matminer>=0.7.4->matbench==0.6) (2024.2)\n",
            "Collecting matplotlib>=3.8 (from pymatgen>=2023->matminer>=0.7.4->matbench==0.6)\n",
            "  Downloading matplotlib-3.9.2-cp310-cp310-manylinux_2_17_x86_64.manylinux2014_x86_64.whl.metadata (11 kB)\n",
            "Requirement already satisfied: networkx>=2.2 in /usr/local/lib/python3.10/dist-packages (from pymatgen>=2023->matminer>=0.7.4->matbench==0.6) (3.4)\n",
            "Collecting palettable>=3.3.3 (from pymatgen>=2023->matminer>=0.7.4->matbench==0.6)\n",
            "  Downloading palettable-3.3.3-py2.py3-none-any.whl.metadata (3.3 kB)\n",
            "Requirement already satisfied: plotly>=4.5.0 in /usr/local/lib/python3.10/dist-packages (from pymatgen>=2023->matminer>=0.7.4->matbench==0.6) (5.24.1)\n",
            "Collecting pybtex>=0.24.0 (from pymatgen>=2023->matminer>=0.7.4->matbench==0.6)\n",
            "  Downloading pybtex-0.24.0-py2.py3-none-any.whl.metadata (2.0 kB)\n",
            "Collecting ruamel.yaml>=0.17.0 (from pymatgen>=2023->matminer>=0.7.4->matbench==0.6)\n",
            "  Downloading ruamel.yaml-0.18.6-py3-none-any.whl.metadata (23 kB)\n",
            "Collecting spglib>=2.5.0 (from pymatgen>=2023->matminer>=0.7.4->matbench==0.6)\n",
            "  Downloading spglib-2.5.0-cp310-cp310-manylinux_2_17_x86_64.manylinux2014_x86_64.whl.metadata (4.2 kB)\n",
            "Requirement already satisfied: tabulate>=0.9 in /usr/local/lib/python3.10/dist-packages (from pymatgen>=2023->matminer>=0.7.4->matbench==0.6) (0.9.0)\n",
            "Collecting uncertainties>=3.1.4 (from pymatgen>=2023->matminer>=0.7.4->matbench==0.6)\n",
            "  Downloading uncertainties-3.2.2-py3-none-any.whl.metadata (6.9 kB)\n",
            "Collecting dnspython<3.0.0,>=1.16.0 (from pymongo~=4.5->matminer>=0.7.4->matbench==0.6)\n",
            "  Downloading dnspython-2.7.0-py3-none-any.whl.metadata (5.8 kB)\n",
            "Requirement already satisfied: charset-normalizer<4,>=2 in /usr/local/lib/python3.10/dist-packages (from requests~=2.31->matminer>=0.7.4->matbench==0.6) (3.4.0)\n",
            "Requirement already satisfied: idna<4,>=2.5 in /usr/local/lib/python3.10/dist-packages (from requests~=2.31->matminer>=0.7.4->matbench==0.6) (3.10)\n",
            "Requirement already satisfied: urllib3<3,>=1.21.1 in /usr/local/lib/python3.10/dist-packages (from requests~=2.31->matminer>=0.7.4->matbench==0.6) (2.2.3)\n",
            "Requirement already satisfied: certifi>=2017.4.17 in /usr/local/lib/python3.10/dist-packages (from requests~=2.31->matminer>=0.7.4->matbench==0.6) (2024.8.30)\n",
            "Requirement already satisfied: mpmath<1.4,>=1.1.0 in /usr/local/lib/python3.10/dist-packages (from sympy~=1.11->matminer>=0.7.4->matbench==0.6) (1.3.0)\n",
            "Requirement already satisfied: contourpy>=1.0.1 in /usr/local/lib/python3.10/dist-packages (from matplotlib>=3.8->pymatgen>=2023->matminer>=0.7.4->matbench==0.6) (1.3.0)\n",
            "Requirement already satisfied: cycler>=0.10 in /usr/local/lib/python3.10/dist-packages (from matplotlib>=3.8->pymatgen>=2023->matminer>=0.7.4->matbench==0.6) (0.12.1)\n",
            "Requirement already satisfied: fonttools>=4.22.0 in /usr/local/lib/python3.10/dist-packages (from matplotlib>=3.8->pymatgen>=2023->matminer>=0.7.4->matbench==0.6) (4.54.1)\n",
            "Requirement already satisfied: kiwisolver>=1.3.1 in /usr/local/lib/python3.10/dist-packages (from matplotlib>=3.8->pymatgen>=2023->matminer>=0.7.4->matbench==0.6) (1.4.7)\n",
            "Requirement already satisfied: packaging>=20.0 in /usr/local/lib/python3.10/dist-packages (from matplotlib>=3.8->pymatgen>=2023->matminer>=0.7.4->matbench==0.6) (24.1)\n",
            "Requirement already satisfied: pillow>=8 in /usr/local/lib/python3.10/dist-packages (from matplotlib>=3.8->pymatgen>=2023->matminer>=0.7.4->matbench==0.6) (10.4.0)\n",
            "Requirement already satisfied: pyparsing>=2.3.1 in /usr/local/lib/python3.10/dist-packages (from matplotlib>=3.8->pymatgen>=2023->matminer>=0.7.4->matbench==0.6) (3.1.4)\n",
            "Requirement already satisfied: tenacity>=6.2.0 in /usr/local/lib/python3.10/dist-packages (from plotly>=4.5.0->pymatgen>=2023->matminer>=0.7.4->matbench==0.6) (9.0.0)\n",
            "Requirement already satisfied: PyYAML>=3.01 in /usr/local/lib/python3.10/dist-packages (from pybtex>=0.24.0->pymatgen>=2023->matminer>=0.7.4->matbench==0.6) (6.0.2)\n",
            "Collecting latexcodec>=1.0.4 (from pybtex>=0.24.0->pymatgen>=2023->matminer>=0.7.4->matbench==0.6)\n",
            "  Downloading latexcodec-3.0.0-py3-none-any.whl.metadata (4.9 kB)\n",
            "Requirement already satisfied: six in /usr/local/lib/python3.10/dist-packages (from pybtex>=0.24.0->pymatgen>=2023->matminer>=0.7.4->matbench==0.6) (1.16.0)\n",
            "Collecting ruamel.yaml.clib>=0.2.7 (from ruamel.yaml>=0.17.0->pymatgen>=2023->matminer>=0.7.4->matbench==0.6)\n",
            "  Downloading ruamel.yaml.clib-0.2.8-cp310-cp310-manylinux_2_17_x86_64.manylinux2014_x86_64.manylinux_2_24_x86_64.whl.metadata (2.2 kB)\n",
            "Downloading matminer-0.9.3-py3-none-any.whl (5.5 MB)\n",
            "\u001b[2K   \u001b[90m━━━━━━━━━━━━━━━━━━━━━━━━━━━━━━━━━━━━━━━━\u001b[0m \u001b[32m5.5/5.5 MB\u001b[0m \u001b[31m40.1 MB/s\u001b[0m eta \u001b[36m0:00:00\u001b[0m\n",
            "\u001b[?25hDownloading monty-2024.7.30-py3-none-any.whl (48 kB)\n",
            "\u001b[2K   \u001b[90m━━━━━━━━━━━━━━━━━━━━━━━━━━━━━━━━━━━━━━━━\u001b[0m \u001b[32m48.9/48.9 kB\u001b[0m \u001b[31m3.0 MB/s\u001b[0m eta \u001b[36m0:00:00\u001b[0m\n",
            "\u001b[?25hDownloading pymatgen-2024.10.3-cp310-cp310-manylinux_2_17_x86_64.manylinux2014_x86_64.whl (4.9 MB)\n",
            "\u001b[2K   \u001b[90m━━━━━━━━━━━━━━━━━━━━━━━━━━━━━━━━━━━━━━━━\u001b[0m \u001b[32m4.9/4.9 MB\u001b[0m \u001b[31m27.5 MB/s\u001b[0m eta \u001b[36m0:00:00\u001b[0m\n",
            "\u001b[?25hDownloading pymongo-4.10.1-cp310-cp310-manylinux_2_17_x86_64.manylinux2014_x86_64.whl (1.4 MB)\n",
            "\u001b[2K   \u001b[90m━━━━━━━━━━━━━━━━━━━━━━━━━━━━━━━━━━━━━━━━\u001b[0m \u001b[32m1.4/1.4 MB\u001b[0m \u001b[31m46.1 MB/s\u001b[0m eta \u001b[36m0:00:00\u001b[0m\n",
            "\u001b[?25hDownloading dnspython-2.7.0-py3-none-any.whl (313 kB)\n",
            "\u001b[2K   \u001b[90m━━━━━━━━━━━━━━━━━━━━━━━━━━━━━━━━━━━━━━━━\u001b[0m \u001b[32m313.6/313.6 kB\u001b[0m \u001b[31m17.5 MB/s\u001b[0m eta \u001b[36m0:00:00\u001b[0m\n",
            "\u001b[?25hDownloading matplotlib-3.9.2-cp310-cp310-manylinux_2_17_x86_64.manylinux2014_x86_64.whl (8.3 MB)\n",
            "\u001b[2K   \u001b[90m━━━━━━━━━━━━━━━━━━━━━━━━━━━━━━━━━━━━━━━━\u001b[0m \u001b[32m8.3/8.3 MB\u001b[0m \u001b[31m62.3 MB/s\u001b[0m eta \u001b[36m0:00:00\u001b[0m\n",
            "\u001b[?25hDownloading palettable-3.3.3-py2.py3-none-any.whl (332 kB)\n",
            "\u001b[2K   \u001b[90m━━━━━━━━━━━━━━━━━━━━━━━━━━━━━━━━━━━━━━━━\u001b[0m \u001b[32m332.3/332.3 kB\u001b[0m \u001b[31m20.4 MB/s\u001b[0m eta \u001b[36m0:00:00\u001b[0m\n",
            "\u001b[?25hDownloading pybtex-0.24.0-py2.py3-none-any.whl (561 kB)\n",
            "\u001b[2K   \u001b[90m━━━━━━━━━━━━━━━━━━━━━━━━━━━━━━━━━━━━━━━━\u001b[0m \u001b[32m561.4/561.4 kB\u001b[0m \u001b[31m27.5 MB/s\u001b[0m eta \u001b[36m0:00:00\u001b[0m\n",
            "\u001b[?25hDownloading ruamel.yaml-0.18.6-py3-none-any.whl (117 kB)\n",
            "\u001b[2K   \u001b[90m━━━━━━━━━━━━━━━━━━━━━━━━━━━━━━━━━━━━━━━━\u001b[0m \u001b[32m117.8/117.8 kB\u001b[0m \u001b[31m8.5 MB/s\u001b[0m eta \u001b[36m0:00:00\u001b[0m\n",
            "\u001b[?25hDownloading spglib-2.5.0-cp310-cp310-manylinux_2_17_x86_64.manylinux2014_x86_64.whl (1.1 MB)\n",
            "\u001b[2K   \u001b[90m━━━━━━━━━━━━━━━━━━━━━━━━━━━━━━━━━━━━━━━━\u001b[0m \u001b[32m1.1/1.1 MB\u001b[0m \u001b[31m44.1 MB/s\u001b[0m eta \u001b[36m0:00:00\u001b[0m\n",
            "\u001b[?25hDownloading uncertainties-3.2.2-py3-none-any.whl (58 kB)\n",
            "\u001b[2K   \u001b[90m━━━━━━━━━━━━━━━━━━━━━━━━━━━━━━━━━━━━━━━━\u001b[0m \u001b[32m58.3/58.3 kB\u001b[0m \u001b[31m4.4 MB/s\u001b[0m eta \u001b[36m0:00:00\u001b[0m\n",
            "\u001b[?25hDownloading latexcodec-3.0.0-py3-none-any.whl (18 kB)\n",
            "Downloading ruamel.yaml.clib-0.2.8-cp310-cp310-manylinux_2_17_x86_64.manylinux2014_x86_64.manylinux_2_24_x86_64.whl (526 kB)\n",
            "\u001b[2K   \u001b[90m━━━━━━━━━━━━━━━━━━━━━━━━━━━━━━━━━━━━━━━━\u001b[0m \u001b[32m526.7/526.7 kB\u001b[0m \u001b[31m30.2 MB/s\u001b[0m eta \u001b[36m0:00:00\u001b[0m\n",
            "\u001b[?25hBuilding wheels for collected packages: matbench\n",
            "  Building wheel for matbench (pyproject.toml) ... \u001b[?25l\u001b[?25hdone\n",
            "  Created wheel for matbench: filename=matbench-0.6-py3-none-any.whl size=5449479 sha256=50f231d3f0d9dec1ad0e7ed7c86bb6a332b3496d094f88f431cb399f03986982\n",
            "  Stored in directory: /tmp/pip-ephem-wheel-cache-bipqzwq9/wheels/88/e5/4e/889ed0b99b6094fca6bb2686267bb93351d6b1c75405e2cd9e\n",
            "Successfully built matbench\n",
            "Installing collected packages: uncertainties, spglib, ruamel.yaml.clib, palettable, monty, latexcodec, dnspython, ruamel.yaml, pymongo, pybtex, matplotlib, pymatgen, matminer, matbench\n",
            "  Attempting uninstall: matplotlib\n",
            "    Found existing installation: matplotlib 3.7.1\n",
            "    Uninstalling matplotlib-3.7.1:\n",
            "      Successfully uninstalled matplotlib-3.7.1\n",
            "Successfully installed dnspython-2.7.0 latexcodec-3.0.0 matbench-0.6 matminer-0.9.3 matplotlib-3.9.2 monty-2024.7.30 palettable-3.3.3 pybtex-0.24.0 pymatgen-2024.10.3 pymongo-4.10.1 ruamel.yaml-0.18.6 ruamel.yaml.clib-0.2.8 spglib-2.5.0 uncertainties-3.2.2\n"
          ]
        }
      ]
    },
    {
      "cell_type": "code",
      "source": [
        "from matbench.bench import MatbenchBenchmark\n",
        "mb = MatbenchBenchmark(autoload=False)"
      ],
      "metadata": {
        "colab": {
          "base_uri": "https://localhost:8080/"
        },
        "id": "3WzObFP64zRY",
        "outputId": "9fe3a24e-2c2b-401d-afb3-a3f41c7b1eaf"
      },
      "execution_count": 3,
      "outputs": [
        {
          "output_type": "stream",
          "name": "stdout",
          "text": [
            "2024-10-17 10:00:11 INFO     Initialized benchmark 'matbench_v0.1' with 13 tasks: \n",
            "['matbench_dielectric',\n",
            " 'matbench_expt_gap',\n",
            " 'matbench_expt_is_metal',\n",
            " 'matbench_glass',\n",
            " 'matbench_jdft2d',\n",
            " 'matbench_log_gvrh',\n",
            " 'matbench_log_kvrh',\n",
            " 'matbench_mp_e_form',\n",
            " 'matbench_mp_gap',\n",
            " 'matbench_mp_is_metal',\n",
            " 'matbench_perovskites',\n",
            " 'matbench_phonons',\n",
            " 'matbench_steels']\n"
          ]
        },
        {
          "output_type": "stream",
          "name": "stderr",
          "text": [
            "INFO:matbench:Initialized benchmark 'matbench_v0.1' with 13 tasks: \n",
            "['matbench_dielectric',\n",
            " 'matbench_expt_gap',\n",
            " 'matbench_expt_is_metal',\n",
            " 'matbench_glass',\n",
            " 'matbench_jdft2d',\n",
            " 'matbench_log_gvrh',\n",
            " 'matbench_log_kvrh',\n",
            " 'matbench_mp_e_form',\n",
            " 'matbench_mp_gap',\n",
            " 'matbench_mp_is_metal',\n",
            " 'matbench_perovskites',\n",
            " 'matbench_phonons',\n",
            " 'matbench_steels']\n"
          ]
        }
      ]
    },
    {
      "cell_type": "code",
      "source": [
        "import numpy as np\n",
        "from sklearn.preprocessing import StandardScaler\n",
        "from sklearn.model_selection import train_test_split\n",
        "import tensorflow as tf\n",
        "from tensorflow.keras import layers, models\n",
        "import matplotlib.pyplot as plt\n"
      ],
      "metadata": {
        "id": "CD66Im5P4_SG"
      },
      "execution_count": 4,
      "outputs": []
    },
    {
      "cell_type": "markdown",
      "source": [
        "# Get first task"
      ],
      "metadata": {
        "id": "KA3HQnDvAN4R"
      }
    },
    {
      "cell_type": "code",
      "source": [
        "dsname = \"matbench_perovskites\"#\"matbench_mp_is_metal\" #\"matbench_phonons\"\n",
        "\n",
        "for task in mb.tasks:\n",
        "    if task.dataset_name == dsname:\n",
        "      print(task.dataset_name)\n",
        "      break\n",
        "\n",
        "#mb.matbench_dielectric.load()\n",
        "#mb.matbench_phonons.load()\n",
        "#mb.matbench_mp_is_metal.load()\n",
        "mb.matbench_perovskites.load()\n",
        "\n",
        "for fold in task.folds:\n",
        "\n",
        "      # Inputs are either chemical compositions as strings\n",
        "      # or crystal structures as pymatgen.Structure objects.\n",
        "      # Outputs are either floats (regression tasks) or bools (classification tasks)\n",
        "      train_inputs, train_outputs = task.get_train_and_val_data(fold)"
      ],
      "metadata": {
        "colab": {
          "base_uri": "https://localhost:8080/"
        },
        "id": "NKUb_y7IAQ-R",
        "outputId": "d4216134-885e-47ff-941e-35f07b2a5d12"
      },
      "execution_count": 5,
      "outputs": [
        {
          "output_type": "stream",
          "name": "stdout",
          "text": [
            "matbench_perovskites\n",
            "2024-10-17 10:00:20 INFO     Loading dataset 'matbench_perovskites'...\n"
          ]
        },
        {
          "output_type": "stream",
          "name": "stderr",
          "text": [
            "INFO:matbench.task:Loading dataset 'matbench_perovskites'...\n"
          ]
        },
        {
          "output_type": "stream",
          "name": "stdout",
          "text": [
            "Fetching matbench_perovskites.json.gz from https://ml.materialsproject.org/projects/matbench_perovskites.json.gz to /usr/local/lib/python3.10/dist-packages/matminer/datasets/matbench_perovskites.json.gz\n"
          ]
        },
        {
          "output_type": "stream",
          "name": "stderr",
          "text": [
            "Fetching https://ml.materialsproject.org/projects/matbench_perovskites.json.gz in MB: 4.194304MB [00:00, 94.06MB/s]                 \n"
          ]
        },
        {
          "output_type": "stream",
          "name": "stdout",
          "text": [
            "2024-10-17 10:00:37 INFO     Dataset 'matbench_perovskites loaded.\n"
          ]
        },
        {
          "output_type": "stream",
          "name": "stderr",
          "text": [
            "INFO:matbench.task:Dataset 'matbench_perovskites loaded.\n"
          ]
        }
      ]
    },
    {
      "cell_type": "markdown",
      "source": [
        "# Prepare the data"
      ],
      "metadata": {
        "id": "xzDsvl4yAdgN"
      }
    },
    {
      "cell_type": "code",
      "source": [
        "train_inputs[len(train_inputs)-1]"
      ],
      "metadata": {
        "colab": {
          "base_uri": "https://localhost:8080/"
        },
        "id": "oe-hq1QjC0hz",
        "outputId": "1b85815c-0d72-410a-9f97-f208f1e2f4bc"
      },
      "execution_count": 6,
      "outputs": [
        {
          "output_type": "stream",
          "name": "stderr",
          "text": [
            "<ipython-input-6-a498127e76ac>:1: FutureWarning: Series.__getitem__ treating keys as positions is deprecated. In a future version, integer keys will always be treated as labels (consistent with DataFrame behavior). To access a value by position, use `ser.iloc[pos]`\n",
            "  train_inputs[len(train_inputs)-1]\n"
          ]
        },
        {
          "output_type": "execute_result",
          "data": {
            "text/plain": [
              "Structure Summary\n",
              "Lattice\n",
              "    abc : 3.608501682090402 3.608501682090402 3.608501682090402\n",
              " angles : 90.0 90.0 90.0\n",
              " volume : 46.987326623026846\n",
              "      A : 3.608501682090402 0.0 0.0\n",
              "      B : 0.0 3.608501682090402 0.0\n",
              "      C : 0.0 0.0 3.608501682090402\n",
              "    pbc : True True True\n",
              "PeriodicSite: Zn (0.004004, 0.0, 0.0) [0.00111, 0.0, 0.0]\n",
              "PeriodicSite: Be (1.822, 1.804, 1.804) [0.5048, 0.5, 0.5]\n",
              "PeriodicSite: F (1.805, 0.0, 1.804) [0.5003, 0.0, 0.5]\n",
              "PeriodicSite: N (1.808, 1.804, 0.0) [0.5011, 0.5, 0.0]\n",
              "PeriodicSite: O (0.009746, 1.804, 1.804) [0.002701, 0.5, 0.5]"
            ]
          },
          "metadata": {},
          "execution_count": 6
        }
      ]
    },
    {
      "cell_type": "code",
      "source": [
        "train_inputs.keys()"
      ],
      "metadata": {
        "colab": {
          "base_uri": "https://localhost:8080/"
        },
        "id": "wNy3r556-Pmk",
        "outputId": "e8fe7790-084c-478e-9a80-1aca97620bca"
      },
      "execution_count": 7,
      "outputs": [
        {
          "output_type": "execute_result",
          "data": {
            "text/plain": [
              "Index(['mb-perovskites-00002', 'mb-perovskites-00003', 'mb-perovskites-00004',\n",
              "       'mb-perovskites-00005', 'mb-perovskites-00006', 'mb-perovskites-00007',\n",
              "       'mb-perovskites-00008', 'mb-perovskites-00009', 'mb-perovskites-00010',\n",
              "       'mb-perovskites-00011',\n",
              "       ...\n",
              "       'mb-perovskites-18917', 'mb-perovskites-18918', 'mb-perovskites-18919',\n",
              "       'mb-perovskites-18920', 'mb-perovskites-18921', 'mb-perovskites-18922',\n",
              "       'mb-perovskites-18923', 'mb-perovskites-18924', 'mb-perovskites-18925',\n",
              "       'mb-perovskites-18926'],\n",
              "      dtype='object', name='mbid', length=15143)"
            ]
          },
          "metadata": {},
          "execution_count": 7
        }
      ]
    },
    {
      "cell_type": "code",
      "source": [
        "#train_inputs['mb-mp-is-metal-000001'].as_dict()['sites']"
      ],
      "metadata": {
        "id": "XLsl0VUbA4SD"
      },
      "execution_count": 8,
      "outputs": []
    },
    {
      "cell_type": "code",
      "source": [
        "!pip install PyAstronomy"
      ],
      "metadata": {
        "colab": {
          "base_uri": "https://localhost:8080/"
        },
        "id": "xAT2-em4Llya",
        "outputId": "21bea8f8-07b0-46ac-fdfd-28026adb4d6a"
      },
      "execution_count": 9,
      "outputs": [
        {
          "output_type": "stream",
          "name": "stdout",
          "text": [
            "Collecting PyAstronomy\n",
            "  Downloading PyAstronomy-0.22.0.tar.gz (779 kB)\n",
            "\u001b[?25l     \u001b[90m━━━━━━━━━━━━━━━━━━━━━━━━━━━━━━━━━━━━━━━━\u001b[0m \u001b[32m0.0/779.3 kB\u001b[0m \u001b[31m?\u001b[0m eta \u001b[36m-:--:--\u001b[0m\r\u001b[2K     \u001b[91m━━━━━━━━━\u001b[0m\u001b[91m╸\u001b[0m\u001b[90m━━━━━━━━━━━━━━━━━━━━━━━━━━━━━━\u001b[0m \u001b[32m194.6/779.3 kB\u001b[0m \u001b[31m5.7 MB/s\u001b[0m eta \u001b[36m0:00:01\u001b[0m\r\u001b[2K     \u001b[91m━━━━━━━━━━━━━━━━━━━━━━━━━━━━━━━━━━━━━━━\u001b[0m\u001b[91m╸\u001b[0m \u001b[32m778.2/779.3 kB\u001b[0m \u001b[31m11.8 MB/s\u001b[0m eta \u001b[36m0:00:01\u001b[0m\r\u001b[2K     \u001b[90m━━━━━━━━━━━━━━━━━━━━━━━━━━━━━━━━━━━━━━━━\u001b[0m \u001b[32m779.3/779.3 kB\u001b[0m \u001b[31m9.2 MB/s\u001b[0m eta \u001b[36m0:00:00\u001b[0m\n",
            "\u001b[?25h  Preparing metadata (setup.py) ... \u001b[?25l\u001b[?25hdone\n",
            "Requirement already satisfied: numpy<2 in /usr/local/lib/python3.10/dist-packages (from PyAstronomy) (1.26.4)\n",
            "Requirement already satisfied: six in /usr/local/lib/python3.10/dist-packages (from PyAstronomy) (1.16.0)\n",
            "Requirement already satisfied: scipy in /usr/local/lib/python3.10/dist-packages (from PyAstronomy) (1.13.1)\n",
            "Collecting quantities (from PyAstronomy)\n",
            "  Downloading quantities-0.16.1-py3-none-any.whl.metadata (8.4 kB)\n",
            "Collecting bidict (from PyAstronomy)\n",
            "  Downloading bidict-0.23.1-py3-none-any.whl.metadata (8.7 kB)\n",
            "Downloading bidict-0.23.1-py3-none-any.whl (32 kB)\n",
            "Downloading quantities-0.16.1-py3-none-any.whl (102 kB)\n",
            "\u001b[2K   \u001b[90m━━━━━━━━━━━━━━━━━━━━━━━━━━━━━━━━━━━━━━━━\u001b[0m \u001b[32m102.4/102.4 kB\u001b[0m \u001b[31m8.0 MB/s\u001b[0m eta \u001b[36m0:00:00\u001b[0m\n",
            "\u001b[?25hBuilding wheels for collected packages: PyAstronomy\n",
            "  Building wheel for PyAstronomy (setup.py) ... \u001b[?25l\u001b[?25hdone\n",
            "  Created wheel for PyAstronomy: filename=PyAstronomy-0.22.0-py3-none-any.whl size=557910 sha256=1a2489778b99b41e6b8010dc3a28e0c3ffa271f91e0a9b8ed089368d9bb6e0fc\n",
            "  Stored in directory: /root/.cache/pip/wheels/a3/53/20/11d5947fd6a452201469232799c57238f2359a090cbd90d2f0\n",
            "Successfully built PyAstronomy\n",
            "Installing collected packages: quantities, bidict, PyAstronomy\n",
            "Successfully installed PyAstronomy-0.22.0 bidict-0.23.1 quantities-0.16.1\n"
          ]
        }
      ]
    },
    {
      "cell_type": "code",
      "source": [
        "\n",
        "from PyAstronomy import pyasl\n",
        "an = pyasl.AtomicNo()\n",
        "QQ = 0\n",
        "\n",
        "def extract_features(structure_data):\n",
        "    global QQ\n",
        "    parse_structure_data = structure_data.as_dict()\n",
        "    lattice_params = structure_data.lattice.abc\n",
        "    angles = structure_data.lattice.angles\n",
        "    volume = structure_data.lattice.volume\n",
        "    sites = []\n",
        "    for site in parse_structure_data['sites']:\n",
        "      #sites.append(site['label'])\n",
        "      sites.append(an.getAtomicNo(site['label']))\n",
        "      sites.extend(site['abc'])\n",
        "\n",
        "    if QQ < len(sites):\n",
        "      QQ = len(sites)\n",
        "      print(QQ)\n",
        "\n",
        "    max_length = 20\n",
        "    padded_sites = np.zeros(max_length)\n",
        "    padded_sites[:len(sites)] = sites[:min(len(sites), max_length)]\n",
        "    features = []\n",
        "    features.extend(lattice_params)\n",
        "    features.extend(angles)\n",
        "    features.append(volume)\n",
        "    features.extend(padded_sites)\n",
        "    return features\n",
        "#3    np.concatenate([lattice_params, angles, volume, padded_sites])\n",
        "\n",
        "X = np.array([extract_features(structure) for structure in train_inputs])\n",
        "y = np.array(train_outputs)\n",
        "print(y)\n",
        "# Scale the data\n",
        "scaler = StandardScaler()\n",
        "X_scaled = scaler.fit_transform(X)\n",
        "\n",
        "sc_Y = StandardScaler()\n",
        "Y_train = sc_Y.fit_transform(y.reshape(-1, 1))\n",
        "Y_train = y\n",
        "# Split the data into train and validation sets\n",
        "X_train, X_val, y_train, y_val = train_test_split(X_scaled, Y_train, test_size=0.15, random_state=42)\n",
        "\n"
      ],
      "metadata": {
        "colab": {
          "base_uri": "https://localhost:8080/"
        },
        "id": "Iiy7J9mTBcs4",
        "outputId": "e343be4b-c6c8-49bf-b4dd-93165ef392ef"
      },
      "execution_count": 10,
      "outputs": [
        {
          "output_type": "stream",
          "name": "stdout",
          "text": [
            "20\n",
            "[1.52 1.48 1.24 ... 1.66 2.12 1.5 ]\n"
          ]
        }
      ]
    },
    {
      "cell_type": "code",
      "source": [
        "\"\"\"\n",
        "QQ = 0\n",
        "def extract_features(structure_data):\n",
        "    global QQ\n",
        "    lattice_params = structure_data.lattice.abc\n",
        "    angles = structure_data.lattice.angles\n",
        "    volume = structure_data.lattice.volume\n",
        "\n",
        "    # Extract atomic coordinates and species\n",
        "    atomic_coords = [site.frac_coords for site in structure_data.sites]\n",
        "    atomic_species = [site.specie.Z for site in structure_data.sites]\n",
        "    atomic_coords2 = list(atomic_coords)\n",
        "    atomic_cs = zip(atomic_species, atomic_coords2)\n",
        "    qqqq = [[a,b] for (a,b) in atomic_cs]\n",
        "    #print(qqqq)\n",
        "    # Flatten atomic coordinates\n",
        "    atomic_coords_flat = np.array(atomic_coords).flatten()\n",
        "\n",
        "    if QQ < len(atomic_coords_flat):\n",
        "\n",
        "      print(f'atomic_coords {atomic_coords}')\n",
        "      print(f'atomic_species {atomic_species}')\n",
        "      print(f'zip {zip(atomic_species, atomic_coords)}')\n",
        "      print(f'zip {list(zip(atomic_species, atomic_coords))}')\n",
        "      q = list(zip(atomic_species, atomic_coords))\n",
        "      print(q)\n",
        "      for item in q:\n",
        "        item = list(item)\n",
        "        print(type(item))\n",
        "        for subitem in item:\n",
        "          if isinstance(subitem, np.ndarray):\n",
        "            subitem = np.array(subitem).flatten()\n",
        "          print(type(subitem))\n",
        "      print(f'atomic_coords_flat {atomic_coords_flat}')\n",
        "\n",
        "      QQ = len(atomic_coords_flat)\n",
        "      #print(QQ)\n",
        "    # Ensure both atomic coordinates and species are of length 288\n",
        "    max_length = 72#288\n",
        "    atomic_coords_padded = np.zeros(max_length)\n",
        "    atomic_species_padded = np.zeros(max_length)\n",
        "\n",
        "    # Fill in with actual values up to their original lengths\n",
        "    atomic_coords_padded[:len(atomic_coords_flat)] = atomic_coords_flat[:min(len(atomic_coords_flat), max_length)]\n",
        "    atomic_species_padded[:len(atomic_species)] = atomic_species[:min(len(atomic_species), max_length)]\n",
        "\n",
        "    # Concatenate features\n",
        "    features = np.concatenate([lattice_params, angles, [volume], atomic_coords_padded, atomic_species_padded])\n",
        "\n",
        "    return features\n",
        "\n",
        "\n",
        "\n",
        "X = np.array([extract_features(structure) for structure in train_inputs])\n",
        "y = np.array(train_outputs)\n",
        "print(y)\n",
        "# Scale the data\n",
        "scaler = StandardScaler()\n",
        "X_scaled = scaler.fit_transform(X)\n",
        "\n",
        "sc_Y = StandardScaler()\n",
        "Y_train = sc_Y.fit_transform(y.reshape(-1, 1))\n",
        "Y_train = y\n",
        "# Split the data into train and validation sets\n",
        "X_train, X_val, y_train, y_val = train_test_split(X_scaled, Y_train, test_size=0.15, random_state=42)\n",
        "\n",
        "\n",
        "\"\"\"\n"
      ],
      "metadata": {
        "id": "efzAn8D8HoxZ",
        "colab": {
          "base_uri": "https://localhost:8080/",
          "height": 107
        },
        "outputId": "e7b9c560-86c2-43f5-c8a1-d4ef72464039"
      },
      "execution_count": 11,
      "outputs": [
        {
          "output_type": "execute_result",
          "data": {
            "text/plain": [
              "\"\\nQQ = 0\\ndef extract_features(structure_data):\\n    global QQ\\n    lattice_params = structure_data.lattice.abc\\n    angles = structure_data.lattice.angles\\n    volume = structure_data.lattice.volume\\n\\n    # Extract atomic coordinates and species\\n    atomic_coords = [site.frac_coords for site in structure_data.sites]\\n    atomic_species = [site.specie.Z for site in structure_data.sites]\\n    atomic_coords2 = list(atomic_coords)\\n    atomic_cs = zip(atomic_species, atomic_coords2)\\n    qqqq = [[a,b] for (a,b) in atomic_cs]\\n    #print(qqqq)\\n    # Flatten atomic coordinates\\n    atomic_coords_flat = np.array(atomic_coords).flatten()\\n\\n    if QQ < len(atomic_coords_flat):\\n\\n      print(f'atomic_coords {atomic_coords}')\\n      print(f'atomic_species {atomic_species}')\\n      print(f'zip {zip(atomic_species, atomic_coords)}')\\n      print(f'zip {list(zip(atomic_species, atomic_coords))}')\\n      q = list(zip(atomic_species, atomic_coords))\\n      print(q)\\n      for item in q:\\n        item = list(item)\\n        print(type(item))\\n        for subitem in item:\\n          if isinstance(subitem, np.ndarray):\\n            subitem = np.array(subitem).flatten()\\n          print(type(subitem))\\n      print(f'atomic_coords_flat {atomic_coords_flat}')\\n\\n      QQ = len(atomic_coords_flat)\\n      #print(QQ)\\n    # Ensure both atomic coordinates and species are of length 288\\n    max_length = 72#288\\n    atomic_coords_padded = np.zeros(max_length)\\n    atomic_species_padded = np.zeros(max_length)\\n\\n    # Fill in with actual values up to their original lengths\\n    atomic_coords_padded[:len(atomic_coords_flat)] = atomic_coords_flat[:min(len(atomic_coords_flat), max_length)]\\n    atomic_species_padded[:len(atomic_species)] = atomic_species[:min(len(atomic_species), max_length)]\\n\\n    # Concatenate features\\n    features = np.concatenate([lattice_params, angles, [volume], atomic_coords_padded, atomic_species_padded])\\n\\n    return features\\n\\n\\n\\nX = np.array([extract_features(structure) for structure in train_inputs])\\ny = np.array(train_outputs)\\nprint(y)\\n# Scale the data\\nscaler = StandardScaler()\\nX_scaled = scaler.fit_transform(X)\\n\\nsc_Y = StandardScaler()\\nY_train = sc_Y.fit_transform(y.reshape(-1, 1))\\nY_train = y\\n# Split the data into train and validation sets\\nX_train, X_val, y_train, y_val = train_test_split(X_scaled, Y_train, test_size=0.15, random_state=42)\\n\\n\\n\""
            ],
            "application/vnd.google.colaboratory.intrinsic+json": {
              "type": "string"
            }
          },
          "metadata": {},
          "execution_count": 11
        }
      ]
    },
    {
      "cell_type": "markdown",
      "source": [
        "# Linear regression model"
      ],
      "metadata": {
        "id": "Zcd94JA6gT7e"
      }
    },
    {
      "cell_type": "code",
      "source": [
        "X_train.shape"
      ],
      "metadata": {
        "colab": {
          "base_uri": "https://localhost:8080/"
        },
        "id": "UU2fmhIHg7NY",
        "outputId": "394b2b5f-0d77-4afd-bf40-68fd086d9c30"
      },
      "execution_count": 12,
      "outputs": [
        {
          "output_type": "execute_result",
          "data": {
            "text/plain": [
              "(12871, 27)"
            ]
          },
          "metadata": {},
          "execution_count": 12
        }
      ]
    },
    {
      "cell_type": "code",
      "source": [
        "X[0].shape"
      ],
      "metadata": {
        "colab": {
          "base_uri": "https://localhost:8080/"
        },
        "id": "VeCLFOCINE6E",
        "outputId": "e4928233-1b72-4f60-ec83-7ea2f145b30b"
      },
      "execution_count": 13,
      "outputs": [
        {
          "output_type": "execute_result",
          "data": {
            "text/plain": [
              "(27,)"
            ]
          },
          "metadata": {},
          "execution_count": 13
        }
      ]
    },
    {
      "cell_type": "code",
      "source": [
        "X_scaled[0]"
      ],
      "metadata": {
        "colab": {
          "base_uri": "https://localhost:8080/"
        },
        "id": "SwzhyPFDNFDF",
        "outputId": "051a7edc-38b6-4ab3-ba58-d08b9a26a751"
      },
      "execution_count": 14,
      "outputs": [
        {
          "output_type": "execute_result",
          "data": {
            "text/plain": [
              "array([ 0.46959344,  0.46959344,  0.46959344,  0.        ,  0.        ,\n",
              "        0.        ,  0.38828055,  1.25235202,  1.63979594, -0.31055573,\n",
              "       -0.27504536,  0.40184544, -4.15834007,  0.        ,  0.        ,\n",
              "       -0.33229479,  0.45342217, -0.12141805,  0.        ,  0.87330327,\n",
              "        0.22880056,  0.        , -0.07945522,  0.40975683,  1.41433902,\n",
              "        0.        ,  0.        ])"
            ]
          },
          "metadata": {},
          "execution_count": 14
        }
      ]
    },
    {
      "cell_type": "markdown",
      "source": [
        "# ML"
      ],
      "metadata": {
        "id": "vtoTTgGpBg41"
      }
    },
    {
      "cell_type": "code",
      "source": [
        "def build_model(input_shape):\n",
        "  \"\"\"\n",
        "    model = models.Sequential()\n",
        "    model.add(layers.Dense(128, activation='relu', input_shape=(151,)))#input_shape=(,7)))input_dim=583\n",
        "    layers.Dropout(0.1),\n",
        "    model.add(layers.Dense(128, activation='relu'))\n",
        "    model.add(layers.Dense(128, activation='relu'))\n",
        "    model.add(layers.Dense(1, activation='linear'))\n",
        "    #model.add(layers.Dense(1))  # Output layer for regression\n",
        "    print(model.summary())\n",
        "    model.compile(optimizer='adam', loss='mean_squared_error', metrics=['mae'])\n",
        "\n",
        "    \"\"\"\n",
        "  model = models.Sequential()\n",
        "  model.add(layers.Dense(64, activation='relu'))#input_shape=(,7)))input_dim=583,   , input_shape=(151,)\n",
        "  layers.Dropout(0.5),\n",
        "  model.add(layers.Dense(128, activation='relu'))\n",
        "  layers.Dropout(0.3),\n",
        "  model.add(layers.Dense(256, activation='relu'))\n",
        "  layers.Dropout(0.1),\n",
        "  model.add(layers.Dense(128, activation='relu'))\n",
        "  model.add(layers.Dense(64, activation='relu'))\n",
        "  model.add(layers.Dense(1, activation='linear'))\n",
        "  #model.add(layers.Dense(1))  # Output layer for regression\n",
        "  print(model.summary())\n",
        "  model.compile(optimizer='adam', loss='mean_squared_error', metrics=['mae'])\n",
        "  ##accuracy mae\n",
        "  return model\n"
      ],
      "metadata": {
        "id": "UQ6evA5LBe_U"
      },
      "execution_count": 15,
      "outputs": []
    },
    {
      "cell_type": "code",
      "source": [
        "\"\"\"\n",
        "    model = models.Sequential()\n",
        "    model.add(layers.Dense(64, activation='relu', input_dim=583))#input_shape=(,7)))input_dim=583\n",
        "    layers.Dropout(0.5),\n",
        "    model.add(layers.Dense(128, activation='relu'))\n",
        "    layers.Dropout(0.3),\n",
        "    model.add(layers.Dense(256, activation='relu'))\n",
        "    layers.Dropout(0.1),\n",
        "    model.add(layers.Dense(128, activation='relu'))\n",
        "    model.add(layers.Dense(64, activation='relu'))\n",
        "    model.add(layers.Dense(1, activation='linear'))\n",
        "    #model.add(layers.Dense(1))  # Output layer for regression\n",
        "    print(model.summary())\n",
        "    model.compile(optimizer='adam', loss='mean_squared_error', metrics=['mae'])\n",
        "\"\"\""
      ],
      "metadata": {
        "id": "xCrWM7P2XDfd",
        "colab": {
          "base_uri": "https://localhost:8080/",
          "height": 71
        },
        "outputId": "64f23553-446d-4419-f82a-d5f30c06b961"
      },
      "execution_count": 16,
      "outputs": [
        {
          "output_type": "execute_result",
          "data": {
            "text/plain": [
              "\"\\n    model = models.Sequential()\\n    model.add(layers.Dense(64, activation='relu', input_dim=583))#input_shape=(,7)))input_dim=583\\n    layers.Dropout(0.5),\\n    model.add(layers.Dense(128, activation='relu'))\\n    layers.Dropout(0.3),\\n    model.add(layers.Dense(256, activation='relu'))\\n    layers.Dropout(0.1),\\n    model.add(layers.Dense(128, activation='relu'))\\n    model.add(layers.Dense(64, activation='relu'))\\n    model.add(layers.Dense(1, activation='linear'))\\n    #model.add(layers.Dense(1))  # Output layer for regression\\n    print(model.summary())\\n    model.compile(optimizer='adam', loss='mean_squared_error', metrics=['mae'])\\n\""
            ],
            "application/vnd.google.colaboratory.intrinsic+json": {
              "type": "string"
            }
          },
          "metadata": {},
          "execution_count": 16
        }
      ]
    },
    {
      "cell_type": "code",
      "source": [
        "# Build and train the Keras model\n",
        "model = build_model(X_train.shape[1])\n",
        "\n",
        "\n",
        "history = model.fit(X_train, y_train, epochs=47, batch_size=256, validation_data=(X_val, y_val))\n",
        "\n",
        "# Get test data and extract features\n",
        "test_inputs = task.get_test_data(fold, include_target=False)\n",
        "X_test = np.array([extract_features(structure) for structure in test_inputs])\n",
        "X_test_scaled = scaler.transform(X_test)\n",
        "\n",
        "# Predict on the testing data\n",
        "predictions = model.predict(X_test_scaled)\n",
        "\n",
        "\n",
        "\n",
        "train_loss = history.history[\"loss\"][1:]\n",
        "test_loss = history.history[\"val_loss\"][1:]\n",
        "\n",
        "\n",
        "# define callbacks for training\n",
        "save_best = tf.keras.callbacks.ModelCheckpoint(\n",
        "    \"best_model_{}.weights.h5\".format(model.name),\n",
        "    save_best_only=True,\n",
        "    monitor=\"mae\",\n",
        "    save_weights_only=True,\n",
        ")\n",
        "\n"
      ],
      "metadata": {
        "colab": {
          "base_uri": "https://localhost:8080/",
          "height": 1000
        },
        "id": "p4gEHUQ8Bye6",
        "outputId": "dc47d432-158a-4f34-d419-bbfdab13ae59"
      },
      "execution_count": 23,
      "outputs": [
        {
          "output_type": "display_data",
          "data": {
            "text/plain": [
              "\u001b[1mModel: \"sequential_2\"\u001b[0m\n"
            ],
            "text/html": [
              "<pre style=\"white-space:pre;overflow-x:auto;line-height:normal;font-family:Menlo,'DejaVu Sans Mono',consolas,'Courier New',monospace\"><span style=\"font-weight: bold\">Model: \"sequential_2\"</span>\n",
              "</pre>\n"
            ]
          },
          "metadata": {}
        },
        {
          "output_type": "display_data",
          "data": {
            "text/plain": [
              "┏━━━━━━━━━━━━━━━━━━━━━━━━━━━━━━━━━━━━━━┳━━━━━━━━━━━━━━━━━━━━━━━━━━━━━┳━━━━━━━━━━━━━━━━━┓\n",
              "┃\u001b[1m \u001b[0m\u001b[1mLayer (type)                        \u001b[0m\u001b[1m \u001b[0m┃\u001b[1m \u001b[0m\u001b[1mOutput Shape               \u001b[0m\u001b[1m \u001b[0m┃\u001b[1m \u001b[0m\u001b[1m        Param #\u001b[0m\u001b[1m \u001b[0m┃\n",
              "┡━━━━━━━━━━━━━━━━━━━━━━━━━━━━━━━━━━━━━━╇━━━━━━━━━━━━━━━━━━━━━━━━━━━━━╇━━━━━━━━━━━━━━━━━┩\n",
              "│ dense_12 (\u001b[38;5;33mDense\u001b[0m)                     │ ?                           │     \u001b[38;5;34m0\u001b[0m (unbuilt) │\n",
              "├──────────────────────────────────────┼─────────────────────────────┼─────────────────┤\n",
              "│ dense_13 (\u001b[38;5;33mDense\u001b[0m)                     │ ?                           │     \u001b[38;5;34m0\u001b[0m (unbuilt) │\n",
              "├──────────────────────────────────────┼─────────────────────────────┼─────────────────┤\n",
              "│ dense_14 (\u001b[38;5;33mDense\u001b[0m)                     │ ?                           │     \u001b[38;5;34m0\u001b[0m (unbuilt) │\n",
              "├──────────────────────────────────────┼─────────────────────────────┼─────────────────┤\n",
              "│ dense_15 (\u001b[38;5;33mDense\u001b[0m)                     │ ?                           │     \u001b[38;5;34m0\u001b[0m (unbuilt) │\n",
              "├──────────────────────────────────────┼─────────────────────────────┼─────────────────┤\n",
              "│ dense_16 (\u001b[38;5;33mDense\u001b[0m)                     │ ?                           │     \u001b[38;5;34m0\u001b[0m (unbuilt) │\n",
              "├──────────────────────────────────────┼─────────────────────────────┼─────────────────┤\n",
              "│ dense_17 (\u001b[38;5;33mDense\u001b[0m)                     │ ?                           │     \u001b[38;5;34m0\u001b[0m (unbuilt) │\n",
              "└──────────────────────────────────────┴─────────────────────────────┴─────────────────┘\n"
            ],
            "text/html": [
              "<pre style=\"white-space:pre;overflow-x:auto;line-height:normal;font-family:Menlo,'DejaVu Sans Mono',consolas,'Courier New',monospace\">┏━━━━━━━━━━━━━━━━━━━━━━━━━━━━━━━━━━━━━━┳━━━━━━━━━━━━━━━━━━━━━━━━━━━━━┳━━━━━━━━━━━━━━━━━┓\n",
              "┃<span style=\"font-weight: bold\"> Layer (type)                         </span>┃<span style=\"font-weight: bold\"> Output Shape                </span>┃<span style=\"font-weight: bold\">         Param # </span>┃\n",
              "┡━━━━━━━━━━━━━━━━━━━━━━━━━━━━━━━━━━━━━━╇━━━━━━━━━━━━━━━━━━━━━━━━━━━━━╇━━━━━━━━━━━━━━━━━┩\n",
              "│ dense_12 (<span style=\"color: #0087ff; text-decoration-color: #0087ff\">Dense</span>)                     │ ?                           │     <span style=\"color: #00af00; text-decoration-color: #00af00\">0</span> (unbuilt) │\n",
              "├──────────────────────────────────────┼─────────────────────────────┼─────────────────┤\n",
              "│ dense_13 (<span style=\"color: #0087ff; text-decoration-color: #0087ff\">Dense</span>)                     │ ?                           │     <span style=\"color: #00af00; text-decoration-color: #00af00\">0</span> (unbuilt) │\n",
              "├──────────────────────────────────────┼─────────────────────────────┼─────────────────┤\n",
              "│ dense_14 (<span style=\"color: #0087ff; text-decoration-color: #0087ff\">Dense</span>)                     │ ?                           │     <span style=\"color: #00af00; text-decoration-color: #00af00\">0</span> (unbuilt) │\n",
              "├──────────────────────────────────────┼─────────────────────────────┼─────────────────┤\n",
              "│ dense_15 (<span style=\"color: #0087ff; text-decoration-color: #0087ff\">Dense</span>)                     │ ?                           │     <span style=\"color: #00af00; text-decoration-color: #00af00\">0</span> (unbuilt) │\n",
              "├──────────────────────────────────────┼─────────────────────────────┼─────────────────┤\n",
              "│ dense_16 (<span style=\"color: #0087ff; text-decoration-color: #0087ff\">Dense</span>)                     │ ?                           │     <span style=\"color: #00af00; text-decoration-color: #00af00\">0</span> (unbuilt) │\n",
              "├──────────────────────────────────────┼─────────────────────────────┼─────────────────┤\n",
              "│ dense_17 (<span style=\"color: #0087ff; text-decoration-color: #0087ff\">Dense</span>)                     │ ?                           │     <span style=\"color: #00af00; text-decoration-color: #00af00\">0</span> (unbuilt) │\n",
              "└──────────────────────────────────────┴─────────────────────────────┴─────────────────┘\n",
              "</pre>\n"
            ]
          },
          "metadata": {}
        },
        {
          "output_type": "display_data",
          "data": {
            "text/plain": [
              "\u001b[1m Total params: \u001b[0m\u001b[38;5;34m0\u001b[0m (0.00 B)\n"
            ],
            "text/html": [
              "<pre style=\"white-space:pre;overflow-x:auto;line-height:normal;font-family:Menlo,'DejaVu Sans Mono',consolas,'Courier New',monospace\"><span style=\"font-weight: bold\"> Total params: </span><span style=\"color: #00af00; text-decoration-color: #00af00\">0</span> (0.00 B)\n",
              "</pre>\n"
            ]
          },
          "metadata": {}
        },
        {
          "output_type": "display_data",
          "data": {
            "text/plain": [
              "\u001b[1m Trainable params: \u001b[0m\u001b[38;5;34m0\u001b[0m (0.00 B)\n"
            ],
            "text/html": [
              "<pre style=\"white-space:pre;overflow-x:auto;line-height:normal;font-family:Menlo,'DejaVu Sans Mono',consolas,'Courier New',monospace\"><span style=\"font-weight: bold\"> Trainable params: </span><span style=\"color: #00af00; text-decoration-color: #00af00\">0</span> (0.00 B)\n",
              "</pre>\n"
            ]
          },
          "metadata": {}
        },
        {
          "output_type": "display_data",
          "data": {
            "text/plain": [
              "\u001b[1m Non-trainable params: \u001b[0m\u001b[38;5;34m0\u001b[0m (0.00 B)\n"
            ],
            "text/html": [
              "<pre style=\"white-space:pre;overflow-x:auto;line-height:normal;font-family:Menlo,'DejaVu Sans Mono',consolas,'Courier New',monospace\"><span style=\"font-weight: bold\"> Non-trainable params: </span><span style=\"color: #00af00; text-decoration-color: #00af00\">0</span> (0.00 B)\n",
              "</pre>\n"
            ]
          },
          "metadata": {}
        },
        {
          "output_type": "stream",
          "name": "stdout",
          "text": [
            "None\n",
            "Epoch 1/47\n",
            "\u001b[1m51/51\u001b[0m \u001b[32m━━━━━━━━━━━━━━━━━━━━\u001b[0m\u001b[37m\u001b[0m \u001b[1m6s\u001b[0m 23ms/step - loss: 0.8727 - mae: 0.6992 - val_loss: 0.3203 - val_mae: 0.4315\n",
            "Epoch 2/47\n",
            "\u001b[1m51/51\u001b[0m \u001b[32m━━━━━━━━━━━━━━━━━━━━\u001b[0m\u001b[37m\u001b[0m \u001b[1m1s\u001b[0m 11ms/step - loss: 0.3217 - mae: 0.4370 - val_loss: 0.3088 - val_mae: 0.4198\n",
            "Epoch 3/47\n",
            "\u001b[1m51/51\u001b[0m \u001b[32m━━━━━━━━━━━━━━━━━━━━\u001b[0m\u001b[37m\u001b[0m \u001b[1m0s\u001b[0m 9ms/step - loss: 0.2966 - mae: 0.4190 - val_loss: 0.2921 - val_mae: 0.4114\n",
            "Epoch 4/47\n",
            "\u001b[1m51/51\u001b[0m \u001b[32m━━━━━━━━━━━━━━━━━━━━\u001b[0m\u001b[37m\u001b[0m \u001b[1m1s\u001b[0m 9ms/step - loss: 0.2860 - mae: 0.4105 - val_loss: 0.2888 - val_mae: 0.4071\n",
            "Epoch 5/47\n",
            "\u001b[1m51/51\u001b[0m \u001b[32m━━━━━━━━━━━━━━━━━━━━\u001b[0m\u001b[37m\u001b[0m \u001b[1m1s\u001b[0m 9ms/step - loss: 0.2795 - mae: 0.4055 - val_loss: 0.2827 - val_mae: 0.4031\n",
            "Epoch 6/47\n",
            "\u001b[1m51/51\u001b[0m \u001b[32m━━━━━━━━━━━━━━━━━━━━\u001b[0m\u001b[37m\u001b[0m \u001b[1m0s\u001b[0m 8ms/step - loss: 0.2587 - mae: 0.3890 - val_loss: 0.2744 - val_mae: 0.3941\n",
            "Epoch 7/47\n",
            "\u001b[1m51/51\u001b[0m \u001b[32m━━━━━━━━━━━━━━━━━━━━\u001b[0m\u001b[37m\u001b[0m \u001b[1m1s\u001b[0m 9ms/step - loss: 0.2584 - mae: 0.3881 - val_loss: 0.2721 - val_mae: 0.3909\n",
            "Epoch 8/47\n",
            "\u001b[1m51/51\u001b[0m \u001b[32m━━━━━━━━━━━━━━━━━━━━\u001b[0m\u001b[37m\u001b[0m \u001b[1m1s\u001b[0m 9ms/step - loss: 0.2377 - mae: 0.3704 - val_loss: 0.2878 - val_mae: 0.4078\n",
            "Epoch 9/47\n",
            "\u001b[1m51/51\u001b[0m \u001b[32m━━━━━━━━━━━━━━━━━━━━\u001b[0m\u001b[37m\u001b[0m \u001b[1m1s\u001b[0m 9ms/step - loss: 0.2393 - mae: 0.3716 - val_loss: 0.2614 - val_mae: 0.3860\n",
            "Epoch 10/47\n",
            "\u001b[1m51/51\u001b[0m \u001b[32m━━━━━━━━━━━━━━━━━━━━\u001b[0m\u001b[37m\u001b[0m \u001b[1m1s\u001b[0m 9ms/step - loss: 0.2338 - mae: 0.3668 - val_loss: 0.2606 - val_mae: 0.3781\n",
            "Epoch 11/47\n",
            "\u001b[1m51/51\u001b[0m \u001b[32m━━━━━━━━━━━━━━━━━━━━\u001b[0m\u001b[37m\u001b[0m \u001b[1m0s\u001b[0m 8ms/step - loss: 0.2275 - mae: 0.3595 - val_loss: 0.2559 - val_mae: 0.3759\n",
            "Epoch 12/47\n",
            "\u001b[1m51/51\u001b[0m \u001b[32m━━━━━━━━━━━━━━━━━━━━\u001b[0m\u001b[37m\u001b[0m \u001b[1m1s\u001b[0m 9ms/step - loss: 0.2138 - mae: 0.3472 - val_loss: 0.2459 - val_mae: 0.3723\n",
            "Epoch 13/47\n",
            "\u001b[1m51/51\u001b[0m \u001b[32m━━━━━━━━━━━━━━━━━━━━\u001b[0m\u001b[37m\u001b[0m \u001b[1m1s\u001b[0m 8ms/step - loss: 0.2123 - mae: 0.3518 - val_loss: 0.2709 - val_mae: 0.3858\n",
            "Epoch 14/47\n",
            "\u001b[1m51/51\u001b[0m \u001b[32m━━━━━━━━━━━━━━━━━━━━\u001b[0m\u001b[37m\u001b[0m \u001b[1m0s\u001b[0m 9ms/step - loss: 0.2180 - mae: 0.3513 - val_loss: 0.2385 - val_mae: 0.3628\n",
            "Epoch 15/47\n",
            "\u001b[1m51/51\u001b[0m \u001b[32m━━━━━━━━━━━━━━━━━━━━\u001b[0m\u001b[37m\u001b[0m \u001b[1m1s\u001b[0m 8ms/step - loss: 0.2000 - mae: 0.3346 - val_loss: 0.2305 - val_mae: 0.3553\n",
            "Epoch 16/47\n",
            "\u001b[1m51/51\u001b[0m \u001b[32m━━━━━━━━━━━━━━━━━━━━\u001b[0m\u001b[37m\u001b[0m \u001b[1m0s\u001b[0m 9ms/step - loss: 0.1949 - mae: 0.3320 - val_loss: 0.2540 - val_mae: 0.3794\n",
            "Epoch 17/47\n",
            "\u001b[1m51/51\u001b[0m \u001b[32m━━━━━━━━━━━━━━━━━━━━\u001b[0m\u001b[37m\u001b[0m \u001b[1m1s\u001b[0m 9ms/step - loss: 0.1977 - mae: 0.3340 - val_loss: 0.2176 - val_mae: 0.3451\n",
            "Epoch 18/47\n",
            "\u001b[1m51/51\u001b[0m \u001b[32m━━━━━━━━━━━━━━━━━━━━\u001b[0m\u001b[37m\u001b[0m \u001b[1m1s\u001b[0m 8ms/step - loss: 0.1749 - mae: 0.3118 - val_loss: 0.2161 - val_mae: 0.3432\n",
            "Epoch 19/47\n",
            "\u001b[1m51/51\u001b[0m \u001b[32m━━━━━━━━━━━━━━━━━━━━\u001b[0m\u001b[37m\u001b[0m \u001b[1m1s\u001b[0m 9ms/step - loss: 0.1731 - mae: 0.3113 - val_loss: 0.2290 - val_mae: 0.3554\n",
            "Epoch 20/47\n",
            "\u001b[1m51/51\u001b[0m \u001b[32m━━━━━━━━━━━━━━━━━━━━\u001b[0m\u001b[37m\u001b[0m \u001b[1m1s\u001b[0m 16ms/step - loss: 0.1770 - mae: 0.3142 - val_loss: 0.2365 - val_mae: 0.3603\n",
            "Epoch 21/47\n",
            "\u001b[1m51/51\u001b[0m \u001b[32m━━━━━━━━━━━━━━━━━━━━\u001b[0m\u001b[37m\u001b[0m \u001b[1m1s\u001b[0m 13ms/step - loss: 0.1844 - mae: 0.3204 - val_loss: 0.2250 - val_mae: 0.3500\n",
            "Epoch 22/47\n",
            "\u001b[1m51/51\u001b[0m \u001b[32m━━━━━━━━━━━━━━━━━━━━\u001b[0m\u001b[37m\u001b[0m \u001b[1m1s\u001b[0m 16ms/step - loss: 0.1657 - mae: 0.3048 - val_loss: 0.2112 - val_mae: 0.3444\n",
            "Epoch 23/47\n",
            "\u001b[1m51/51\u001b[0m \u001b[32m━━━━━━━━━━━━━━━━━━━━\u001b[0m\u001b[37m\u001b[0m \u001b[1m1s\u001b[0m 13ms/step - loss: 0.1603 - mae: 0.2983 - val_loss: 0.2224 - val_mae: 0.3521\n",
            "Epoch 24/47\n",
            "\u001b[1m51/51\u001b[0m \u001b[32m━━━━━━━━━━━━━━━━━━━━\u001b[0m\u001b[37m\u001b[0m \u001b[1m0s\u001b[0m 9ms/step - loss: 0.1703 - mae: 0.3075 - val_loss: 0.2085 - val_mae: 0.3392\n",
            "Epoch 25/47\n",
            "\u001b[1m51/51\u001b[0m \u001b[32m━━━━━━━━━━━━━━━━━━━━\u001b[0m\u001b[37m\u001b[0m \u001b[1m1s\u001b[0m 9ms/step - loss: 0.1568 - mae: 0.2919 - val_loss: 0.2078 - val_mae: 0.3363\n",
            "Epoch 26/47\n",
            "\u001b[1m51/51\u001b[0m \u001b[32m━━━━━━━━━━━━━━━━━━━━\u001b[0m\u001b[37m\u001b[0m \u001b[1m1s\u001b[0m 8ms/step - loss: 0.1665 - mae: 0.2997 - val_loss: 0.2140 - val_mae: 0.3442\n",
            "Epoch 27/47\n",
            "\u001b[1m51/51\u001b[0m \u001b[32m━━━━━━━━━━━━━━━━━━━━\u001b[0m\u001b[37m\u001b[0m \u001b[1m1s\u001b[0m 8ms/step - loss: 0.1595 - mae: 0.2972 - val_loss: 0.2040 - val_mae: 0.3363\n",
            "Epoch 28/47\n",
            "\u001b[1m51/51\u001b[0m \u001b[32m━━━━━━━━━━━━━━━━━━━━\u001b[0m\u001b[37m\u001b[0m \u001b[1m1s\u001b[0m 10ms/step - loss: 0.1493 - mae: 0.2859 - val_loss: 0.2041 - val_mae: 0.3363\n",
            "Epoch 29/47\n",
            "\u001b[1m51/51\u001b[0m \u001b[32m━━━━━━━━━━━━━━━━━━━━\u001b[0m\u001b[37m\u001b[0m \u001b[1m1s\u001b[0m 9ms/step - loss: 0.1504 - mae: 0.2859 - val_loss: 0.2079 - val_mae: 0.3375\n",
            "Epoch 30/47\n",
            "\u001b[1m51/51\u001b[0m \u001b[32m━━━━━━━━━━━━━━━━━━━━\u001b[0m\u001b[37m\u001b[0m \u001b[1m1s\u001b[0m 9ms/step - loss: 0.1472 - mae: 0.2818 - val_loss: 0.1974 - val_mae: 0.3279\n",
            "Epoch 31/47\n",
            "\u001b[1m51/51\u001b[0m \u001b[32m━━━━━━━━━━━━━━━━━━━━\u001b[0m\u001b[37m\u001b[0m \u001b[1m1s\u001b[0m 8ms/step - loss: 0.1497 - mae: 0.2854 - val_loss: 0.2051 - val_mae: 0.3317\n",
            "Epoch 32/47\n",
            "\u001b[1m51/51\u001b[0m \u001b[32m━━━━━━━━━━━━━━━━━━━━\u001b[0m\u001b[37m\u001b[0m \u001b[1m0s\u001b[0m 9ms/step - loss: 0.1406 - mae: 0.2751 - val_loss: 0.2030 - val_mae: 0.3335\n",
            "Epoch 33/47\n",
            "\u001b[1m51/51\u001b[0m \u001b[32m━━━━━━━━━━━━━━━━━━━━\u001b[0m\u001b[37m\u001b[0m \u001b[1m1s\u001b[0m 9ms/step - loss: 0.1449 - mae: 0.2779 - val_loss: 0.2021 - val_mae: 0.3288\n",
            "Epoch 34/47\n",
            "\u001b[1m51/51\u001b[0m \u001b[32m━━━━━━━━━━━━━━━━━━━━\u001b[0m\u001b[37m\u001b[0m \u001b[1m1s\u001b[0m 9ms/step - loss: 0.1398 - mae: 0.2735 - val_loss: 0.2090 - val_mae: 0.3336\n",
            "Epoch 35/47\n",
            "\u001b[1m51/51\u001b[0m \u001b[32m━━━━━━━━━━━━━━━━━━━━\u001b[0m\u001b[37m\u001b[0m \u001b[1m1s\u001b[0m 10ms/step - loss: 0.1414 - mae: 0.2774 - val_loss: 0.2022 - val_mae: 0.3347\n",
            "Epoch 36/47\n",
            "\u001b[1m51/51\u001b[0m \u001b[32m━━━━━━━━━━━━━━━━━━━━\u001b[0m\u001b[37m\u001b[0m \u001b[1m1s\u001b[0m 9ms/step - loss: 0.1385 - mae: 0.2733 - val_loss: 0.1942 - val_mae: 0.3264\n",
            "Epoch 37/47\n",
            "\u001b[1m51/51\u001b[0m \u001b[32m━━━━━━━━━━━━━━━━━━━━\u001b[0m\u001b[37m\u001b[0m \u001b[1m1s\u001b[0m 8ms/step - loss: 0.1353 - mae: 0.2696 - val_loss: 0.1903 - val_mae: 0.3217\n",
            "Epoch 38/47\n",
            "\u001b[1m51/51\u001b[0m \u001b[32m━━━━━━━━━━━━━━━━━━━━\u001b[0m\u001b[37m\u001b[0m \u001b[1m1s\u001b[0m 9ms/step - loss: 0.1435 - mae: 0.2768 - val_loss: 0.1967 - val_mae: 0.3252\n",
            "Epoch 39/47\n",
            "\u001b[1m51/51\u001b[0m \u001b[32m━━━━━━━━━━━━━━━━━━━━\u001b[0m\u001b[37m\u001b[0m \u001b[1m1s\u001b[0m 8ms/step - loss: 0.1355 - mae: 0.2701 - val_loss: 0.2105 - val_mae: 0.3380\n",
            "Epoch 40/47\n",
            "\u001b[1m51/51\u001b[0m \u001b[32m━━━━━━━━━━━━━━━━━━━━\u001b[0m\u001b[37m\u001b[0m \u001b[1m1s\u001b[0m 14ms/step - loss: 0.1332 - mae: 0.2645 - val_loss: 0.2011 - val_mae: 0.3296\n",
            "Epoch 41/47\n",
            "\u001b[1m51/51\u001b[0m \u001b[32m━━━━━━━━━━━━━━━━━━━━\u001b[0m\u001b[37m\u001b[0m \u001b[1m1s\u001b[0m 14ms/step - loss: 0.1370 - mae: 0.2687 - val_loss: 0.2007 - val_mae: 0.3279\n",
            "Epoch 42/47\n",
            "\u001b[1m51/51\u001b[0m \u001b[32m━━━━━━━━━━━━━━━━━━━━\u001b[0m\u001b[37m\u001b[0m \u001b[1m1s\u001b[0m 10ms/step - loss: 0.1374 - mae: 0.2674 - val_loss: 0.1965 - val_mae: 0.3251\n",
            "Epoch 43/47\n",
            "\u001b[1m51/51\u001b[0m \u001b[32m━━━━━━━━━━━━━━━━━━━━\u001b[0m\u001b[37m\u001b[0m \u001b[1m0s\u001b[0m 9ms/step - loss: 0.1310 - mae: 0.2631 - val_loss: 0.2064 - val_mae: 0.3392\n",
            "Epoch 44/47\n",
            "\u001b[1m51/51\u001b[0m \u001b[32m━━━━━━━━━━━━━━━━━━━━\u001b[0m\u001b[37m\u001b[0m \u001b[1m1s\u001b[0m 9ms/step - loss: 0.1394 - mae: 0.2718 - val_loss: 0.1963 - val_mae: 0.3263\n",
            "Epoch 45/47\n",
            "\u001b[1m51/51\u001b[0m \u001b[32m━━━━━━━━━━━━━━━━━━━━\u001b[0m\u001b[37m\u001b[0m \u001b[1m0s\u001b[0m 9ms/step - loss: 0.1258 - mae: 0.2562 - val_loss: 0.1993 - val_mae: 0.3305\n",
            "Epoch 46/47\n",
            "\u001b[1m51/51\u001b[0m \u001b[32m━━━━━━━━━━━━━━━━━━━━\u001b[0m\u001b[37m\u001b[0m \u001b[1m1s\u001b[0m 9ms/step - loss: 0.1291 - mae: 0.2601 - val_loss: 0.1979 - val_mae: 0.3293\n",
            "Epoch 47/47\n",
            "\u001b[1m51/51\u001b[0m \u001b[32m━━━━━━━━━━━━━━━━━━━━\u001b[0m\u001b[37m\u001b[0m \u001b[1m1s\u001b[0m 9ms/step - loss: 0.1301 - mae: 0.2621 - val_loss: 0.2007 - val_mae: 0.3307\n",
            "\u001b[1m119/119\u001b[0m \u001b[32m━━━━━━━━━━━━━━━━━━━━\u001b[0m\u001b[37m\u001b[0m \u001b[1m0s\u001b[0m 2ms/step\n"
          ]
        }
      ]
    },
    {
      "cell_type": "code",
      "source": [
        "# Prepare and plot loss over time\n",
        "plt.plot(train_loss,label=\"train\")\n",
        "plt.plot(test_loss,label=\"test\")\n",
        "plt.legend()\n",
        "plt.xlabel(\"Epochs\")\n",
        "plt.ylabel(\"Loss\")\n",
        "plt.show()"
      ],
      "metadata": {
        "colab": {
          "base_uri": "https://localhost:8080/",
          "height": 449
        },
        "id": "n2K2zs-MIUPk",
        "outputId": "6e33555e-0a13-4ad7-cdca-f03dc0e22076"
      },
      "execution_count": 24,
      "outputs": [
        {
          "output_type": "display_data",
          "data": {
            "text/plain": [
              "<Figure size 640x480 with 1 Axes>"
            ],
            "image/png": "[encoded data removed]"
          },
          "metadata": {}
        }
      ]
    },
    {
      "cell_type": "code",
      "source": [
        "y_pred = model.predict(X_val)[:,0]\n",
        "\n",
        "print(\"Correlation coefficient:\", np.corrcoef(y_val.T,y_pred)[0,1])\n",
        "plt.scatter(y_pred,y_val)\n",
        "plt.ylabel(\"Predicted\")\n",
        "plt.xlabel(\"True\")\n",
        "plt.show()"
      ],
      "metadata": {
        "colab": {
          "base_uri": "https://localhost:8080/",
          "height": 485
        },
        "id": "81qkhVJUS2ED",
        "outputId": "86fbda99-0100-4ee8-dcae-1ce6b7567a57"
      },
      "execution_count": 25,
      "outputs": [
        {
          "output_type": "stream",
          "name": "stdout",
          "text": [
            "\u001b[1m71/71\u001b[0m \u001b[32m━━━━━━━━━━━━━━━━━━━━\u001b[0m\u001b[37m\u001b[0m \u001b[1m0s\u001b[0m 3ms/step\n",
            "Correlation coefficient: 0.8029328986166105\n"
          ]
        },
        {
          "output_type": "display_data",
          "data": {
            "text/plain": [
              "<Figure size 640x480 with 1 Axes>"
            ],
            "image/png": "[encoded data removed]"
          },
          "metadata": {}
        }
      ]
    }
  ]
}