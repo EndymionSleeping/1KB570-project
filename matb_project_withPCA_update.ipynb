{
  "cells": [
    {
      "cell_type": "markdown",
      "metadata": {
        "id": "oPo1-nL54X9I"
      },
      "source": [
        "# Init\n",
        "Handling dependancied and importing datasets"
      ]
    },
    {
      "cell_type": "code",
      "execution_count": 1,
      "metadata": {
        "colab": {
          "base_uri": "https://localhost:8080/"
        },
        "id": "XK8sEtDK4hd3",
        "outputId": "0aa564a9-74c7-4788-bcae-3ac7ba4fa73d"
      },
      "outputs": [
        {
          "name": "stdout",
          "output_type": "stream",
          "text": [
            "not in Colab\n"
          ]
        }
      ],
      "source": [
        "try:\n",
        "    import google.colab  # type: ignore # noqa: F401\n",
        "    %pip install git+https://github.com/hackingmaterials/matbench\n",
        "except ImportError:\n",
        "    print(\"not in Colab\")"
      ]
    },
    {
      "cell_type": "code",
      "execution_count": 2,
      "metadata": {},
      "outputs": [
        {
          "name": "stdout",
          "output_type": "stream",
          "text": [
            "Defaulting to user installation because normal site-packages is not writeable\n",
            "Collecting git+https://github.com/hackingmaterials/matbench\n",
            "  Cloning https://github.com/hackingmaterials/matbench to c:\\users\\reka7605\\appdata\\local\\temp\\pip-req-build-o99xee2g\n",
            "  Resolved https://github.com/hackingmaterials/matbench to commit 936176db18ca4cd7b38cbd957c017a5bac770c6b\n",
            "  Installing build dependencies: started\n",
            "  Installing build dependencies: finished with status 'done'\n",
            "  Getting requirements to build wheel: started\n",
            "  Getting requirements to build wheel: finished with status 'done'\n",
            "  Preparing metadata (pyproject.toml): started\n",
            "  Preparing metadata (pyproject.toml): finished with status 'done'\n",
            "Requirement already satisfied: matminer>=0.7.4 in c:\\users\\reka7605\\appdata\\roaming\\python\\python310\\site-packages (from matbench==0.6) (0.9.3)\n",
            "Requirement already satisfied: monty>=2022.4.26 in c:\\users\\reka7605\\appdata\\roaming\\python\\python310\\site-packages (from matbench==0.6) (2024.7.30)\n",
            "Requirement already satisfied: scikit-learn>=1.0.1 in c:\\users\\reka7605\\appdata\\roaming\\python\\python310\\site-packages (from matbench==0.6) (1.5.2)\n",
            "Requirement already satisfied: scipy>=1.9.0 in c:\\users\\reka7605\\appdata\\roaming\\python\\python310\\site-packages (from matbench==0.6) (1.14.1)\n",
            "Requirement already satisfied: sympy~=1.11 in c:\\programdata\\anaconda3\\lib\\site-packages (from matminer>=0.7.4->matbench==0.6) (1.11.1)\n",
            "Requirement already satisfied: numpy>=1.23 in c:\\users\\reka7605\\appdata\\roaming\\python\\python310\\site-packages (from matminer>=0.7.4->matbench==0.6) (1.26.4)\n",
            "Requirement already satisfied: requests~=2.31 in c:\\users\\reka7605\\appdata\\roaming\\python\\python310\\site-packages (from matminer>=0.7.4->matbench==0.6) (2.32.3)\n",
            "Requirement already satisfied: pymongo~=4.5 in c:\\users\\reka7605\\appdata\\roaming\\python\\python310\\site-packages (from matminer>=0.7.4->matbench==0.6) (4.10.1)\n",
            "Requirement already satisfied: pandas<3,>=1.5 in c:\\users\\reka7605\\appdata\\roaming\\python\\python310\\site-packages (from matminer>=0.7.4->matbench==0.6) (2.2.3)\n",
            "Requirement already satisfied: tqdm~=4.66 in c:\\users\\reka7605\\appdata\\roaming\\python\\python310\\site-packages (from matminer>=0.7.4->matbench==0.6) (4.66.5)\n",
            "Requirement already satisfied: pymatgen>=2023 in c:\\users\\reka7605\\appdata\\roaming\\python\\python310\\site-packages (from matminer>=0.7.4->matbench==0.6) (2024.10.3)\n",
            "Requirement already satisfied: joblib>=1.2.0 in c:\\users\\reka7605\\appdata\\roaming\\python\\python310\\site-packages (from scikit-learn>=1.0.1->matbench==0.6) (1.4.2)\n",
            "Requirement already satisfied: threadpoolctl>=3.1.0 in c:\\users\\reka7605\\appdata\\roaming\\python\\python310\\site-packages (from scikit-learn>=1.0.1->matbench==0.6) (3.5.0)\n",
            "Requirement already satisfied: pytz>=2020.1 in c:\\programdata\\anaconda3\\lib\\site-packages (from pandas<3,>=1.5->matminer>=0.7.4->matbench==0.6) (2022.7)\n",
            "Requirement already satisfied: tzdata>=2022.7 in c:\\users\\reka7605\\appdata\\roaming\\python\\python310\\site-packages (from pandas<3,>=1.5->matminer>=0.7.4->matbench==0.6) (2024.2)\n",
            "Requirement already satisfied: python-dateutil>=2.8.2 in c:\\programdata\\anaconda3\\lib\\site-packages (from pandas<3,>=1.5->matminer>=0.7.4->matbench==0.6) (2.8.2)\n",
            "Requirement already satisfied: pybtex>=0.24.0 in c:\\users\\reka7605\\appdata\\roaming\\python\\python310\\site-packages (from pymatgen>=2023->matminer>=0.7.4->matbench==0.6) (0.24.0)\n",
            "Requirement already satisfied: matplotlib>=3.8 in c:\\users\\reka7605\\appdata\\roaming\\python\\python310\\site-packages (from pymatgen>=2023->matminer>=0.7.4->matbench==0.6) (3.9.2)\n",
            "Requirement already satisfied: networkx>=2.2 in c:\\programdata\\anaconda3\\lib\\site-packages (from pymatgen>=2023->matminer>=0.7.4->matbench==0.6) (2.8.4)\n",
            "Requirement already satisfied: uncertainties>=3.1.4 in c:\\users\\reka7605\\appdata\\roaming\\python\\python310\\site-packages (from pymatgen>=2023->matminer>=0.7.4->matbench==0.6) (3.2.2)\n",
            "Requirement already satisfied: plotly>=4.5.0 in c:\\programdata\\anaconda3\\lib\\site-packages (from pymatgen>=2023->matminer>=0.7.4->matbench==0.6) (5.9.0)\n",
            "Requirement already satisfied: spglib>=2.5.0 in c:\\users\\reka7605\\appdata\\roaming\\python\\python310\\site-packages (from pymatgen>=2023->matminer>=0.7.4->matbench==0.6) (2.5.0)\n",
            "Requirement already satisfied: ruamel.yaml>=0.17.0 in c:\\programdata\\anaconda3\\lib\\site-packages (from pymatgen>=2023->matminer>=0.7.4->matbench==0.6) (0.17.21)\n",
            "Requirement already satisfied: tabulate>=0.9 in c:\\users\\reka7605\\appdata\\roaming\\python\\python310\\site-packages (from pymatgen>=2023->matminer>=0.7.4->matbench==0.6) (0.9.0)\n",
            "Requirement already satisfied: palettable>=3.3.3 in c:\\users\\reka7605\\appdata\\roaming\\python\\python310\\site-packages (from pymatgen>=2023->matminer>=0.7.4->matbench==0.6) (3.3.3)\n",
            "Requirement already satisfied: dnspython<3.0.0,>=1.16.0 in c:\\users\\reka7605\\appdata\\roaming\\python\\python310\\site-packages (from pymongo~=4.5->matminer>=0.7.4->matbench==0.6) (2.7.0)\n",
            "Requirement already satisfied: certifi>=2017.4.17 in c:\\programdata\\anaconda3\\lib\\site-packages (from requests~=2.31->matminer>=0.7.4->matbench==0.6) (2023.7.22)\n",
            "Requirement already satisfied: urllib3<3,>=1.21.1 in c:\\programdata\\anaconda3\\lib\\site-packages (from requests~=2.31->matminer>=0.7.4->matbench==0.6) (1.26.14)\n",
            "Requirement already satisfied: idna<4,>=2.5 in c:\\programdata\\anaconda3\\lib\\site-packages (from requests~=2.31->matminer>=0.7.4->matbench==0.6) (3.4)\n",
            "Requirement already satisfied: charset-normalizer<4,>=2 in c:\\programdata\\anaconda3\\lib\\site-packages (from requests~=2.31->matminer>=0.7.4->matbench==0.6) (2.0.4)\n",
            "Requirement already satisfied: mpmath>=0.19 in c:\\programdata\\anaconda3\\lib\\site-packages (from sympy~=1.11->matminer>=0.7.4->matbench==0.6) (1.2.1)\n",
            "Requirement already satisfied: colorama in c:\\programdata\\anaconda3\\lib\\site-packages (from tqdm~=4.66->matminer>=0.7.4->matbench==0.6) (0.4.6)\n",
            "Requirement already satisfied: packaging>=20.0 in c:\\programdata\\anaconda3\\lib\\site-packages (from matplotlib>=3.8->pymatgen>=2023->matminer>=0.7.4->matbench==0.6) (22.0)\n",
            "Requirement already satisfied: kiwisolver>=1.3.1 in c:\\programdata\\anaconda3\\lib\\site-packages (from matplotlib>=3.8->pymatgen>=2023->matminer>=0.7.4->matbench==0.6) (1.4.4)\n",
            "Requirement already satisfied: fonttools>=4.22.0 in c:\\programdata\\anaconda3\\lib\\site-packages (from matplotlib>=3.8->pymatgen>=2023->matminer>=0.7.4->matbench==0.6) (4.25.0)\n",
            "Requirement already satisfied: pyparsing>=2.3.1 in c:\\programdata\\anaconda3\\lib\\site-packages (from matplotlib>=3.8->pymatgen>=2023->matminer>=0.7.4->matbench==0.6) (3.0.9)\n",
            "Requirement already satisfied: pillow>=8 in c:\\programdata\\anaconda3\\lib\\site-packages (from matplotlib>=3.8->pymatgen>=2023->matminer>=0.7.4->matbench==0.6) (9.4.0)\n",
            "Requirement already satisfied: contourpy>=1.0.1 in c:\\programdata\\anaconda3\\lib\\site-packages (from matplotlib>=3.8->pymatgen>=2023->matminer>=0.7.4->matbench==0.6) (1.0.5)\n",
            "Requirement already satisfied: cycler>=0.10 in c:\\programdata\\anaconda3\\lib\\site-packages (from matplotlib>=3.8->pymatgen>=2023->matminer>=0.7.4->matbench==0.6) (0.11.0)\n",
            "Requirement already satisfied: tenacity>=6.2.0 in c:\\programdata\\anaconda3\\lib\\site-packages (from plotly>=4.5.0->pymatgen>=2023->matminer>=0.7.4->matbench==0.6) (8.0.1)\n",
            "Requirement already satisfied: latexcodec>=1.0.4 in c:\\users\\reka7605\\appdata\\roaming\\python\\python310\\site-packages (from pybtex>=0.24.0->pymatgen>=2023->matminer>=0.7.4->matbench==0.6) (3.0.0)\n",
            "Requirement already satisfied: six in c:\\programdata\\anaconda3\\lib\\site-packages (from pybtex>=0.24.0->pymatgen>=2023->matminer>=0.7.4->matbench==0.6) (1.16.0)\n",
            "Requirement already satisfied: PyYAML>=3.01 in c:\\programdata\\anaconda3\\lib\\site-packages (from pybtex>=0.24.0->pymatgen>=2023->matminer>=0.7.4->matbench==0.6) (6.0)\n",
            "Requirement already satisfied: ruamel.yaml.clib>=0.2.6 in c:\\programdata\\anaconda3\\lib\\site-packages (from ruamel.yaml>=0.17.0->pymatgen>=2023->matminer>=0.7.4->matbench==0.6) (0.2.6)\n"
          ]
        },
        {
          "name": "stderr",
          "output_type": "stream",
          "text": [
            "  Running command git clone --filter=blob:none --quiet https://github.com/hackingmaterials/matbench 'C:\\Users\\reka7605\\AppData\\Local\\Temp\\pip-req-build-o99xee2g'\n"
          ]
        }
      ],
      "source": [
        "!pip install git+https://github.com/hackingmaterials/matbench"
      ]
    },
    {
      "cell_type": "code",
      "execution_count": 3,
      "metadata": {},
      "outputs": [
        {
          "name": "stdout",
          "output_type": "stream",
          "text": [
            "Note: you may need to restart the kernel to use updated packages.\n"
          ]
        },
        {
          "name": "stderr",
          "output_type": "stream",
          "text": [
            "\n",
            "Usage:   \n",
            "  c:\\ProgramData\\anaconda3\\python.exe -m pip install [options] <requirement specifier> [package-index-options] ...\n",
            "  c:\\ProgramData\\anaconda3\\python.exe -m pip install [options] -r <requirements file> [package-index-options] ...\n",
            "  c:\\ProgramData\\anaconda3\\python.exe -m pip install [options] [-e] <vcs project url> ...\n",
            "  c:\\ProgramData\\anaconda3\\python.exe -m pip install [options] [-e] <local project path> ...\n",
            "  c:\\ProgramData\\anaconda3\\python.exe -m pip install [options] <archive url/path> ...\n",
            "\n",
            "no such option: --user./matbench\n"
          ]
        }
      ],
      "source": [
        "pip install --user./matbench"
      ]
    },
    {
      "cell_type": "code",
      "execution_count": 4,
      "metadata": {},
      "outputs": [
        {
          "name": "stdout",
          "output_type": "stream",
          "text": [
            "Defaulting to user installation because normal site-packages is not writeable\n",
            "Requirement already satisfied: matbench in c:\\users\\reka7605\\appdata\\roaming\\python\\python310\\site-packages (0.6)\n",
            "Requirement already satisfied: scikit-learn>=1.0.1 in c:\\users\\reka7605\\appdata\\roaming\\python\\python310\\site-packages (from matbench) (1.5.2)\n",
            "Requirement already satisfied: scipy>=1.9.0 in c:\\users\\reka7605\\appdata\\roaming\\python\\python310\\site-packages (from matbench) (1.14.1)\n",
            "Requirement already satisfied: matminer>=0.7.4 in c:\\users\\reka7605\\appdata\\roaming\\python\\python310\\site-packages (from matbench) (0.9.3)\n",
            "Requirement already satisfied: monty>=2022.4.26 in c:\\users\\reka7605\\appdata\\roaming\\python\\python310\\site-packages (from matbench) (2024.7.30)\n",
            "Requirement already satisfied: pandas<3,>=1.5 in c:\\users\\reka7605\\appdata\\roaming\\python\\python310\\site-packages (from matminer>=0.7.4->matbench) (2.2.3)\n",
            "Requirement already satisfied: pymongo~=4.5 in c:\\users\\reka7605\\appdata\\roaming\\python\\python310\\site-packages (from matminer>=0.7.4->matbench) (4.10.1)\n",
            "Requirement already satisfied: sympy~=1.11 in c:\\programdata\\anaconda3\\lib\\site-packages (from matminer>=0.7.4->matbench) (1.11.1)\n",
            "Requirement already satisfied: requests~=2.31 in c:\\users\\reka7605\\appdata\\roaming\\python\\python310\\site-packages (from matminer>=0.7.4->matbench) (2.32.3)\n",
            "Requirement already satisfied: tqdm~=4.66 in c:\\users\\reka7605\\appdata\\roaming\\python\\python310\\site-packages (from matminer>=0.7.4->matbench) (4.66.5)\n",
            "Requirement already satisfied: numpy>=1.23 in c:\\users\\reka7605\\appdata\\roaming\\python\\python310\\site-packages (from matminer>=0.7.4->matbench) (1.26.4)\n",
            "Requirement already satisfied: pymatgen>=2023 in c:\\users\\reka7605\\appdata\\roaming\\python\\python310\\site-packages (from matminer>=0.7.4->matbench) (2024.10.3)\n",
            "Requirement already satisfied: threadpoolctl>=3.1.0 in c:\\users\\reka7605\\appdata\\roaming\\python\\python310\\site-packages (from scikit-learn>=1.0.1->matbench) (3.5.0)\n",
            "Requirement already satisfied: joblib>=1.2.0 in c:\\users\\reka7605\\appdata\\roaming\\python\\python310\\site-packages (from scikit-learn>=1.0.1->matbench) (1.4.2)\n",
            "Requirement already satisfied: tzdata>=2022.7 in c:\\users\\reka7605\\appdata\\roaming\\python\\python310\\site-packages (from pandas<3,>=1.5->matminer>=0.7.4->matbench) (2024.2)\n",
            "Requirement already satisfied: python-dateutil>=2.8.2 in c:\\programdata\\anaconda3\\lib\\site-packages (from pandas<3,>=1.5->matminer>=0.7.4->matbench) (2.8.2)\n",
            "Requirement already satisfied: pytz>=2020.1 in c:\\programdata\\anaconda3\\lib\\site-packages (from pandas<3,>=1.5->matminer>=0.7.4->matbench) (2022.7)\n",
            "Requirement already satisfied: uncertainties>=3.1.4 in c:\\users\\reka7605\\appdata\\roaming\\python\\python310\\site-packages (from pymatgen>=2023->matminer>=0.7.4->matbench) (3.2.2)\n",
            "Requirement already satisfied: pybtex>=0.24.0 in c:\\users\\reka7605\\appdata\\roaming\\python\\python310\\site-packages (from pymatgen>=2023->matminer>=0.7.4->matbench) (0.24.0)\n",
            "Requirement already satisfied: tabulate>=0.9 in c:\\users\\reka7605\\appdata\\roaming\\python\\python310\\site-packages (from pymatgen>=2023->matminer>=0.7.4->matbench) (0.9.0)\n",
            "Requirement already satisfied: palettable>=3.3.3 in c:\\users\\reka7605\\appdata\\roaming\\python\\python310\\site-packages (from pymatgen>=2023->matminer>=0.7.4->matbench) (3.3.3)\n",
            "Requirement already satisfied: ruamel.yaml>=0.17.0 in c:\\programdata\\anaconda3\\lib\\site-packages (from pymatgen>=2023->matminer>=0.7.4->matbench) (0.17.21)\n",
            "Requirement already satisfied: networkx>=2.2 in c:\\programdata\\anaconda3\\lib\\site-packages (from pymatgen>=2023->matminer>=0.7.4->matbench) (2.8.4)\n",
            "Requirement already satisfied: plotly>=4.5.0 in c:\\programdata\\anaconda3\\lib\\site-packages (from pymatgen>=2023->matminer>=0.7.4->matbench) (5.9.0)\n",
            "Requirement already satisfied: matplotlib>=3.8 in c:\\users\\reka7605\\appdata\\roaming\\python\\python310\\site-packages (from pymatgen>=2023->matminer>=0.7.4->matbench) (3.9.2)\n",
            "Requirement already satisfied: spglib>=2.5.0 in c:\\users\\reka7605\\appdata\\roaming\\python\\python310\\site-packages (from pymatgen>=2023->matminer>=0.7.4->matbench) (2.5.0)\n",
            "Requirement already satisfied: dnspython<3.0.0,>=1.16.0 in c:\\users\\reka7605\\appdata\\roaming\\python\\python310\\site-packages (from pymongo~=4.5->matminer>=0.7.4->matbench) (2.7.0)\n",
            "Requirement already satisfied: urllib3<3,>=1.21.1 in c:\\programdata\\anaconda3\\lib\\site-packages (from requests~=2.31->matminer>=0.7.4->matbench) (1.26.14)\n",
            "Requirement already satisfied: idna<4,>=2.5 in c:\\programdata\\anaconda3\\lib\\site-packages (from requests~=2.31->matminer>=0.7.4->matbench) (3.4)\n",
            "Requirement already satisfied: certifi>=2017.4.17 in c:\\programdata\\anaconda3\\lib\\site-packages (from requests~=2.31->matminer>=0.7.4->matbench) (2023.7.22)\n",
            "Requirement already satisfied: charset-normalizer<4,>=2 in c:\\programdata\\anaconda3\\lib\\site-packages (from requests~=2.31->matminer>=0.7.4->matbench) (2.0.4)\n",
            "Requirement already satisfied: mpmath>=0.19 in c:\\programdata\\anaconda3\\lib\\site-packages (from sympy~=1.11->matminer>=0.7.4->matbench) (1.2.1)\n",
            "Requirement already satisfied: colorama in c:\\programdata\\anaconda3\\lib\\site-packages (from tqdm~=4.66->matminer>=0.7.4->matbench) (0.4.6)\n",
            "Requirement already satisfied: cycler>=0.10 in c:\\programdata\\anaconda3\\lib\\site-packages (from matplotlib>=3.8->pymatgen>=2023->matminer>=0.7.4->matbench) (0.11.0)\n",
            "Requirement already satisfied: packaging>=20.0 in c:\\programdata\\anaconda3\\lib\\site-packages (from matplotlib>=3.8->pymatgen>=2023->matminer>=0.7.4->matbench) (22.0)\n",
            "Requirement already satisfied: pillow>=8 in c:\\programdata\\anaconda3\\lib\\site-packages (from matplotlib>=3.8->pymatgen>=2023->matminer>=0.7.4->matbench) (9.4.0)\n",
            "Requirement already satisfied: contourpy>=1.0.1 in c:\\programdata\\anaconda3\\lib\\site-packages (from matplotlib>=3.8->pymatgen>=2023->matminer>=0.7.4->matbench) (1.0.5)\n",
            "Requirement already satisfied: kiwisolver>=1.3.1 in c:\\programdata\\anaconda3\\lib\\site-packages (from matplotlib>=3.8->pymatgen>=2023->matminer>=0.7.4->matbench) (1.4.4)\n",
            "Requirement already satisfied: fonttools>=4.22.0 in c:\\programdata\\anaconda3\\lib\\site-packages (from matplotlib>=3.8->pymatgen>=2023->matminer>=0.7.4->matbench) (4.25.0)\n",
            "Requirement already satisfied: pyparsing>=2.3.1 in c:\\programdata\\anaconda3\\lib\\site-packages (from matplotlib>=3.8->pymatgen>=2023->matminer>=0.7.4->matbench) (3.0.9)\n",
            "Requirement already satisfied: tenacity>=6.2.0 in c:\\programdata\\anaconda3\\lib\\site-packages (from plotly>=4.5.0->pymatgen>=2023->matminer>=0.7.4->matbench) (8.0.1)\n",
            "Requirement already satisfied: six in c:\\programdata\\anaconda3\\lib\\site-packages (from pybtex>=0.24.0->pymatgen>=2023->matminer>=0.7.4->matbench) (1.16.0)\n",
            "Requirement already satisfied: latexcodec>=1.0.4 in c:\\users\\reka7605\\appdata\\roaming\\python\\python310\\site-packages (from pybtex>=0.24.0->pymatgen>=2023->matminer>=0.7.4->matbench) (3.0.0)\n",
            "Requirement already satisfied: PyYAML>=3.01 in c:\\programdata\\anaconda3\\lib\\site-packages (from pybtex>=0.24.0->pymatgen>=2023->matminer>=0.7.4->matbench) (6.0)\n",
            "Requirement already satisfied: ruamel.yaml.clib>=0.2.6 in c:\\programdata\\anaconda3\\lib\\site-packages (from ruamel.yaml>=0.17.0->pymatgen>=2023->matminer>=0.7.4->matbench) (0.2.6)\n",
            "Note: you may need to restart the kernel to use updated packages.\n"
          ]
        }
      ],
      "source": [
        "pip install matbench"
      ]
    },
    {
      "cell_type": "code",
      "execution_count": 5,
      "metadata": {
        "colab": {
          "base_uri": "https://localhost:8080/"
        },
        "id": "3WzObFP64zRY",
        "outputId": "203b8568-92f3-46f8-ec7e-895e663620c5"
      },
      "outputs": [
        {
          "name": "stderr",
          "output_type": "stream",
          "text": [
            "C:\\Users\\reka7605\\AppData\\Roaming\\Python\\Python310\\site-packages\\pandas\\core\\arrays\\masked.py:60: UserWarning: Pandas requires version '1.3.6' or newer of 'bottleneck' (version '1.3.5' currently installed).\n",
            "  from pandas.core import (\n"
          ]
        },
        {
          "name": "stdout",
          "output_type": "stream",
          "text": [
            "2024-10-16 14:05:20 INFO     Initialized benchmark 'matbench_v0.1' with 13 tasks: \n",
            "['matbench_dielectric',\n",
            " 'matbench_expt_gap',\n",
            " 'matbench_expt_is_metal',\n",
            " 'matbench_glass',\n",
            " 'matbench_jdft2d',\n",
            " 'matbench_log_gvrh',\n",
            " 'matbench_log_kvrh',\n",
            " 'matbench_mp_e_form',\n",
            " 'matbench_mp_gap',\n",
            " 'matbench_mp_is_metal',\n",
            " 'matbench_perovskites',\n",
            " 'matbench_phonons',\n",
            " 'matbench_steels']\n"
          ]
        }
      ],
      "source": [
        "\n",
        "from matbench.bench import MatbenchBenchmark\n",
        "mb = MatbenchBenchmark(autoload=False)"
      ]
    },
    {
      "cell_type": "code",
      "execution_count": 6,
      "metadata": {
        "id": "CD66Im5P4_SG"
      },
      "outputs": [],
      "source": [
        "import numpy as np\n",
        "from sklearn.preprocessing import StandardScaler\n",
        "from sklearn.model_selection import train_test_split\n",
        "import matplotlib.pyplot as plt\n"
      ]
    },
    {
      "cell_type": "markdown",
      "metadata": {
        "id": "KA3HQnDvAN4R"
      },
      "source": [
        "# Get first task"
      ]
    },
    {
      "cell_type": "code",
      "execution_count": 32,
      "metadata": {
        "colab": {
          "base_uri": "https://localhost:8080/"
        },
        "id": "NKUb_y7IAQ-R",
        "outputId": "45a838f0-3d38-4c44-9c6f-3454cada511a"
      },
      "outputs": [
        {
          "name": "stdout",
          "output_type": "stream",
          "text": [
            "matbench_perovskites\n",
            "2024-10-16 14:07:51 INFO     Loading dataset 'matbench_perovskites'...\n",
            "Fetching matbench_perovskites.json.gz from https://ml.materialsproject.org/projects/matbench_perovskites.json.gz to C:\\Users\\reka7605\\AppData\\Roaming\\Python\\Python310\\site-packages\\matminer\\datasets\\matbench_perovskites.json.gz\n"
          ]
        },
        {
          "name": "stderr",
          "output_type": "stream",
          "text": [
            "Fetching https://ml.materialsproject.org/projects/matbench_perovskites.json.gz in MB: 4.194304MB [00:00, 524.14MB/s]                \n"
          ]
        },
        {
          "name": "stdout",
          "output_type": "stream",
          "text": [
            "2024-10-16 14:07:55 INFO     Dataset 'matbench_perovskites loaded.\n"
          ]
        }
      ],
      "source": [
        "for task in mb.tasks:\n",
        "  if task.dataset_name == \"matbench_perovskites\":\n",
        "    print(task.dataset_name)\n",
        "    break\n",
        "\n",
        "mb.matbench_perovskites.load()\n",
        "\n",
        "for fold in task.folds:\n",
        "\n",
        "      # Inputs are either chemical compositions as strings\n",
        "      # or crystal structures as pymatgen.Structure objects.\n",
        "      # Outputs are either floats (regression tasks) or bools (classification tasks)\n",
        "      train_inputs, train_outputs = task.get_train_and_val_data(fold)"
      ]
    },
    {
      "cell_type": "code",
      "execution_count": 33,
      "metadata": {
        "colab": {
          "base_uri": "https://localhost:8080/"
        },
        "id": "QJQCyyzA_6bt",
        "outputId": "5c1ae3f5-583f-402c-b6e1-1fb970ed8206"
      },
      "outputs": [
        {
          "name": "stdout",
          "output_type": "stream",
          "text": [
            "mbid\n",
            "mb-perovskites-00002    1.52\n",
            "mb-perovskites-00003    1.48\n",
            "mb-perovskites-00004    1.24\n",
            "mb-perovskites-00005    0.62\n",
            "mb-perovskites-00006    1.48\n",
            "                        ... \n",
            "mb-perovskites-18922    0.88\n",
            "mb-perovskites-18923    1.78\n",
            "mb-perovskites-18924    1.66\n",
            "mb-perovskites-18925    2.12\n",
            "mb-perovskites-18926    1.50\n",
            "Name: e_form, Length: 15143, dtype: float64\n"
          ]
        }
      ],
      "source": [
        "print(train_outputs)"
      ]
    },
    {
      "cell_type": "code",
      "execution_count": 34,
      "metadata": {
        "id": "rmLvrrqPQzkl"
      },
      "outputs": [],
      "source": [
        "#from pydoc import help  # can type in the python console `help(name of function)` to get the documentation\n",
        "import pandas as pd\n",
        "import numpy as np\n",
        "import matplotlib.pyplot as plt\n",
        "import seaborn as sns\n",
        "from sklearn.preprocessing import scale\n",
        "from sklearn.decomposition import PCA\n",
        "from sklearn.discriminant_analysis import LinearDiscriminantAnalysis\n",
        "from scipy import stats\n",
        "from IPython.display import display, HTML\n",
        "\n",
        "# figures inline in notebook\n",
        "%matplotlib inline\n",
        "\n",
        "#np.set_printoptions(suppress=True)\n",
        "\n",
        "#DISPLAY_MAX_ROWS = 20  # number of max rows to print for a DataFrame\n",
        "#pd.set_option('display.max_rows', DISPLAY_MAX_ROWS)"
      ]
    },
    {
      "cell_type": "markdown",
      "metadata": {
        "id": "xzDsvl4yAdgN"
      },
      "source": [
        "# Prepare the data"
      ]
    },
    {
      "cell_type": "code",
      "execution_count": 35,
      "metadata": {
        "colab": {
          "base_uri": "https://localhost:8080/",
          "height": 139
        },
        "id": "rxh0YtvlKncg",
        "outputId": "a6e1929d-f527-4e9f-cbf6-ddff754d3c91"
      },
      "outputs": [
        {
          "data": {
            "text/plain": [
              "pandas.core.series.Series"
            ]
          },
          "execution_count": 35,
          "metadata": {},
          "output_type": "execute_result"
        }
      ],
      "source": [
        "type(train_inputs)"
      ]
    },
    {
      "cell_type": "code",
      "execution_count": 36,
      "metadata": {
        "colab": {
          "base_uri": "https://localhost:8080/"
        },
        "id": "NZcceCMqQcO4",
        "outputId": "0cc7d1a6-49b0-4b84-c49c-27b2d765ee8b"
      },
      "outputs": [
        {
          "name": "stderr",
          "output_type": "stream",
          "text": [
            "C:\\Users\\reka7605\\AppData\\Local\\Temp\\ipykernel_4708\\3789565351.py:1: FutureWarning: Series.__getitem__ treating keys as positions is deprecated. In a future version, integer keys will always be treated as labels (consistent with DataFrame behavior). To access a value by position, use `ser.iloc[pos]`\n",
            "  train_inputs[1]\n"
          ]
        },
        {
          "data": {
            "text/plain": [
              "Structure Summary\n",
              "Lattice\n",
              "    abc : 4.292638763849676 4.292638763849676 4.292638763849676\n",
              " angles : 90.0 90.0 90.0\n",
              " volume : 79.09937085444218\n",
              "      A : 4.292638763849676 0.0 0.0\n",
              "      B : 0.0 4.292638763849676 0.0\n",
              "      C : 0.0 0.0 4.292638763849676\n",
              "    pbc : True True True\n",
              "PeriodicSite: Re (0.6079, 0.0, 0.0) [0.1416, 0.0, 0.0]\n",
              "PeriodicSite: As (2.187, 2.146, 2.146) [0.5094, 0.5, 0.5]\n",
              "PeriodicSite: F (2.282, 0.0, 2.146) [0.5317, 0.0, 0.5]\n",
              "PeriodicSite: O (1.32, 2.146, 0.0) [0.3075, 0.5, 0.0]\n",
              "PeriodicSite: O (3.982, 2.146, 2.146) [0.9276, 0.5, 0.5]"
            ]
          },
          "execution_count": 36,
          "metadata": {},
          "output_type": "execute_result"
        }
      ],
      "source": [
        "train_inputs[1]"
      ]
    },
    {
      "cell_type": "code",
      "execution_count": 37,
      "metadata": {
        "colab": {
          "base_uri": "https://localhost:8080/"
        },
        "id": "49kAkXRVLJbv",
        "outputId": "1489557f-e3b9-405a-909c-1aed35778cd0"
      },
      "outputs": [
        {
          "name": "stderr",
          "output_type": "stream",
          "text": [
            "C:\\Users\\reka7605\\AppData\\Local\\Temp\\ipykernel_4708\\727207955.py:1: FutureWarning: Series.__getitem__ treating keys as positions is deprecated. In a future version, integer keys will always be treated as labels (consistent with DataFrame behavior). To access a value by position, use `ser.iloc[pos]`\n",
            "  train_outputs[1]\n"
          ]
        },
        {
          "data": {
            "text/plain": [
              "1.48"
            ]
          },
          "execution_count": 37,
          "metadata": {},
          "output_type": "execute_result"
        }
      ],
      "source": [
        "train_outputs[1]"
      ]
    },
    {
      "cell_type": "code",
      "execution_count": 38,
      "metadata": {
        "id": "Lzam9dpzVHfM"
      },
      "outputs": [],
      "source": [
        "def extract_features(structure_data):\n",
        "    lattice_params = structure_data.lattice.abc\n",
        "    angles = structure_data.lattice.angles\n",
        "    volume = structure_data.lattice.volume\n",
        "\n",
        "    # Extract atomic coordinates and species\n",
        "    atomic_coords = [site.frac_coords for site in structure_data.sites]\n",
        "    atomic_species = [site.specie.Z for site in structure_data.sites]\n",
        "\n",
        "    # Flatten atomic coordinates\n",
        "    atomic_coords_flat = np.array(atomic_coords).flatten()\n",
        "\n",
        "    # Ensure both atomic coordinates and species are of length 288\n",
        "    max_length = 288\n",
        "    atomic_coords_padded = np.zeros(max_length)\n",
        "    atomic_species_padded = np.zeros(max_length)\n",
        "\n",
        "    # Fill in with actual values up to their original lengths\n",
        "    atomic_coords_padded[:len(atomic_coords_flat)] = atomic_coords_flat[:min(len(atomic_coords_flat), max_length)]\n",
        "    atomic_species_padded[:len(atomic_species)] = atomic_species[:min(len(atomic_species), max_length)]\n",
        "\n",
        "    # Concatenate features\n",
        "    features = np.concatenate([lattice_params, angles, [volume], atomic_coords_padded, atomic_species_padded])\n",
        "\n",
        "    return features\n",
        "\n",
        "\n",
        "\n",
        "X = np.array([extract_features(structure) for structure in train_inputs])\n",
        "y = np.array(train_outputs)\n",
        "\n",
        "# Scale the data\n",
        "scaler = StandardScaler()\n",
        "X_scaled = scaler.fit_transform(X)\n",
        "scaler2 = StandardScaler()\n",
        "y = scaler2.fit_transform(y.reshape(-1,1))\n",
        "# Split the data into train and validation sets\n",
        "X_train, X_val, y_train, y_val = train_test_split(X_scaled ,y, test_size=0.2, random_state=42)"
      ]
    },
    {
      "cell_type": "code",
      "execution_count": 14,
      "metadata": {
        "id": "no56PNvL_siu"
      },
      "outputs": [
        {
          "name": "stdout",
          "output_type": "stream",
          "text": [
            "[[-0.31342187]\n",
            " [-0.35917381]\n",
            " [-0.26001928]\n",
            " ...\n",
            " [ 0.17517294]\n",
            " [-0.27614721]\n",
            " [ 0.05885473]]\n"
          ]
        }
      ],
      "source": [
        "print(y)"
      ]
    },
    {
      "cell_type": "code",
      "execution_count": 39,
      "metadata": {
        "id": "eRZzWolocLY3"
      },
      "outputs": [
        {
          "name": "stdout",
          "output_type": "stream",
          "text": [
            "Number of components to explain 80% of the variance: 9\n",
            "Number of components to explain 90% of the variance: 12\n"
          ]
        }
      ],
      "source": [
        "import numpy as np\n",
        "from sklearn.decomposition import PCA\n",
        "pca = PCA()\n",
        "pca.fit(X_train)\n",
        "\n",
        "# Get explained variance ratio for each component\n",
        "explained_variance = pca.explained_variance_ratio_\n",
        "\n",
        "# Compute cumulative explained variance\n",
        "cumulative_variance = np.cumsum(explained_variance)\n",
        "\n",
        "# Determine how many PCs are needed to explain at least 80% or 90% of the variance\n",
        "num_components_80 = np.argmax(cumulative_variance >= 0.80) + 1\n",
        "num_components_90 = np.argmax(cumulative_variance >= 0.90) + 1\n",
        "\n",
        "print(f'Number of components to explain 80% of the variance: {num_components_80}')\n",
        "print(f'Number of components to explain 90% of the variance: {num_components_90}')\n"
      ]
    },
    {
      "cell_type": "code",
      "execution_count": 42,
      "metadata": {
        "id": "BPL1u7FEbzlB"
      },
      "outputs": [
        {
          "name": "stdout",
          "output_type": "stream",
          "text": [
            "Mean square error 0.7317242231611455\n",
            "R² Score: 0.26962249123544435\n",
            "First 5 predictions and actual values:\n",
            "Predicted:  [[-0.38683576]\n",
            " [-0.41462367]\n",
            " [-0.11830315]\n",
            " [-0.15536732]\n",
            " [ 0.27199036]]\n",
            "Actual:  [[-1.44026567]\n",
            " [-0.58010587]\n",
            " [-0.4725859 ]\n",
            " [-0.84890581]\n",
            " [ 0.36069391]]\n"
          ]
        }
      ],
      "source": [
        "from sklearn.decomposition import PCA\n",
        "from sklearn.preprocessing import StandardScaler\n",
        "from sklearn.model_selection import train_test_split\n",
        "from sklearn.linear_model import LinearRegression\n",
        "from sklearn.metrics import mean_squared_error, r2_score\n",
        "from sklearn.model_selection import train_test_split\n",
        "from sklearn.preprocessing import StandardScaler\n",
        "import numpy as np\n",
        "\n",
        "# Step 2: Apply PCA to reduce the dimensionality of X\n",
        "pca = PCA(n_components=num_components_80) \n",
        "X_pca = pca.fit_transform(X_scaled)\n",
        "\n",
        "# Step 3: Split the data into train and validation sets\n",
        "X_train, X_val, y_train, y_val = train_test_split(X_pca, y, test_size=0.2, random_state=42)\n",
        "model = LinearRegression()\n",
        "model.fit(X_train, y_train)\n",
        "\n",
        "# Step 5: Make predictions on the validation set\n",
        "y_pred = model.predict(X_val)\n",
        "\n",
        "# Step 6: Evaluate the model's performance\n",
        "mse = mean_squared_error(y_val, y_pred)\n",
        "r2 = r2_score(y_val, y_pred)\n",
        "print(f\"Mean square error {mse}\")\n",
        "print(f\"R² Score: {r2}\")\n",
        "\n",
        "# Optional: Display some predictions alongside actual values\n",
        "print(\"First 5 predictions and actual values:\")\n",
        "print(\"Predicted: \", y_pred[:5])\n",
        "print(\"Actual: \", y_val[:5])"
      ]
    },
    {
      "cell_type": "code",
      "execution_count": 17,
      "metadata": {},
      "outputs": [
        {
          "data": {
            "text/plain": [
              "array([-1.09690431])"
            ]
          },
          "execution_count": 17,
          "metadata": {},
          "output_type": "execute_result"
        }
      ],
      "source": [
        "min(y_pred)"
      ]
    },
    {
      "cell_type": "code",
      "execution_count": 43,
      "metadata": {
        "id": "7J688558cmal"
      },
      "outputs": [
        {
          "data": {
            "image/png": "[encoded data removed]",
            "text/plain": [
              "<Figure size 1000x600 with 1 Axes>"
            ]
          },
          "metadata": {},
          "output_type": "display_data"
        }
      ],
      "source": [
        "plt.figure(figsize=(10, 6))\n",
        "plt.scatter(y_val, y_pred, color='blue', alpha=0.5)\n",
        "plt.plot([y_val.min(), y_val.max()], [y_val.min(), y_val.max()], color='red', linestyle='--')  # Diagonal line\n",
        "plt.title('Predicted vs Actual Values')\n",
        "plt.xlabel('Actual Values')\n",
        "plt.ylabel('Predicted Values')\n",
        "plt.grid()\n",
        "plt.xlim(y_val.min() - 1, y_val.max() + 1)  # Adjust x limits for better visualization\n",
        "plt.ylim(y_val.min() - 1, y_val.max() + 1)  # Adjust y limits for better visualization\n",
        "plt.axis('equal')  # Set equal scaling\n",
        "plt.show()"
      ]
    },
    {
      "cell_type": "code",
      "execution_count": 19,
      "metadata": {
        "id": "82qJKhxTYcT3"
      },
      "outputs": [
        {
          "ename": "ValueError",
          "evalue": "n_components=16 must be between 0 and min(n_samples, n_features)=1 with svd_solver='covariance_eigh'",
          "output_type": "error",
          "traceback": [
            "\u001b[1;31m---------------------------------------------------------------------------\u001b[0m",
            "\u001b[1;31mValueError\u001b[0m                                Traceback (most recent call last)",
            "Cell \u001b[1;32mIn[19], line 12\u001b[0m\n\u001b[0;32m     10\u001b[0m X_reduced \u001b[38;5;241m=\u001b[39m pca\u001b[38;5;241m.\u001b[39mfit_transform(X_scaled)\n\u001b[0;32m     11\u001b[0m pca_y \u001b[38;5;241m=\u001b[39m PCA(n_components\u001b[38;5;241m=\u001b[39m\u001b[38;5;241m16\u001b[39m)  \u001b[38;5;66;03m# Set this to the number of components you want\u001b[39;00m\n\u001b[1;32m---> 12\u001b[0m y_reduced \u001b[38;5;241m=\u001b[39m \u001b[43mpca\u001b[49m\u001b[38;5;241;43m.\u001b[39;49m\u001b[43mfit_transform\u001b[49m\u001b[43m(\u001b[49m\u001b[43my_train\u001b[49m\u001b[43m)\u001b[49m\n\u001b[0;32m     13\u001b[0m \u001b[38;5;66;03m# Step 3: Split the reduced data into train and validation sets\u001b[39;00m\n\u001b[0;32m     14\u001b[0m X_train_reduced, X_val_reduced, y_train, y_val \u001b[38;5;241m=\u001b[39m train_test_split(X_reduced, y_reduced, test_size\u001b[38;5;241m=\u001b[39m\u001b[38;5;241m0.2\u001b[39m, random_state\u001b[38;5;241m=\u001b[39m\u001b[38;5;241m42\u001b[39m)\n",
            "File \u001b[1;32m~\\AppData\\Roaming\\Python\\Python310\\site-packages\\sklearn\\utils\\_set_output.py:316\u001b[0m, in \u001b[0;36m_wrap_method_output.<locals>.wrapped\u001b[1;34m(self, X, *args, **kwargs)\u001b[0m\n\u001b[0;32m    314\u001b[0m \u001b[38;5;129m@wraps\u001b[39m(f)\n\u001b[0;32m    315\u001b[0m \u001b[38;5;28;01mdef\u001b[39;00m \u001b[38;5;21mwrapped\u001b[39m(\u001b[38;5;28mself\u001b[39m, X, \u001b[38;5;241m*\u001b[39margs, \u001b[38;5;241m*\u001b[39m\u001b[38;5;241m*\u001b[39mkwargs):\n\u001b[1;32m--> 316\u001b[0m     data_to_wrap \u001b[38;5;241m=\u001b[39m f(\u001b[38;5;28mself\u001b[39m, X, \u001b[38;5;241m*\u001b[39margs, \u001b[38;5;241m*\u001b[39m\u001b[38;5;241m*\u001b[39mkwargs)\n\u001b[0;32m    317\u001b[0m     \u001b[38;5;28;01mif\u001b[39;00m \u001b[38;5;28misinstance\u001b[39m(data_to_wrap, \u001b[38;5;28mtuple\u001b[39m):\n\u001b[0;32m    318\u001b[0m         \u001b[38;5;66;03m# only wrap the first output for cross decomposition\u001b[39;00m\n\u001b[0;32m    319\u001b[0m         return_tuple \u001b[38;5;241m=\u001b[39m (\n\u001b[0;32m    320\u001b[0m             _wrap_data_with_container(method, data_to_wrap[\u001b[38;5;241m0\u001b[39m], X, \u001b[38;5;28mself\u001b[39m),\n\u001b[0;32m    321\u001b[0m             \u001b[38;5;241m*\u001b[39mdata_to_wrap[\u001b[38;5;241m1\u001b[39m:],\n\u001b[0;32m    322\u001b[0m         )\n",
            "File \u001b[1;32m~\\AppData\\Roaming\\Python\\Python310\\site-packages\\sklearn\\base.py:1473\u001b[0m, in \u001b[0;36m_fit_context.<locals>.decorator.<locals>.wrapper\u001b[1;34m(estimator, *args, **kwargs)\u001b[0m\n\u001b[0;32m   1466\u001b[0m     estimator\u001b[38;5;241m.\u001b[39m_validate_params()\n\u001b[0;32m   1468\u001b[0m \u001b[38;5;28;01mwith\u001b[39;00m config_context(\n\u001b[0;32m   1469\u001b[0m     skip_parameter_validation\u001b[38;5;241m=\u001b[39m(\n\u001b[0;32m   1470\u001b[0m         prefer_skip_nested_validation \u001b[38;5;129;01mor\u001b[39;00m global_skip_validation\n\u001b[0;32m   1471\u001b[0m     )\n\u001b[0;32m   1472\u001b[0m ):\n\u001b[1;32m-> 1473\u001b[0m     \u001b[38;5;28;01mreturn\u001b[39;00m fit_method(estimator, \u001b[38;5;241m*\u001b[39margs, \u001b[38;5;241m*\u001b[39m\u001b[38;5;241m*\u001b[39mkwargs)\n",
            "File \u001b[1;32m~\\AppData\\Roaming\\Python\\Python310\\site-packages\\sklearn\\decomposition\\_pca.py:474\u001b[0m, in \u001b[0;36mPCA.fit_transform\u001b[1;34m(self, X, y)\u001b[0m\n\u001b[0;32m    451\u001b[0m \u001b[38;5;129m@_fit_context\u001b[39m(prefer_skip_nested_validation\u001b[38;5;241m=\u001b[39m\u001b[38;5;28;01mTrue\u001b[39;00m)\n\u001b[0;32m    452\u001b[0m \u001b[38;5;28;01mdef\u001b[39;00m \u001b[38;5;21mfit_transform\u001b[39m(\u001b[38;5;28mself\u001b[39m, X, y\u001b[38;5;241m=\u001b[39m\u001b[38;5;28;01mNone\u001b[39;00m):\n\u001b[0;32m    453\u001b[0m     \u001b[38;5;124;03m\"\"\"Fit the model with X and apply the dimensionality reduction on X.\u001b[39;00m\n\u001b[0;32m    454\u001b[0m \n\u001b[0;32m    455\u001b[0m \u001b[38;5;124;03m    Parameters\u001b[39;00m\n\u001b[1;32m   (...)\u001b[0m\n\u001b[0;32m    472\u001b[0m \u001b[38;5;124;03m    C-ordered array, use 'np.ascontiguousarray'.\u001b[39;00m\n\u001b[0;32m    473\u001b[0m \u001b[38;5;124;03m    \"\"\"\u001b[39;00m\n\u001b[1;32m--> 474\u001b[0m     U, S, _, X, x_is_centered, xp \u001b[38;5;241m=\u001b[39m \u001b[38;5;28;43mself\u001b[39;49m\u001b[38;5;241;43m.\u001b[39;49m\u001b[43m_fit\u001b[49m\u001b[43m(\u001b[49m\u001b[43mX\u001b[49m\u001b[43m)\u001b[49m\n\u001b[0;32m    475\u001b[0m     \u001b[38;5;28;01mif\u001b[39;00m U \u001b[38;5;129;01mis\u001b[39;00m \u001b[38;5;129;01mnot\u001b[39;00m \u001b[38;5;28;01mNone\u001b[39;00m:\n\u001b[0;32m    476\u001b[0m         U \u001b[38;5;241m=\u001b[39m U[:, : \u001b[38;5;28mself\u001b[39m\u001b[38;5;241m.\u001b[39mn_components_]\n",
            "File \u001b[1;32m~\\AppData\\Roaming\\Python\\Python310\\site-packages\\sklearn\\decomposition\\_pca.py:547\u001b[0m, in \u001b[0;36mPCA._fit\u001b[1;34m(self, X)\u001b[0m\n\u001b[0;32m    545\u001b[0m \u001b[38;5;66;03m# Call different fits for either full or truncated SVD\u001b[39;00m\n\u001b[0;32m    546\u001b[0m \u001b[38;5;28;01mif\u001b[39;00m \u001b[38;5;28mself\u001b[39m\u001b[38;5;241m.\u001b[39m_fit_svd_solver \u001b[38;5;129;01min\u001b[39;00m (\u001b[38;5;124m\"\u001b[39m\u001b[38;5;124mfull\u001b[39m\u001b[38;5;124m\"\u001b[39m, \u001b[38;5;124m\"\u001b[39m\u001b[38;5;124mcovariance_eigh\u001b[39m\u001b[38;5;124m\"\u001b[39m):\n\u001b[1;32m--> 547\u001b[0m     \u001b[38;5;28;01mreturn\u001b[39;00m \u001b[38;5;28;43mself\u001b[39;49m\u001b[38;5;241;43m.\u001b[39;49m\u001b[43m_fit_full\u001b[49m\u001b[43m(\u001b[49m\u001b[43mX\u001b[49m\u001b[43m,\u001b[49m\u001b[43m \u001b[49m\u001b[43mn_components\u001b[49m\u001b[43m,\u001b[49m\u001b[43m \u001b[49m\u001b[43mxp\u001b[49m\u001b[43m,\u001b[49m\u001b[43m \u001b[49m\u001b[43mis_array_api_compliant\u001b[49m\u001b[43m)\u001b[49m\n\u001b[0;32m    548\u001b[0m \u001b[38;5;28;01melif\u001b[39;00m \u001b[38;5;28mself\u001b[39m\u001b[38;5;241m.\u001b[39m_fit_svd_solver \u001b[38;5;129;01min\u001b[39;00m [\u001b[38;5;124m\"\u001b[39m\u001b[38;5;124marpack\u001b[39m\u001b[38;5;124m\"\u001b[39m, \u001b[38;5;124m\"\u001b[39m\u001b[38;5;124mrandomized\u001b[39m\u001b[38;5;124m\"\u001b[39m]:\n\u001b[0;32m    549\u001b[0m     \u001b[38;5;28;01mreturn\u001b[39;00m \u001b[38;5;28mself\u001b[39m\u001b[38;5;241m.\u001b[39m_fit_truncated(X, n_components, xp)\n",
            "File \u001b[1;32m~\\AppData\\Roaming\\Python\\Python310\\site-packages\\sklearn\\decomposition\\_pca.py:561\u001b[0m, in \u001b[0;36mPCA._fit_full\u001b[1;34m(self, X, n_components, xp, is_array_api_compliant)\u001b[0m\n\u001b[0;32m    557\u001b[0m         \u001b[38;5;28;01mraise\u001b[39;00m \u001b[38;5;167;01mValueError\u001b[39;00m(\n\u001b[0;32m    558\u001b[0m             \u001b[38;5;124m\"\u001b[39m\u001b[38;5;124mn_components=\u001b[39m\u001b[38;5;124m'\u001b[39m\u001b[38;5;124mmle\u001b[39m\u001b[38;5;124m'\u001b[39m\u001b[38;5;124m is only supported if n_samples >= n_features\u001b[39m\u001b[38;5;124m\"\u001b[39m\n\u001b[0;32m    559\u001b[0m         )\n\u001b[0;32m    560\u001b[0m \u001b[38;5;28;01melif\u001b[39;00m \u001b[38;5;129;01mnot\u001b[39;00m \u001b[38;5;241m0\u001b[39m \u001b[38;5;241m<\u001b[39m\u001b[38;5;241m=\u001b[39m n_components \u001b[38;5;241m<\u001b[39m\u001b[38;5;241m=\u001b[39m \u001b[38;5;28mmin\u001b[39m(n_samples, n_features):\n\u001b[1;32m--> 561\u001b[0m     \u001b[38;5;28;01mraise\u001b[39;00m \u001b[38;5;167;01mValueError\u001b[39;00m(\n\u001b[0;32m    562\u001b[0m         \u001b[38;5;124mf\u001b[39m\u001b[38;5;124m\"\u001b[39m\u001b[38;5;124mn_components=\u001b[39m\u001b[38;5;132;01m{\u001b[39;00mn_components\u001b[38;5;132;01m}\u001b[39;00m\u001b[38;5;124m must be between 0 and \u001b[39m\u001b[38;5;124m\"\u001b[39m\n\u001b[0;32m    563\u001b[0m         \u001b[38;5;124mf\u001b[39m\u001b[38;5;124m\"\u001b[39m\u001b[38;5;124mmin(n_samples, n_features)=\u001b[39m\u001b[38;5;132;01m{\u001b[39;00m\u001b[38;5;28mmin\u001b[39m(n_samples, n_features)\u001b[38;5;132;01m}\u001b[39;00m\u001b[38;5;124m with \u001b[39m\u001b[38;5;124m\"\u001b[39m\n\u001b[0;32m    564\u001b[0m         \u001b[38;5;124mf\u001b[39m\u001b[38;5;124m\"\u001b[39m\u001b[38;5;124msvd_solver=\u001b[39m\u001b[38;5;132;01m{\u001b[39;00m\u001b[38;5;28mself\u001b[39m\u001b[38;5;241m.\u001b[39m_fit_svd_solver\u001b[38;5;132;01m!r}\u001b[39;00m\u001b[38;5;124m\"\u001b[39m\n\u001b[0;32m    565\u001b[0m     )\n\u001b[0;32m    567\u001b[0m \u001b[38;5;28mself\u001b[39m\u001b[38;5;241m.\u001b[39mmean_ \u001b[38;5;241m=\u001b[39m xp\u001b[38;5;241m.\u001b[39mmean(X, axis\u001b[38;5;241m=\u001b[39m\u001b[38;5;241m0\u001b[39m)\n\u001b[0;32m    568\u001b[0m \u001b[38;5;66;03m# When X is a scipy sparse matrix, self.mean_ is a numpy matrix, so we need\u001b[39;00m\n\u001b[0;32m    569\u001b[0m \u001b[38;5;66;03m# to transform it to a 1D array. Note that this is not the case when X\u001b[39;00m\n\u001b[0;32m    570\u001b[0m \u001b[38;5;66;03m# is a scipy sparse array.\u001b[39;00m\n\u001b[0;32m    571\u001b[0m \u001b[38;5;66;03m# TODO: remove the following two lines when scikit-learn only depends\u001b[39;00m\n\u001b[0;32m    572\u001b[0m \u001b[38;5;66;03m# on scipy versions that no longer support scipy.sparse matrices.\u001b[39;00m\n",
            "\u001b[1;31mValueError\u001b[0m: n_components=16 must be between 0 and min(n_samples, n_features)=1 with svd_solver='covariance_eigh'"
          ]
        }
      ],
      "source": [
        "from sklearn.decomposition import PCA\n",
        "from sklearn.preprocessing import StandardScaler\n",
        "\n",
        "# Step 1: Scale the data (you have already done this)\n",
        "scaler = StandardScaler()\n",
        "X_scaled = scaler.fit_transform(X_train)\n",
        "\n",
        "# Step 2: Apply PCA\n",
        "pca = PCA(n_components=16)\n",
        "X_reduced = pca.fit_transform(X_scaled)\n",
        "pca_y = PCA(n_components=16)  # Set this to the number of components you want\n",
        "y_reduced = pca.fit_transform(y_train)\n",
        "# Step 3: Split the reduced data into train and validation sets\n",
        "X_train_reduced, X_val_reduced, y_train, y_val = train_test_split(X_reduced, y_reduced, test_size=0.2, random_state=42)"
      ]
    },
    {
      "cell_type": "code",
      "execution_count": null,
      "metadata": {
        "id": "-ol10UYUYl_1"
      },
      "outputs": [],
      "source": [
        "model = LinearRegression()\n",
        "model.fit(X_train_reduced, y_train)\n",
        "\n",
        "# Step 4: Make predictions on the validation set\n",
        "y_pred = model.predict(X_val_reduced)\n",
        "\n",
        "# Step 5: Evaluate the model performance\n",
        "mse = mean_squared_error(y_val, y_pred)\n",
        "r2 = r2_score(y_val, y_pred)\n",
        "\n",
        "print(f\"Mean Squared Error (MSE): {mse}\")\n",
        "print(f\"R² Score: {r2}\")\n",
        "\n",
        "# Optional: Display some predictions alongside actual values\n",
        "print(\"First 5 predictions and actual values:\")\n",
        "print(\"Predicted: \", y_pred[:5])\n",
        "print(\"Actual: \", y_val[:5])"
      ]
    },
    {
      "cell_type": "code",
      "execution_count": null,
      "metadata": {
        "id": "VeCLFOCINE6E"
      },
      "outputs": [],
      "source": [
        "X.shape"
      ]
    },
    {
      "cell_type": "code",
      "execution_count": null,
      "metadata": {
        "id": "Dl9QJYQ9J4Y0"
      },
      "outputs": [],
      "source": [
        "y[0]"
      ]
    },
    {
      "cell_type": "markdown",
      "metadata": {
        "id": "vtoTTgGpBg41"
      },
      "source": [
        "# ML"
      ]
    },
    {
      "cell_type": "code",
      "execution_count": null,
      "metadata": {
        "id": "UQ6evA5LBe_U"
      },
      "outputs": [],
      "source": [
        "def build_model(input_shape):\n",
        "    model = models.Sequential()\n",
        "    model.add(layers.Dense(256, activation='relu', input_dim=583))#input_shape=(,7)))\n",
        "    layers.Dropout(0.5),\n",
        "    model.add(layers.Dense(128, activation='relu'))\n",
        "    model.add(layers.Dense(64, activation='relu'))\n",
        "    model.add(layers.Dense(1, activation='linear'))\n",
        "    #model.add(layers.Dense(1))  # Output layer for regression\n",
        "    print(model.summary())\n",
        "    model.compile(optimizer='adam', loss='mean_squared_error', metrics=['mae'])\n",
        "    return model"
      ]
    },
    {
      "cell_type": "code",
      "execution_count": null,
      "metadata": {
        "id": "p4gEHUQ8Bye6"
      },
      "outputs": [],
      "source": [
        "# Build and train the Keras model\n",
        "model = build_model(X_train.shape[1])\n",
        "\n",
        "\n",
        "history = model.fit(X_train, y_train, epochs=50, batch_size=32, validation_data=(X_val, y_val))\n",
        "\n",
        "# Get test data and extract features\n",
        "test_inputs = task.get_test_data(fold, include_target=False)\n",
        "X_test = np.array([extract_features(structure) for structure in test_inputs])\n",
        "X_test_scaled = scaler.transform(X_test)\n",
        "\n",
        "# Predict on the testing data\n",
        "predictions = model.predict(X_test_scaled)\n",
        "\n",
        "\n",
        "\n",
        "train_loss = history.history[\"loss\"][1:]\n",
        "test_loss = history.history[\"val_loss\"][1:]"
      ]
    },
    {
      "cell_type": "code",
      "execution_count": null,
      "metadata": {
        "id": "n2K2zs-MIUPk"
      },
      "outputs": [],
      "source": [
        "# Prepare and plot loss over time\n",
        "plt.plot(train_loss,label=\"train\")\n",
        "plt.plot(test_loss,label=\"test\")\n",
        "plt.legend()\n",
        "plt.xlabel(\"Epochs\")\n",
        "plt.ylabel(\"Loss\")\n",
        "plt.show()"
      ]
    }
  ],
  "metadata": {
    "colab": {
      "provenance": []
    },
    "kernelspec": {
      "display_name": "Python 3",
      "name": "python3"
    },
    "language_info": {
      "codemirror_mode": {
        "name": "ipython",
        "version": 3
      },
      "file_extension": ".py",
      "mimetype": "text/x-python",
      "name": "python",
      "nbconvert_exporter": "python",
      "pygments_lexer": "ipython3",
      "version": "3.10.9"
    }
  },
  "nbformat": 4,
  "nbformat_minor": 0
}
