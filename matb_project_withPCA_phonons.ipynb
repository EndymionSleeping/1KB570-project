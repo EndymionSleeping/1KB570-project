{
  "nbformat": 4,
  "nbformat_minor": 0,
  "metadata": {
    "colab": {
      "provenance": [],
      "include_colab_link": true
    },
    "kernelspec": {
      "name": "python3",
      "display_name": "Python 3"
    },
    "language_info": {
      "name": "python"
    }
  },
  "cells": [
    {
      "cell_type": "markdown",
      "metadata": {
        "id": "view-in-github",
        "colab_type": "text"
      },
      "source": [
        "<a href=\"https://colab.research.google.com/github/EndymionSleeping/1KB570-project/blob/main/matb_project_withPCA_phonons.ipynb\" target=\"_parent\"><img src=\"https://colab.research.google.com/assets/colab-badge.svg\" alt=\"Open In Colab\"/></a>"
      ]
    },
    {
      "cell_type": "markdown",
      "source": [
        "# Init\n",
        "Handling dependancied and importing datasets"
      ],
      "metadata": {
        "id": "oPo1-nL54X9I"
      }
    },
    {
      "cell_type": "code",
      "execution_count": 1,
      "metadata": {
        "id": "seqgTdrn4R6m"
      },
      "outputs": [],
      "source": [
        "from google.colab import output\n",
        "output.enable_custom_widget_manager()\n"
      ]
    },
    {
      "cell_type": "code",
      "source": [
        "try:\n",
        "    import google.colab  # type: ignore # noqa: F401\n",
        "    %pip install git+https://github.com/hackingmaterials/matbench\n",
        "except ImportError:\n",
        "    print(\"not in Colab\")"
      ],
      "metadata": {
        "colab": {
          "base_uri": "https://localhost:8080/"
        },
        "id": "XK8sEtDK4hd3",
        "outputId": "272a7b94-3e7d-4fca-e7b8-4b021fb98e64"
      },
      "execution_count": 2,
      "outputs": [
        {
          "output_type": "stream",
          "name": "stdout",
          "text": [
            "Collecting git+https://github.com/hackingmaterials/matbench\n",
            "  Cloning https://github.com/hackingmaterials/matbench to /tmp/pip-req-build-cn32lxxw\n",
            "  Running command git clone --filter=blob:none --quiet https://github.com/hackingmaterials/matbench /tmp/pip-req-build-cn32lxxw\n",
            "  Resolved https://github.com/hackingmaterials/matbench to commit 936176db18ca4cd7b38cbd957c017a5bac770c6b\n",
            "  Installing build dependencies ... \u001b[?25l\u001b[?25hdone\n",
            "  Getting requirements to build wheel ... \u001b[?25l\u001b[?25hdone\n",
            "  Preparing metadata (pyproject.toml) ... \u001b[?25l\u001b[?25hdone\n",
            "Requirement already satisfied: matminer>=0.7.4 in /usr/local/lib/python3.10/dist-packages (from matbench==0.6) (0.9.3)\n",
            "Requirement already satisfied: scipy>=1.9.0 in /usr/local/lib/python3.10/dist-packages (from matbench==0.6) (1.13.1)\n",
            "Requirement already satisfied: monty>=2022.4.26 in /usr/local/lib/python3.10/dist-packages (from matbench==0.6) (2024.7.30)\n",
            "Requirement already satisfied: scikit-learn>=1.0.1 in /usr/local/lib/python3.10/dist-packages (from matbench==0.6) (1.5.2)\n",
            "Requirement already satisfied: numpy>=1.23 in /usr/local/lib/python3.10/dist-packages (from matminer>=0.7.4->matbench==0.6) (1.26.4)\n",
            "Requirement already satisfied: requests~=2.31 in /usr/local/lib/python3.10/dist-packages (from matminer>=0.7.4->matbench==0.6) (2.32.3)\n",
            "Requirement already satisfied: pandas<3,>=1.5 in /usr/local/lib/python3.10/dist-packages (from matminer>=0.7.4->matbench==0.6) (2.2.2)\n",
            "Requirement already satisfied: tqdm~=4.66 in /usr/local/lib/python3.10/dist-packages (from matminer>=0.7.4->matbench==0.6) (4.66.5)\n",
            "Requirement already satisfied: pymongo~=4.5 in /usr/local/lib/python3.10/dist-packages (from matminer>=0.7.4->matbench==0.6) (4.10.1)\n",
            "Requirement already satisfied: sympy~=1.11 in /usr/local/lib/python3.10/dist-packages (from matminer>=0.7.4->matbench==0.6) (1.13.3)\n",
            "Requirement already satisfied: pymatgen>=2023 in /usr/local/lib/python3.10/dist-packages (from matminer>=0.7.4->matbench==0.6) (2024.10.3)\n",
            "Requirement already satisfied: joblib>=1.2.0 in /usr/local/lib/python3.10/dist-packages (from scikit-learn>=1.0.1->matbench==0.6) (1.4.2)\n",
            "Requirement already satisfied: threadpoolctl>=3.1.0 in /usr/local/lib/python3.10/dist-packages (from scikit-learn>=1.0.1->matbench==0.6) (3.5.0)\n",
            "Requirement already satisfied: python-dateutil>=2.8.2 in /usr/local/lib/python3.10/dist-packages (from pandas<3,>=1.5->matminer>=0.7.4->matbench==0.6) (2.8.2)\n",
            "Requirement already satisfied: pytz>=2020.1 in /usr/local/lib/python3.10/dist-packages (from pandas<3,>=1.5->matminer>=0.7.4->matbench==0.6) (2024.2)\n",
            "Requirement already satisfied: tzdata>=2022.7 in /usr/local/lib/python3.10/dist-packages (from pandas<3,>=1.5->matminer>=0.7.4->matbench==0.6) (2024.2)\n",
            "Requirement already satisfied: matplotlib>=3.8 in /usr/local/lib/python3.10/dist-packages (from pymatgen>=2023->matminer>=0.7.4->matbench==0.6) (3.9.2)\n",
            "Requirement already satisfied: networkx>=2.2 in /usr/local/lib/python3.10/dist-packages (from pymatgen>=2023->matminer>=0.7.4->matbench==0.6) (3.4)\n",
            "Requirement already satisfied: palettable>=3.3.3 in /usr/local/lib/python3.10/dist-packages (from pymatgen>=2023->matminer>=0.7.4->matbench==0.6) (3.3.3)\n",
            "Requirement already satisfied: plotly>=4.5.0 in /usr/local/lib/python3.10/dist-packages (from pymatgen>=2023->matminer>=0.7.4->matbench==0.6) (5.24.1)\n",
            "Requirement already satisfied: pybtex>=0.24.0 in /usr/local/lib/python3.10/dist-packages (from pymatgen>=2023->matminer>=0.7.4->matbench==0.6) (0.24.0)\n",
            "Requirement already satisfied: ruamel.yaml>=0.17.0 in /usr/local/lib/python3.10/dist-packages (from pymatgen>=2023->matminer>=0.7.4->matbench==0.6) (0.18.6)\n",
            "Requirement already satisfied: spglib>=2.5.0 in /usr/local/lib/python3.10/dist-packages (from pymatgen>=2023->matminer>=0.7.4->matbench==0.6) (2.5.0)\n",
            "Requirement already satisfied: tabulate>=0.9 in /usr/local/lib/python3.10/dist-packages (from pymatgen>=2023->matminer>=0.7.4->matbench==0.6) (0.9.0)\n",
            "Requirement already satisfied: uncertainties>=3.1.4 in /usr/local/lib/python3.10/dist-packages (from pymatgen>=2023->matminer>=0.7.4->matbench==0.6) (3.2.2)\n",
            "Requirement already satisfied: dnspython<3.0.0,>=1.16.0 in /usr/local/lib/python3.10/dist-packages (from pymongo~=4.5->matminer>=0.7.4->matbench==0.6) (2.7.0)\n",
            "Requirement already satisfied: charset-normalizer<4,>=2 in /usr/local/lib/python3.10/dist-packages (from requests~=2.31->matminer>=0.7.4->matbench==0.6) (3.4.0)\n",
            "Requirement already satisfied: idna<4,>=2.5 in /usr/local/lib/python3.10/dist-packages (from requests~=2.31->matminer>=0.7.4->matbench==0.6) (3.10)\n",
            "Requirement already satisfied: urllib3<3,>=1.21.1 in /usr/local/lib/python3.10/dist-packages (from requests~=2.31->matminer>=0.7.4->matbench==0.6) (2.2.3)\n",
            "Requirement already satisfied: certifi>=2017.4.17 in /usr/local/lib/python3.10/dist-packages (from requests~=2.31->matminer>=0.7.4->matbench==0.6) (2024.8.30)\n",
            "Requirement already satisfied: mpmath<1.4,>=1.1.0 in /usr/local/lib/python3.10/dist-packages (from sympy~=1.11->matminer>=0.7.4->matbench==0.6) (1.3.0)\n",
            "Requirement already satisfied: contourpy>=1.0.1 in /usr/local/lib/python3.10/dist-packages (from matplotlib>=3.8->pymatgen>=2023->matminer>=0.7.4->matbench==0.6) (1.3.0)\n",
            "Requirement already satisfied: cycler>=0.10 in /usr/local/lib/python3.10/dist-packages (from matplotlib>=3.8->pymatgen>=2023->matminer>=0.7.4->matbench==0.6) (0.12.1)\n",
            "Requirement already satisfied: fonttools>=4.22.0 in /usr/local/lib/python3.10/dist-packages (from matplotlib>=3.8->pymatgen>=2023->matminer>=0.7.4->matbench==0.6) (4.54.1)\n",
            "Requirement already satisfied: kiwisolver>=1.3.1 in /usr/local/lib/python3.10/dist-packages (from matplotlib>=3.8->pymatgen>=2023->matminer>=0.7.4->matbench==0.6) (1.4.7)\n",
            "Requirement already satisfied: packaging>=20.0 in /usr/local/lib/python3.10/dist-packages (from matplotlib>=3.8->pymatgen>=2023->matminer>=0.7.4->matbench==0.6) (24.1)\n",
            "Requirement already satisfied: pillow>=8 in /usr/local/lib/python3.10/dist-packages (from matplotlib>=3.8->pymatgen>=2023->matminer>=0.7.4->matbench==0.6) (10.4.0)\n",
            "Requirement already satisfied: pyparsing>=2.3.1 in /usr/local/lib/python3.10/dist-packages (from matplotlib>=3.8->pymatgen>=2023->matminer>=0.7.4->matbench==0.6) (3.1.4)\n",
            "Requirement already satisfied: tenacity>=6.2.0 in /usr/local/lib/python3.10/dist-packages (from plotly>=4.5.0->pymatgen>=2023->matminer>=0.7.4->matbench==0.6) (9.0.0)\n",
            "Requirement already satisfied: PyYAML>=3.01 in /usr/local/lib/python3.10/dist-packages (from pybtex>=0.24.0->pymatgen>=2023->matminer>=0.7.4->matbench==0.6) (6.0.2)\n",
            "Requirement already satisfied: latexcodec>=1.0.4 in /usr/local/lib/python3.10/dist-packages (from pybtex>=0.24.0->pymatgen>=2023->matminer>=0.7.4->matbench==0.6) (3.0.0)\n",
            "Requirement already satisfied: six in /usr/local/lib/python3.10/dist-packages (from pybtex>=0.24.0->pymatgen>=2023->matminer>=0.7.4->matbench==0.6) (1.16.0)\n",
            "Requirement already satisfied: ruamel.yaml.clib>=0.2.7 in /usr/local/lib/python3.10/dist-packages (from ruamel.yaml>=0.17.0->pymatgen>=2023->matminer>=0.7.4->matbench==0.6) (0.2.8)\n"
          ]
        }
      ]
    },
    {
      "cell_type": "code",
      "source": [
        "from matbench.bench import MatbenchBenchmark\n",
        "mb = MatbenchBenchmark(autoload=False)"
      ],
      "metadata": {
        "colab": {
          "base_uri": "https://localhost:8080/"
        },
        "id": "3WzObFP64zRY",
        "outputId": "72dc2e0c-7891-48bb-9b66-8912d0acf22c"
      },
      "execution_count": 3,
      "outputs": [
        {
          "output_type": "stream",
          "name": "stdout",
          "text": [
            "2024-10-16 09:58:23 INFO     Initialized benchmark 'matbench_v0.1' with 13 tasks: \n",
            "['matbench_dielectric',\n",
            " 'matbench_expt_gap',\n",
            " 'matbench_expt_is_metal',\n",
            " 'matbench_glass',\n",
            " 'matbench_jdft2d',\n",
            " 'matbench_log_gvrh',\n",
            " 'matbench_log_kvrh',\n",
            " 'matbench_mp_e_form',\n",
            " 'matbench_mp_gap',\n",
            " 'matbench_mp_is_metal',\n",
            " 'matbench_perovskites',\n",
            " 'matbench_phonons',\n",
            " 'matbench_steels']\n"
          ]
        },
        {
          "output_type": "stream",
          "name": "stderr",
          "text": [
            "INFO:matbench:Initialized benchmark 'matbench_v0.1' with 13 tasks: \n",
            "['matbench_dielectric',\n",
            " 'matbench_expt_gap',\n",
            " 'matbench_expt_is_metal',\n",
            " 'matbench_glass',\n",
            " 'matbench_jdft2d',\n",
            " 'matbench_log_gvrh',\n",
            " 'matbench_log_kvrh',\n",
            " 'matbench_mp_e_form',\n",
            " 'matbench_mp_gap',\n",
            " 'matbench_mp_is_metal',\n",
            " 'matbench_perovskites',\n",
            " 'matbench_phonons',\n",
            " 'matbench_steels']\n"
          ]
        }
      ]
    },
    {
      "cell_type": "code",
      "source": [
        "import numpy as np\n",
        "from sklearn.preprocessing import StandardScaler\n",
        "from sklearn.model_selection import train_test_split\n",
        "import tensorflow as tf\n",
        "from tensorflow.keras import layers, models\n",
        "import matplotlib.pyplot as plt\n"
      ],
      "metadata": {
        "id": "CD66Im5P4_SG"
      },
      "execution_count": 4,
      "outputs": []
    },
    {
      "cell_type": "markdown",
      "source": [
        "# Get first task"
      ],
      "metadata": {
        "id": "KA3HQnDvAN4R"
      }
    },
    {
      "cell_type": "code",
      "source": [
        "for task in mb.tasks:\n",
        "  if task.dataset_name == \"matbench_phonons\":\n",
        "    print(task.dataset_name)\n",
        "    break\n",
        "\n",
        "mb.matbench_phonons.load()\n",
        "\n",
        "for fold in task.folds:\n",
        "\n",
        "      # Inputs are either chemical compositions as strings\n",
        "      # or crystal structures as pymatgen.Structure objects.\n",
        "      # Outputs are either floats (regression tasks) or bools (classification tasks)\n",
        "      train_inputs, train_outputs = task.get_train_and_val_data(fold)"
      ],
      "metadata": {
        "colab": {
          "base_uri": "https://localhost:8080/"
        },
        "id": "NKUb_y7IAQ-R",
        "outputId": "7464ad06-e3c2-4eff-97cb-7dbe248ce251"
      },
      "execution_count": 5,
      "outputs": [
        {
          "output_type": "stream",
          "name": "stdout",
          "text": [
            "matbench_phonons\n",
            "2024-10-16 09:58:28 INFO     Loading dataset 'matbench_phonons'...\n"
          ]
        },
        {
          "output_type": "stream",
          "name": "stderr",
          "text": [
            "INFO:matbench.task:Loading dataset 'matbench_phonons'...\n"
          ]
        },
        {
          "output_type": "stream",
          "name": "stdout",
          "text": [
            "2024-10-16 09:58:29 INFO     Dataset 'matbench_phonons loaded.\n"
          ]
        },
        {
          "output_type": "stream",
          "name": "stderr",
          "text": [
            "INFO:matbench.task:Dataset 'matbench_phonons loaded.\n"
          ]
        }
      ]
    },
    {
      "cell_type": "code",
      "source": [
        "#from pydoc import help  # can type in the python console `help(name of function)` to get the documentation\n",
        "import pandas as pd\n",
        "import numpy as np\n",
        "import matplotlib.pyplot as plt\n",
        "import seaborn as sns\n",
        "from sklearn.preprocessing import scale\n",
        "from sklearn.decomposition import PCA\n",
        "from sklearn.discriminant_analysis import LinearDiscriminantAnalysis\n",
        "from scipy import stats\n",
        "from IPython.display import display, HTML\n",
        "\n",
        "# figures inline in notebook\n",
        "%matplotlib inline\n",
        "\n",
        "np.set_printoptions(suppress=True)\n",
        "\n",
        "DISPLAY_MAX_ROWS = 20  # number of max rows to print for a DataFrame\n",
        "pd.set_option('display.max_rows', DISPLAY_MAX_ROWS)"
      ],
      "metadata": {
        "id": "rmLvrrqPQzkl"
      },
      "execution_count": 6,
      "outputs": []
    },
    {
      "cell_type": "markdown",
      "source": [
        "# Prepare the data"
      ],
      "metadata": {
        "id": "xzDsvl4yAdgN"
      }
    },
    {
      "cell_type": "code",
      "source": [
        "type(train_inputs)"
      ],
      "metadata": {
        "colab": {
          "base_uri": "https://localhost:8080/",
          "height": 203
        },
        "id": "rxh0YtvlKncg",
        "outputId": "877c8a7d-c50d-4d60-b8ec-18a39be053a4"
      },
      "execution_count": 7,
      "outputs": [
        {
          "output_type": "execute_result",
          "data": {
            "text/plain": [
              "pandas.core.series.Series"
            ],
            "text/html": [
              "<div style=\"max-width:800px; border: 1px solid var(--colab-border-color);\"><style>\n",
              "      pre.function-repr-contents {\n",
              "        overflow-x: auto;\n",
              "        padding: 8px 12px;\n",
              "        max-height: 500px;\n",
              "      }\n",
              "\n",
              "      pre.function-repr-contents.function-repr-contents-collapsed {\n",
              "        cursor: pointer;\n",
              "        max-height: 100px;\n",
              "      }\n",
              "    </style>\n",
              "    <pre style=\"white-space: initial; background:\n",
              "         var(--colab-secondary-surface-color); padding: 8px 12px;\n",
              "         border-bottom: 1px solid var(--colab-border-color);\"><b>pandas.core.series.Series</b><br/>def __init__(data=None, index=None, dtype: Dtype | None=None, name=None, copy: bool | None=None, fastpath: bool | lib.NoDefault=lib.no_default) -&gt; None</pre><pre class=\"function-repr-contents function-repr-contents-collapsed\" style=\"\"><a class=\"filepath\" style=\"display:none\" href=\"#\">/usr/local/lib/python3.10/dist-packages/pandas/core/series.py</a>One-dimensional ndarray with axis labels (including time series).\n",
              "\n",
              "Labels need not be unique but must be a hashable type. The object\n",
              "supports both integer- and label-based indexing and provides a host of\n",
              "methods for performing operations involving the index. Statistical\n",
              "methods from ndarray have been overridden to automatically exclude\n",
              "missing data (currently represented as NaN).\n",
              "\n",
              "Operations between Series (+, -, /, \\*, \\*\\*) align values based on their\n",
              "associated index values-- they need not be the same length. The result\n",
              "index will be the sorted union of the two indexes.\n",
              "\n",
              "Parameters\n",
              "----------\n",
              "data : array-like, Iterable, dict, or scalar value\n",
              "    Contains data stored in Series. If data is a dict, argument order is\n",
              "    maintained.\n",
              "index : array-like or Index (1d)\n",
              "    Values must be hashable and have the same length as `data`.\n",
              "    Non-unique index values are allowed. Will default to\n",
              "    RangeIndex (0, 1, 2, ..., n) if not provided. If data is dict-like\n",
              "    and index is None, then the keys in the data are used as the index. If the\n",
              "    index is not None, the resulting Series is reindexed with the index values.\n",
              "dtype : str, numpy.dtype, or ExtensionDtype, optional\n",
              "    Data type for the output Series. If not specified, this will be\n",
              "    inferred from `data`.\n",
              "    See the :ref:`user guide &lt;basics.dtypes&gt;` for more usages.\n",
              "name : Hashable, default None\n",
              "    The name to give to the Series.\n",
              "copy : bool, default False\n",
              "    Copy input data. Only affects Series or 1d ndarray input. See examples.\n",
              "\n",
              "Notes\n",
              "-----\n",
              "Please reference the :ref:`User Guide &lt;basics.series&gt;` for more information.\n",
              "\n",
              "Examples\n",
              "--------\n",
              "Constructing Series from a dictionary with an Index specified\n",
              "\n",
              "&gt;&gt;&gt; d = {&#x27;a&#x27;: 1, &#x27;b&#x27;: 2, &#x27;c&#x27;: 3}\n",
              "&gt;&gt;&gt; ser = pd.Series(data=d, index=[&#x27;a&#x27;, &#x27;b&#x27;, &#x27;c&#x27;])\n",
              "&gt;&gt;&gt; ser\n",
              "a   1\n",
              "b   2\n",
              "c   3\n",
              "dtype: int64\n",
              "\n",
              "The keys of the dictionary match with the Index values, hence the Index\n",
              "values have no effect.\n",
              "\n",
              "&gt;&gt;&gt; d = {&#x27;a&#x27;: 1, &#x27;b&#x27;: 2, &#x27;c&#x27;: 3}\n",
              "&gt;&gt;&gt; ser = pd.Series(data=d, index=[&#x27;x&#x27;, &#x27;y&#x27;, &#x27;z&#x27;])\n",
              "&gt;&gt;&gt; ser\n",
              "x   NaN\n",
              "y   NaN\n",
              "z   NaN\n",
              "dtype: float64\n",
              "\n",
              "Note that the Index is first build with the keys from the dictionary.\n",
              "After this the Series is reindexed with the given Index values, hence we\n",
              "get all NaN as a result.\n",
              "\n",
              "Constructing Series from a list with `copy=False`.\n",
              "\n",
              "&gt;&gt;&gt; r = [1, 2]\n",
              "&gt;&gt;&gt; ser = pd.Series(r, copy=False)\n",
              "&gt;&gt;&gt; ser.iloc[0] = 999\n",
              "&gt;&gt;&gt; r\n",
              "[1, 2]\n",
              "&gt;&gt;&gt; ser\n",
              "0    999\n",
              "1      2\n",
              "dtype: int64\n",
              "\n",
              "Due to input data type the Series has a `copy` of\n",
              "the original data even though `copy=False`, so\n",
              "the data is unchanged.\n",
              "\n",
              "Constructing Series from a 1d ndarray with `copy=False`.\n",
              "\n",
              "&gt;&gt;&gt; r = np.array([1, 2])\n",
              "&gt;&gt;&gt; ser = pd.Series(r, copy=False)\n",
              "&gt;&gt;&gt; ser.iloc[0] = 999\n",
              "&gt;&gt;&gt; r\n",
              "array([999,   2])\n",
              "&gt;&gt;&gt; ser\n",
              "0    999\n",
              "1      2\n",
              "dtype: int64\n",
              "\n",
              "Due to input data type the Series has a `view` on\n",
              "the original data, so\n",
              "the data is changed as well.</pre>\n",
              "      <script>\n",
              "      if (google.colab.kernel.accessAllowed && google.colab.files && google.colab.files.view) {\n",
              "        for (const element of document.querySelectorAll('.filepath')) {\n",
              "          element.style.display = 'block'\n",
              "          element.onclick = (event) => {\n",
              "            event.preventDefault();\n",
              "            event.stopPropagation();\n",
              "            google.colab.files.view(element.textContent, 263);\n",
              "          };\n",
              "        }\n",
              "      }\n",
              "      for (const element of document.querySelectorAll('.function-repr-contents')) {\n",
              "        element.onclick = (event) => {\n",
              "          event.preventDefault();\n",
              "          event.stopPropagation();\n",
              "          element.classList.toggle('function-repr-contents-collapsed');\n",
              "        };\n",
              "      }\n",
              "      </script>\n",
              "      </div>"
            ]
          },
          "metadata": {},
          "execution_count": 7
        }
      ]
    },
    {
      "cell_type": "code",
      "source": [
        "import pandas as pd\n",
        "\n",
        "# Assuming you already have the extract_features function defined earlier\n",
        "def extract_features(structure_data):\n",
        "    lattice_params = structure_data.lattice.abc\n",
        "    angles = structure_data.lattice.angles\n",
        "    volume = structure_data.lattice.volume\n",
        "\n",
        "    # Extract atomic coordinates and species\n",
        "    atomic_coords = [site.frac_coords for site in structure_data.sites]\n",
        "    atomic_species = [site.specie.Z for site in structure_data.sites]\n",
        "\n",
        "    # Flatten atomic coordinates\n",
        "    atomic_coords_flat = np.array(atomic_coords).flatten()\n",
        "\n",
        "    # Ensure both atomic coordinates and species are of length 288\n",
        "    max_length = 288\n",
        "    atomic_coords_padded = np.zeros(max_length)\n",
        "    atomic_species_padded = np.zeros(max_length)\n",
        "\n",
        "    # Fill in with actual values up to their original lengths\n",
        "    atomic_coords_padded[:len(atomic_coords_flat)] = atomic_coords_flat[:min(len(atomic_coords_flat), max_length)]\n",
        "    atomic_species_padded[:len(atomic_species)] = atomic_species[:min(len(atomic_species), max_length)]\n",
        "\n",
        "    # Concatenate features\n",
        "    features = np.concatenate([lattice_params, angles, [volume], atomic_coords_padded, atomic_species_padded])\n",
        "\n",
        "    return features\n",
        "\n",
        "# Now, let's load the data from matbench_phonons and process train_inputs\n",
        "for task in mb.tasks:\n",
        "    if task.dataset_name == \"matbench_phonons\":\n",
        "        print(task.dataset_name)\n",
        "        break\n",
        "\n",
        "mb.matbench_phonons.load()\n",
        "\n",
        "# Assuming we are processing a single fold for demonstration purposes\n",
        "for fold in task.folds:\n",
        "    train_inputs, train_outputs = task.get_train_and_val_data(fold)\n",
        "\n",
        "    # Extract features from each structure in train_inputs\n",
        "    X = np.array([extract_features(structure) for structure in train_inputs])\n",
        "    y = np.array(train_outputs)\n",
        "\n",
        "    # Number of features extracted\n",
        "    lattice_param_columns = ['lattice_a', 'lattice_b', 'lattice_c']\n",
        "    angle_columns = ['angle_alpha', 'angle_beta', 'angle_gamma']\n",
        "    volume_column = ['volume']\n",
        "    atomic_coord_columns = [f'atomic_coord_{i}' for i in range(288)]\n",
        "    atomic_species_columns = [f'atomic_species_{i}' for i in range(288)]\n",
        "\n",
        "    # Combine all column names\n",
        "    column_names = lattice_param_columns + angle_columns + volume_column + atomic_coord_columns + atomic_species_columns\n",
        "\n",
        "    # Convert X to DataFrame\n",
        "    X_df = pd.DataFrame(X, columns=column_names)\n",
        "\n",
        "    # Display the first few rows of the DataFrame\n",
        "print(X_df.head())\n",
        "\n",
        "\n",
        "    # Continue with further processing if needed (scaling, modeling, etc.)\n"
      ],
      "metadata": {
        "id": "xFSEKyzJP9C4",
        "outputId": "d5a6c1ad-f76c-42f1-a4ad-5e96144a4c10",
        "colab": {
          "base_uri": "https://localhost:8080/"
        }
      },
      "execution_count": 8,
      "outputs": [
        {
          "output_type": "stream",
          "name": "stdout",
          "text": [
            "matbench_phonons\n",
            "2024-10-16 09:58:29 INFO     Dataset matbench_phonons already loaded; not reloading dataset.\n"
          ]
        },
        {
          "output_type": "stream",
          "name": "stderr",
          "text": [
            "INFO:matbench.task:Dataset matbench_phonons already loaded; not reloading dataset.\n"
          ]
        },
        {
          "output_type": "stream",
          "name": "stdout",
          "text": [
            "   lattice_a  lattice_b  lattice_c  angle_alpha  angle_beta  angle_gamma  \\\n",
            "0   3.407727   3.407727   3.407727         60.0        60.0    60.000000   \n",
            "1   4.301500   4.301500   5.270300         90.0        90.0   120.000002   \n",
            "2   3.164181   3.164181   4.467331         90.0        90.0    90.000000   \n",
            "3   3.200305   3.200257   5.298093         90.0        90.0   120.000499   \n",
            "4   4.236071   4.236071   4.236071         60.0        60.0    60.000000   \n",
            "\n",
            "      volume  atomic_coord_0  atomic_coord_1  atomic_coord_2  ...  \\\n",
            "0  27.982032        0.250000        0.250000        0.250000  ...   \n",
            "1  84.451193        0.000000        0.000000        0.000000  ...   \n",
            "2  44.727112        0.500000        0.500000        0.500000  ...   \n",
            "3  46.992041        0.666669        0.333339        0.500274  ...   \n",
            "4  53.749544        0.000000        0.000000        0.000000  ...   \n",
            "\n",
            "   atomic_species_278  atomic_species_279  atomic_species_280  \\\n",
            "0                 0.0                 0.0                 0.0   \n",
            "1                 0.0                 0.0                 0.0   \n",
            "2                 0.0                 0.0                 0.0   \n",
            "3                 0.0                 0.0                 0.0   \n",
            "4                 0.0                 0.0                 0.0   \n",
            "\n",
            "   atomic_species_281  atomic_species_282  atomic_species_283  \\\n",
            "0                 0.0                 0.0                 0.0   \n",
            "1                 0.0                 0.0                 0.0   \n",
            "2                 0.0                 0.0                 0.0   \n",
            "3                 0.0                 0.0                 0.0   \n",
            "4                 0.0                 0.0                 0.0   \n",
            "\n",
            "   atomic_species_284  atomic_species_285  atomic_species_286  \\\n",
            "0                 0.0                 0.0                 0.0   \n",
            "1                 0.0                 0.0                 0.0   \n",
            "2                 0.0                 0.0                 0.0   \n",
            "3                 0.0                 0.0                 0.0   \n",
            "4                 0.0                 0.0                 0.0   \n",
            "\n",
            "   atomic_species_287  \n",
            "0                 0.0  \n",
            "1                 0.0  \n",
            "2                 0.0  \n",
            "3                 0.0  \n",
            "4                 0.0  \n",
            "\n",
            "[5 rows x 583 columns]\n"
          ]
        }
      ]
    },
    {
      "cell_type": "code",
      "source": [
        "train_inputs[1]"
      ],
      "metadata": {
        "id": "NZcceCMqQcO4",
        "outputId": "4e7292b5-d9d6-48c3-f80b-1d7d69649d60",
        "colab": {
          "base_uri": "https://localhost:8080/"
        }
      },
      "execution_count": 9,
      "outputs": [
        {
          "output_type": "stream",
          "name": "stderr",
          "text": [
            "<ipython-input-9-1c8cd56008e5>:1: FutureWarning: Series.__getitem__ treating keys as positions is deprecated. In a future version, integer keys will always be treated as labels (consistent with DataFrame behavior). To access a value by position, use `ser.iloc[pos]`\n",
            "  train_inputs[1]\n"
          ]
        },
        {
          "output_type": "execute_result",
          "data": {
            "text/plain": [
              "Structure Summary\n",
              "Lattice\n",
              "    abc : 4.3015 4.301499762381023 5.2703\n",
              " angles : 90.0 90.0 120.00000182735626\n",
              " volume : 84.45119345190359\n",
              "      A : 4.3015 0.0 0.0\n",
              "      B : -2.15075 3.725208 0.0\n",
              "      C : 0.0 0.0 5.2703\n",
              "    pbc : True True True\n",
              "PeriodicSite: Ba (0.0, 0.0, 0.0) [0.0, 0.0, 0.0]\n",
              "PeriodicSite: Ga (2.151, 1.242, 2.858) [0.6666, 0.3333, 0.5423]\n",
              "PeriodicSite: Si (0.0002151, 2.484, 2.401) [0.3334, 0.6667, 0.4555]\n",
              "PeriodicSite: H (2.151, 1.242, 4.616) [0.6666, 0.3333, 0.8759]"
            ]
          },
          "metadata": {},
          "execution_count": 9
        }
      ]
    },
    {
      "cell_type": "code",
      "source": [
        "train_outputs[0]"
      ],
      "metadata": {
        "colab": {
          "base_uri": "https://localhost:8080/"
        },
        "id": "49kAkXRVLJbv",
        "outputId": "0863a1df-1822-47ed-c3a5-73512df4c451"
      },
      "execution_count": 10,
      "outputs": [
        {
          "output_type": "stream",
          "name": "stderr",
          "text": [
            "<ipython-input-10-e9e97d7e989a>:1: FutureWarning: Series.__getitem__ treating keys as positions is deprecated. In a future version, integer keys will always be treated as labels (consistent with DataFrame behavior). To access a value by position, use `ser.iloc[pos]`\n",
            "  train_outputs[0]\n"
          ]
        },
        {
          "output_type": "execute_result",
          "data": {
            "text/plain": [
              "701.5857233477558"
            ]
          },
          "metadata": {},
          "execution_count": 10
        }
      ]
    },
    {
      "cell_type": "code",
      "source": [
        "def extract_features(structure_data):\n",
        "    lattice_params = structure_data.lattice.abc\n",
        "    angles = structure_data.lattice.angles\n",
        "    volume = structure_data.lattice.volume\n",
        "\n",
        "    # Extract atomic coordinates and species\n",
        "    atomic_coords = [site.frac_coords for site in structure_data.sites]\n",
        "    atomic_species = [site.specie.Z for site in structure_data.sites]\n",
        "\n",
        "    # Flatten atomic coordinates\n",
        "    atomic_coords_flat = np.array(atomic_coords).flatten()\n",
        "\n",
        "    # Ensure both atomic coordinates and species are of length 288\n",
        "    max_length = 288\n",
        "    atomic_coords_padded = np.zeros(max_length)\n",
        "    atomic_species_padded = np.zeros(max_length)\n",
        "\n",
        "    # Fill in with actual values up to their original lengths\n",
        "    atomic_coords_padded[:len(atomic_coords_flat)] = atomic_coords_flat[:min(len(atomic_coords_flat), max_length)]\n",
        "    atomic_species_padded[:len(atomic_species)] = atomic_species[:min(len(atomic_species), max_length)]\n",
        "\n",
        "    # Concatenate features\n",
        "    features = np.concatenate([lattice_params, angles, [volume], atomic_coords_padded, atomic_species_padded])\n",
        "\n",
        "    return features\n",
        "\n",
        "\n",
        "\n",
        "X = np.array([extract_features(structure) for structure in train_inputs])\n",
        "y = np.array(train_outputs)\n",
        "\n",
        "# Scale the data\n",
        "scaler = StandardScaler()\n",
        "X_scaled = scaler.fit_transform(X)\n",
        "scaler2 = StandardScaler()\n",
        "y = scaler2.fit_transform(y.reshape(-1,1))\n",
        "# Split the data into train and validation sets\n",
        "X_train, X_val, y_train, y_val = train_test_split(X_scaled ,y, test_size=0.2, random_state=42)"
      ],
      "metadata": {
        "id": "Lzam9dpzVHfM"
      },
      "execution_count": 42,
      "outputs": []
    },
    {
      "cell_type": "code",
      "source": [
        "from sklearn.decomposition import PCA\n",
        "from sklearn.preprocessing import StandardScaler\n",
        "from sklearn.model_selection import train_test_split\n",
        "from sklearn.linear_model import LinearRegression\n",
        "from sklearn.metrics import mean_squared_error, r2_score\n",
        "from sklearn.model_selection import train_test_split\n",
        "from sklearn.preprocessing import StandardScaler\n",
        "import numpy as np\n",
        "\n",
        "# Step 2: Apply PCA to reduce the dimensionality of X\n",
        " # You can change the number of components to what you need\n",
        "model = LinearRegression()\n",
        "model.fit(X_train, y_train)\n",
        "\n",
        "# Step 5: Make predictions on the validation set\n",
        "y_pred = model.predict(X_val)\n",
        "\n",
        "# Step 6: Evaluate the model's performance\n",
        "mse = mean_squared_error(y_val, y_pred)\n",
        "r2 = r2_score(y_val, y_pred)\n",
        "\n",
        "print(f\"Mean Squared Error (MSE): {mse}\")\n",
        "print(f\"R² Score: {r2}\")\n",
        "\n",
        "# Optional: Display some predictions alongside actual values\n",
        "print(\"First 5 predictions and actual values:\")\n",
        "print(\"Predicted: \", y_pred[:5])\n",
        "print(\"Actual: \", y_val[:5])"
      ],
      "metadata": {
        "id": "tO-PcesSzY56",
        "outputId": "ce49e864-ff46-46cf-9737-3f703a92bd7c",
        "colab": {
          "base_uri": "https://localhost:8080/"
        }
      },
      "execution_count": 43,
      "outputs": [
        {
          "output_type": "stream",
          "name": "stdout",
          "text": [
            "Mean Squared Error (MSE): 8.36763557295948e+23\n",
            "R² Score: -9.271026559443753e+23\n",
            "First 5 predictions and actual values:\n",
            "Predicted:  [[ 0.40779495]\n",
            " [ 1.45671463]\n",
            " [-0.08277512]\n",
            " [-0.46546555]\n",
            " [-0.60624313]]\n",
            "Actual:  [[-0.07680642]\n",
            " [ 0.21335321]\n",
            " [-0.48737242]\n",
            " [ 0.78775083]\n",
            " [-0.70844642]]\n"
          ]
        }
      ]
    },
    {
      "cell_type": "code",
      "source": [
        "import pandas as pd\n",
        "\n",
        "# Number of features extracted\n",
        "lattice_param_columns = ['lattice_a', 'lattice_b', 'lattice_c']\n",
        "angle_columns = ['angle_alpha', 'angle_beta', 'angle_gamma']\n",
        "volume_column = ['volume']\n",
        "atomic_coord_columns = [f'atomic_coord_{i}' for i in range(288)]\n",
        "atomic_species_columns = [f'atomic_species_{i}' for i in range(288)]\n",
        "\n",
        "# Combine all column names\n",
        "column_names = lattice_param_columns + angle_columns + volume_column + atomic_coord_columns + atomic_species_columns\n",
        "\n",
        "# Convert X_train to DataFrame\n",
        "X_train_df = pd.DataFrame(X_train, columns=column_names)\n",
        "\n",
        "# Display the first few rows of the DataFrame\n",
        "print(X_train_df.head())"
      ],
      "metadata": {
        "id": "5zVQZkopxJ5S",
        "outputId": "b86b8d59-c4bb-4e9b-b7c8-4224fe59d448",
        "colab": {
          "base_uri": "https://localhost:8080/"
        }
      },
      "execution_count": 17,
      "outputs": [
        {
          "output_type": "stream",
          "name": "stdout",
          "text": [
            "   lattice_a  lattice_b  lattice_c  angle_alpha  angle_beta  angle_gamma  \\\n",
            "0   1.036405   0.698144   0.015965    -1.587334   -1.583252    -1.521393   \n",
            "1   0.809013   0.496874  -0.506440     0.242371    0.277851     1.410556   \n",
            "2  -0.594019  -0.339179   0.981832     0.242371    0.277851     0.208990   \n",
            "3  -0.029815  -0.245596   0.274021    -0.499151    1.032097     0.197026   \n",
            "4  -0.801583  -0.928709   1.582962     0.242371    0.277851     1.410556   \n",
            "\n",
            "     volume  atomic_coord_0  atomic_coord_1  atomic_coord_2  ...  \\\n",
            "0 -0.157463        0.717451        0.560056        0.615051  ...   \n",
            "1  0.363342       -0.200373        0.790988        1.092125  ...   \n",
            "2  0.363757        1.354627       -0.957541        0.429146  ...   \n",
            "3  0.176166       -0.118159       -0.240000        1.109506  ...   \n",
            "4 -0.116203       -1.359392       -1.428419        1.466503  ...   \n",
            "\n",
            "   atomic_species_278  atomic_species_279  atomic_species_280  \\\n",
            "0                 0.0                 0.0                 0.0   \n",
            "1                 0.0                 0.0                 0.0   \n",
            "2                 0.0                 0.0                 0.0   \n",
            "3                 0.0                 0.0                 0.0   \n",
            "4                 0.0                 0.0                 0.0   \n",
            "\n",
            "   atomic_species_281  atomic_species_282  atomic_species_283  \\\n",
            "0                 0.0                 0.0                 0.0   \n",
            "1                 0.0                 0.0                 0.0   \n",
            "2                 0.0                 0.0                 0.0   \n",
            "3                 0.0                 0.0                 0.0   \n",
            "4                 0.0                 0.0                 0.0   \n",
            "\n",
            "   atomic_species_284  atomic_species_285  atomic_species_286  \\\n",
            "0                 0.0                 0.0                 0.0   \n",
            "1                 0.0                 0.0                 0.0   \n",
            "2                 0.0                 0.0                 0.0   \n",
            "3                 0.0                 0.0                 0.0   \n",
            "4                 0.0                 0.0                 0.0   \n",
            "\n",
            "   atomic_species_287  \n",
            "0                 0.0  \n",
            "1                 0.0  \n",
            "2                 0.0  \n",
            "3                 0.0  \n",
            "4                 0.0  \n",
            "\n",
            "[5 rows x 583 columns]\n"
          ]
        }
      ]
    },
    {
      "cell_type": "code",
      "source": [
        "import numpy as np\n",
        "from sklearn.decomposition import PCA\n",
        "pca = PCA()\n",
        "pca.fit(X_train)\n",
        "\n",
        "# Get explained variance ratio for each component\n",
        "explained_variance = pca.explained_variance_ratio_\n",
        "\n",
        "# Compute cumulative explained variance\n",
        "cumulative_variance = np.cumsum(explained_variance)\n",
        "\n",
        "# Determine how many PCs are needed to explain at least 80% or 90% of the variance\n",
        "num_components_80 = np.argmax(cumulative_variance >= 0.80) + 1\n",
        "num_components_90 = np.argmax(cumulative_variance >= 0.90) + 1\n",
        "\n",
        "print(f'Number of components to explain 80% of the variance: {num_components_80}')\n",
        "print(f'Number of components to explain 90% of the variance: {num_components_90}')\n"
      ],
      "metadata": {
        "id": "eRZzWolocLY3",
        "outputId": "b6c81c49-818f-48b1-8b90-f675cb6f0656",
        "colab": {
          "base_uri": "https://localhost:8080/"
        }
      },
      "execution_count": 26,
      "outputs": [
        {
          "output_type": "stream",
          "name": "stdout",
          "text": [
            "Number of components to explain 80% of the variance: 15\n",
            "Number of components to explain 90% of the variance: 27\n"
          ]
        }
      ]
    },
    {
      "cell_type": "code",
      "source": [
        "from sklearn.decomposition import PCA\n",
        "from sklearn.preprocessing import StandardScaler\n",
        "from sklearn.model_selection import train_test_split\n",
        "from sklearn.linear_model import LinearRegression\n",
        "from sklearn.metrics import mean_squared_error, r2_score\n",
        "from sklearn.model_selection import train_test_split\n",
        "from sklearn.preprocessing import StandardScaler\n",
        "import numpy as np\n",
        "\n",
        "# Step 2: Apply PCA to reduce the dimensionality of X\n",
        "pca = PCA(n_components=27)  # You can change the number of components to what you need\n",
        "X_pca = pca.fit_transform(X_scaled)\n",
        "\n",
        "# Step 3: Split the data into train and validation sets\n",
        "X_train, X_val, y_train, y_val = train_test_split(X_pca, y, test_size=0.2, random_state=42)\n",
        "model = LinearRegression()\n",
        "model.fit(X_train, y_train)\n",
        "\n",
        "# Step 5: Make predictions on the validation set\n",
        "y_pred = model.predict(X_val)\n",
        "\n",
        "# Step 6: Evaluate the model's performance\n",
        "mse = mean_squared_error(y_val, y_pred)\n",
        "r2 = r2_score(y_val, y_pred)\n",
        "print(mse)\n",
        "print(f\"R² Score: {r2}\")\n",
        "\n",
        "# Optional: Display some predictions alongside actual values\n",
        "print(\"First 5 predictions and actual values:\")\n",
        "print(\"Predicted: \", y_pred[:5])\n",
        "print(\"Actual: \", y_val[:5])"
      ],
      "metadata": {
        "id": "BPL1u7FEbzlB",
        "outputId": "5ff82739-341b-4fac-ac12-9e6bc26880f9",
        "colab": {
          "base_uri": "https://localhost:8080/"
        }
      },
      "execution_count": 45,
      "outputs": [
        {
          "output_type": "stream",
          "name": "stdout",
          "text": [
            "0.6001819877297215\n",
            "R² Score: 0.3350208550282263\n",
            "First 5 predictions and actual values:\n",
            "Predicted:  [[ 0.26797284]\n",
            " [ 1.48577451]\n",
            " [-0.07246821]\n",
            " [-0.69805775]\n",
            " [-0.70572764]]\n",
            "Actual:  [[-0.07680642]\n",
            " [ 0.21335321]\n",
            " [-0.48737242]\n",
            " [ 0.78775083]\n",
            " [-0.70844642]]\n"
          ]
        }
      ]
    },
    {
      "cell_type": "code",
      "source": [
        "plt.figure(figsize=(10, 6))\n",
        "plt.scatter(y_val, y_pred, color='blue', alpha=0.5)\n",
        "plt.plot([y_val.min(), y_val.max()], [y_val.min(), y_val.max()], color='red', linestyle='--')  # Diagonal line\n",
        "plt.title('Predicted vs Actual Values')\n",
        "plt.xlabel('Actual Values')\n",
        "plt.ylabel('Predicted Values')\n",
        "plt.grid()\n",
        "plt.xlim(y_val.min() - 1, y_val.max() + 1)  # Adjust x limits for better visualization\n",
        "plt.ylim(y_val.min() - 1, y_val.max() + 1)  # Adjust y limits for better visualization\n",
        "plt.axis('equal')  # Set equal scaling\n",
        "plt.show()"
      ],
      "metadata": {
        "id": "7J688558cmal",
        "outputId": "9f23d07c-141c-463f-c379-f4766374e757",
        "colab": {
          "base_uri": "https://localhost:8080/",
          "height": 564
        }
      },
      "execution_count": 46,
      "outputs": [
        {
          "output_type": "display_data",
          "data": {
            "text/plain": [
              "<Figure size 1000x600 with 1 Axes>"
            ],
            "image/png": "[encoded data removed]"
          },
          "metadata": {}
        }
      ]
    },
    {
      "cell_type": "code",
      "source": [
        "import matplotlib.pyplot as plt\n",
        "\n",
        "# Plot cumulative explained variance\n",
        "plt.plot(cumulative_variance)\n",
        "plt.xlabel('Number of Principal Components')\n",
        "plt.ylabel('Cumulative Explained Variance')\n",
        "plt.title('Explained Variance vs Number of Principal Components')\n",
        "plt.grid(True)\n",
        "plt.show()"
      ],
      "metadata": {
        "colab": {
          "base_uri": "https://localhost:8080/",
          "height": 472
        },
        "id": "UkdEaqDQgJdo",
        "outputId": "61375c23-9cdc-43d2-c51e-e0e68c1ff23f"
      },
      "execution_count": 29,
      "outputs": [
        {
          "output_type": "display_data",
          "data": {
            "text/plain": [
              "<Figure size 640x480 with 1 Axes>"
            ],
            "image/png": "[encoded data removed]"
          },
          "metadata": {}
        }
      ]
    },
    {
      "cell_type": "code",
      "source": [
        "pca = PCA(n_components=num_components_90)\n",
        "\n",
        "# Fit PCA on the training data\n",
        "X_train_pca = pca.fit_transform(X_train_scaled)\n",
        "\n",
        "# Apply PCA transformation to the validation data\n",
        "X_val_pca = pca.transform(X_val_scaled)\n",
        "\n",
        "# The explained variance tells you how much variance is retained by each component\n",
        "print(pca.explained_variance_ratio_)"
      ],
      "metadata": {
        "id": "d3hWqLSkTTGt"
      },
      "execution_count": null,
      "outputs": []
    },
    {
      "cell_type": "code",
      "source": [
        "from sklearn.decomposition import PCA\n",
        "from sklearn.preprocessing import StandardScaler\n",
        "\n",
        "# Step 1: Scale the data (you have already done this)\n",
        "scaler = StandardScaler()\n",
        "X_scaled = scaler.fit_transform(X_train)\n",
        "\n",
        "# Step 2: Apply PCA\n",
        "pca = PCA(n_components=16)\n",
        "X_reduced = pca.fit_transform(X_scaled)\n",
        "pca_y = PCA(n_components=16)  # Set this to the number of components you want\n",
        "y_reduced = pca.fit_transform(y_train)\n",
        "# Step 3: Split the reduced data into train and validation sets\n",
        "X_train_reduced, X_val_reduced, y_train, y_val = train_test_split(X_reduced, y_reduced, test_size=0.2, random_state=42)"
      ],
      "metadata": {
        "id": "82qJKhxTYcT3"
      },
      "execution_count": null,
      "outputs": []
    },
    {
      "cell_type": "code",
      "source": [
        "model = LinearRegression()\n",
        "model.fit(X_train_reduced, y_train)\n",
        "\n",
        "# Step 4: Make predictions on the validation set\n",
        "y_pred = model.predict(X_val_reduced)\n",
        "\n",
        "# Step 5: Evaluate the model performance\n",
        "mse = mean_squared_error(y_val, y_pred)\n",
        "r2 = r2_score(y_val, y_pred)\n",
        "\n",
        "print(f\"Mean Squared Error (MSE): {mse}\")\n",
        "print(f\"R² Score: {r2}\")\n",
        "\n",
        "# Optional: Display some predictions alongside actual values\n",
        "print(\"First 5 predictions and actual values:\")\n",
        "print(\"Predicted: \", y_pred[:5])\n",
        "print(\"Actual: \", y_val[:5])"
      ],
      "metadata": {
        "id": "-ol10UYUYl_1"
      },
      "execution_count": null,
      "outputs": []
    },
    {
      "cell_type": "code",
      "source": [
        "X.shape"
      ],
      "metadata": {
        "id": "VeCLFOCINE6E"
      },
      "execution_count": null,
      "outputs": []
    },
    {
      "cell_type": "code",
      "source": [
        "y[0]"
      ],
      "metadata": {
        "id": "Dl9QJYQ9J4Y0"
      },
      "execution_count": null,
      "outputs": []
    },
    {
      "cell_type": "markdown",
      "source": [
        "# ML"
      ],
      "metadata": {
        "id": "vtoTTgGpBg41"
      }
    },
    {
      "cell_type": "code",
      "source": [
        "def build_model(input_shape):\n",
        "    model = models.Sequential()\n",
        "    model.add(layers.Dense(256, activation='relu', input_dim=583))#input_shape=(,7)))\n",
        "    layers.Dropout(0.5),\n",
        "    model.add(layers.Dense(128, activation='relu'))\n",
        "    model.add(layers.Dense(64, activation='relu'))\n",
        "    model.add(layers.Dense(1, activation='linear'))\n",
        "    #model.add(layers.Dense(1))  # Output layer for regression\n",
        "    print(model.summary())\n",
        "    model.compile(optimizer='adam', loss='mean_squared_error', metrics=['mae'])\n",
        "    return model"
      ],
      "metadata": {
        "id": "UQ6evA5LBe_U"
      },
      "execution_count": null,
      "outputs": []
    },
    {
      "cell_type": "code",
      "source": [
        "# Build and train the Keras model\n",
        "model = build_model(X_train.shape[1])\n",
        "\n",
        "\n",
        "history = model.fit(X_train, y_train, epochs=50, batch_size=32, validation_data=(X_val, y_val))\n",
        "\n",
        "# Get test data and extract features\n",
        "test_inputs = task.get_test_data(fold, include_target=False)\n",
        "X_test = np.array([extract_features(structure) for structure in test_inputs])\n",
        "X_test_scaled = scaler.transform(X_test)\n",
        "\n",
        "# Predict on the testing data\n",
        "predictions = model.predict(X_test_scaled)\n",
        "\n",
        "\n",
        "\n",
        "train_loss = history.history[\"loss\"][1:]\n",
        "test_loss = history.history[\"val_loss\"][1:]"
      ],
      "metadata": {
        "id": "p4gEHUQ8Bye6"
      },
      "execution_count": null,
      "outputs": []
    },
    {
      "cell_type": "code",
      "source": [
        "# Prepare and plot loss over time\n",
        "plt.plot(train_loss,label=\"train\")\n",
        "plt.plot(test_loss,label=\"test\")\n",
        "plt.legend()\n",
        "plt.xlabel(\"Epochs\")\n",
        "plt.ylabel(\"Loss\")\n",
        "plt.show()"
      ],
      "metadata": {
        "id": "n2K2zs-MIUPk"
      },
      "execution_count": null,
      "outputs": []
    }
  ]
}