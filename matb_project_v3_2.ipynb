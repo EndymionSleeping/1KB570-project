{
  "nbformat": 4,
  "nbformat_minor": 0,
  "metadata": {
    "colab": {
      "provenance": [],
      "authorship_tag": "ABX9TyMnfRPeMyArY1pTM1SaMED4",
      "include_colab_link": true
    },
    "kernelspec": {
      "name": "python3",
      "display_name": "Python 3"
    },
    "language_info": {
      "name": "python"
    }
  },
  "cells": [
    {
      "cell_type": "markdown",
      "metadata": {
        "id": "view-in-github",
        "colab_type": "text"
      },
      "source": [
        "<a href=\"https://colab.research.google.com/github/EndymionSleeping/1KB570-project/blob/main/matb_project_v3_2.ipynb\" target=\"_parent\"><img src=\"https://colab.research.google.com/assets/colab-badge.svg\" alt=\"Open In Colab\"/></a>"
      ]
    },
    {
      "cell_type": "markdown",
      "source": [
        "# Init\n",
        "Handling dependancied and importing datasets"
      ],
      "metadata": {
        "id": "oPo1-nL54X9I"
      }
    },
    {
      "cell_type": "code",
      "execution_count": 1,
      "metadata": {
        "id": "seqgTdrn4R6m"
      },
      "outputs": [],
      "source": [
        "from google.colab import output\n",
        "output.enable_custom_widget_manager()\n"
      ]
    },
    {
      "cell_type": "code",
      "source": [
        "try:\n",
        "    import google.colab  # type: ignore # noqa: F401\n",
        "    %pip install git+https://github.com/hackingmaterials/matbench\n",
        "except ImportError:\n",
        "    print(\"not in Colab\")"
      ],
      "metadata": {
        "colab": {
          "base_uri": "https://localhost:8080/"
        },
        "id": "XK8sEtDK4hd3",
        "outputId": "dd8c067f-0714-4b7a-ca1f-f61202f08fec"
      },
      "execution_count": 2,
      "outputs": [
        {
          "output_type": "stream",
          "name": "stdout",
          "text": [
            "Collecting git+https://github.com/hackingmaterials/matbench\n",
            "  Cloning https://github.com/hackingmaterials/matbench to /tmp/pip-req-build-nqogd3ub\n",
            "  Running command git clone --filter=blob:none --quiet https://github.com/hackingmaterials/matbench /tmp/pip-req-build-nqogd3ub\n",
            "  Resolved https://github.com/hackingmaterials/matbench to commit 936176db18ca4cd7b38cbd957c017a5bac770c6b\n",
            "  Installing build dependencies ... \u001b[?25l\u001b[?25hdone\n",
            "  Getting requirements to build wheel ... \u001b[?25l\u001b[?25hdone\n",
            "  Preparing metadata (pyproject.toml) ... \u001b[?25l\u001b[?25hdone\n",
            "Collecting matminer>=0.7.4 (from matbench==0.6)\n",
            "  Downloading matminer-0.9.3-py3-none-any.whl.metadata (4.9 kB)\n",
            "Requirement already satisfied: scipy>=1.9.0 in /usr/local/lib/python3.10/dist-packages (from matbench==0.6) (1.13.1)\n",
            "Collecting monty>=2022.4.26 (from matbench==0.6)\n",
            "  Downloading monty-2024.7.30-py3-none-any.whl.metadata (3.2 kB)\n",
            "Requirement already satisfied: scikit-learn>=1.0.1 in /usr/local/lib/python3.10/dist-packages (from matbench==0.6) (1.5.2)\n",
            "Requirement already satisfied: numpy>=1.23 in /usr/local/lib/python3.10/dist-packages (from matminer>=0.7.4->matbench==0.6) (1.26.4)\n",
            "Requirement already satisfied: requests~=2.31 in /usr/local/lib/python3.10/dist-packages (from matminer>=0.7.4->matbench==0.6) (2.32.3)\n",
            "Requirement already satisfied: pandas<3,>=1.5 in /usr/local/lib/python3.10/dist-packages (from matminer>=0.7.4->matbench==0.6) (2.2.2)\n",
            "Requirement already satisfied: tqdm~=4.66 in /usr/local/lib/python3.10/dist-packages (from matminer>=0.7.4->matbench==0.6) (4.66.5)\n",
            "Collecting pymongo~=4.5 (from matminer>=0.7.4->matbench==0.6)\n",
            "  Downloading pymongo-4.10.1-cp310-cp310-manylinux_2_17_x86_64.manylinux2014_x86_64.whl.metadata (22 kB)\n",
            "Requirement already satisfied: sympy~=1.11 in /usr/local/lib/python3.10/dist-packages (from matminer>=0.7.4->matbench==0.6) (1.13.3)\n",
            "Collecting pymatgen>=2023 (from matminer>=0.7.4->matbench==0.6)\n",
            "  Downloading pymatgen-2024.10.3-cp310-cp310-manylinux_2_17_x86_64.manylinux2014_x86_64.whl.metadata (13 kB)\n",
            "Requirement already satisfied: joblib>=1.2.0 in /usr/local/lib/python3.10/dist-packages (from scikit-learn>=1.0.1->matbench==0.6) (1.4.2)\n",
            "Requirement already satisfied: threadpoolctl>=3.1.0 in /usr/local/lib/python3.10/dist-packages (from scikit-learn>=1.0.1->matbench==0.6) (3.5.0)\n",
            "Requirement already satisfied: python-dateutil>=2.8.2 in /usr/local/lib/python3.10/dist-packages (from pandas<3,>=1.5->matminer>=0.7.4->matbench==0.6) (2.8.2)\n",
            "Requirement already satisfied: pytz>=2020.1 in /usr/local/lib/python3.10/dist-packages (from pandas<3,>=1.5->matminer>=0.7.4->matbench==0.6) (2024.2)\n",
            "Requirement already satisfied: tzdata>=2022.7 in /usr/local/lib/python3.10/dist-packages (from pandas<3,>=1.5->matminer>=0.7.4->matbench==0.6) (2024.2)\n",
            "Collecting matplotlib>=3.8 (from pymatgen>=2023->matminer>=0.7.4->matbench==0.6)\n",
            "  Downloading matplotlib-3.9.2-cp310-cp310-manylinux_2_17_x86_64.manylinux2014_x86_64.whl.metadata (11 kB)\n",
            "Requirement already satisfied: networkx>=2.2 in /usr/local/lib/python3.10/dist-packages (from pymatgen>=2023->matminer>=0.7.4->matbench==0.6) (3.3)\n",
            "Collecting palettable>=3.3.3 (from pymatgen>=2023->matminer>=0.7.4->matbench==0.6)\n",
            "  Downloading palettable-3.3.3-py2.py3-none-any.whl.metadata (3.3 kB)\n",
            "Requirement already satisfied: plotly>=4.5.0 in /usr/local/lib/python3.10/dist-packages (from pymatgen>=2023->matminer>=0.7.4->matbench==0.6) (5.24.1)\n",
            "Collecting pybtex>=0.24.0 (from pymatgen>=2023->matminer>=0.7.4->matbench==0.6)\n",
            "  Downloading pybtex-0.24.0-py2.py3-none-any.whl.metadata (2.0 kB)\n",
            "Collecting ruamel.yaml>=0.17.0 (from pymatgen>=2023->matminer>=0.7.4->matbench==0.6)\n",
            "  Downloading ruamel.yaml-0.18.6-py3-none-any.whl.metadata (23 kB)\n",
            "Collecting spglib>=2.5.0 (from pymatgen>=2023->matminer>=0.7.4->matbench==0.6)\n",
            "  Downloading spglib-2.5.0-cp310-cp310-manylinux_2_17_x86_64.manylinux2014_x86_64.whl.metadata (4.2 kB)\n",
            "Requirement already satisfied: tabulate>=0.9 in /usr/local/lib/python3.10/dist-packages (from pymatgen>=2023->matminer>=0.7.4->matbench==0.6) (0.9.0)\n",
            "Collecting uncertainties>=3.1.4 (from pymatgen>=2023->matminer>=0.7.4->matbench==0.6)\n",
            "  Downloading uncertainties-3.2.2-py3-none-any.whl.metadata (6.9 kB)\n",
            "Collecting dnspython<3.0.0,>=1.16.0 (from pymongo~=4.5->matminer>=0.7.4->matbench==0.6)\n",
            "  Downloading dnspython-2.7.0-py3-none-any.whl.metadata (5.8 kB)\n",
            "Requirement already satisfied: charset-normalizer<4,>=2 in /usr/local/lib/python3.10/dist-packages (from requests~=2.31->matminer>=0.7.4->matbench==0.6) (3.3.2)\n",
            "Requirement already satisfied: idna<4,>=2.5 in /usr/local/lib/python3.10/dist-packages (from requests~=2.31->matminer>=0.7.4->matbench==0.6) (3.10)\n",
            "Requirement already satisfied: urllib3<3,>=1.21.1 in /usr/local/lib/python3.10/dist-packages (from requests~=2.31->matminer>=0.7.4->matbench==0.6) (2.2.3)\n",
            "Requirement already satisfied: certifi>=2017.4.17 in /usr/local/lib/python3.10/dist-packages (from requests~=2.31->matminer>=0.7.4->matbench==0.6) (2024.8.30)\n",
            "Requirement already satisfied: mpmath<1.4,>=1.1.0 in /usr/local/lib/python3.10/dist-packages (from sympy~=1.11->matminer>=0.7.4->matbench==0.6) (1.3.0)\n",
            "Requirement already satisfied: contourpy>=1.0.1 in /usr/local/lib/python3.10/dist-packages (from matplotlib>=3.8->pymatgen>=2023->matminer>=0.7.4->matbench==0.6) (1.3.0)\n",
            "Requirement already satisfied: cycler>=0.10 in /usr/local/lib/python3.10/dist-packages (from matplotlib>=3.8->pymatgen>=2023->matminer>=0.7.4->matbench==0.6) (0.12.1)\n",
            "Requirement already satisfied: fonttools>=4.22.0 in /usr/local/lib/python3.10/dist-packages (from matplotlib>=3.8->pymatgen>=2023->matminer>=0.7.4->matbench==0.6) (4.54.1)\n",
            "Requirement already satisfied: kiwisolver>=1.3.1 in /usr/local/lib/python3.10/dist-packages (from matplotlib>=3.8->pymatgen>=2023->matminer>=0.7.4->matbench==0.6) (1.4.7)\n",
            "Requirement already satisfied: packaging>=20.0 in /usr/local/lib/python3.10/dist-packages (from matplotlib>=3.8->pymatgen>=2023->matminer>=0.7.4->matbench==0.6) (24.1)\n",
            "Requirement already satisfied: pillow>=8 in /usr/local/lib/python3.10/dist-packages (from matplotlib>=3.8->pymatgen>=2023->matminer>=0.7.4->matbench==0.6) (10.4.0)\n",
            "Requirement already satisfied: pyparsing>=2.3.1 in /usr/local/lib/python3.10/dist-packages (from matplotlib>=3.8->pymatgen>=2023->matminer>=0.7.4->matbench==0.6) (3.1.4)\n",
            "Requirement already satisfied: tenacity>=6.2.0 in /usr/local/lib/python3.10/dist-packages (from plotly>=4.5.0->pymatgen>=2023->matminer>=0.7.4->matbench==0.6) (9.0.0)\n",
            "Requirement already satisfied: PyYAML>=3.01 in /usr/local/lib/python3.10/dist-packages (from pybtex>=0.24.0->pymatgen>=2023->matminer>=0.7.4->matbench==0.6) (6.0.2)\n",
            "Collecting latexcodec>=1.0.4 (from pybtex>=0.24.0->pymatgen>=2023->matminer>=0.7.4->matbench==0.6)\n",
            "  Downloading latexcodec-3.0.0-py3-none-any.whl.metadata (4.9 kB)\n",
            "Requirement already satisfied: six in /usr/local/lib/python3.10/dist-packages (from pybtex>=0.24.0->pymatgen>=2023->matminer>=0.7.4->matbench==0.6) (1.16.0)\n",
            "Collecting ruamel.yaml.clib>=0.2.7 (from ruamel.yaml>=0.17.0->pymatgen>=2023->matminer>=0.7.4->matbench==0.6)\n",
            "  Downloading ruamel.yaml.clib-0.2.8-cp310-cp310-manylinux_2_17_x86_64.manylinux2014_x86_64.manylinux_2_24_x86_64.whl.metadata (2.2 kB)\n",
            "Downloading matminer-0.9.3-py3-none-any.whl (5.5 MB)\n",
            "\u001b[2K   \u001b[90m━━━━━━━━━━━━━━━━━━━━━━━━━━━━━━━━━━━━━━━━\u001b[0m \u001b[32m5.5/5.5 MB\u001b[0m \u001b[31m45.9 MB/s\u001b[0m eta \u001b[36m0:00:00\u001b[0m\n",
            "\u001b[?25hDownloading monty-2024.7.30-py3-none-any.whl (48 kB)\n",
            "\u001b[2K   \u001b[90m━━━━━━━━━━━━━━━━━━━━━━━━━━━━━━━━━━━━━━━━\u001b[0m \u001b[32m48.9/48.9 kB\u001b[0m \u001b[31m3.1 MB/s\u001b[0m eta \u001b[36m0:00:00\u001b[0m\n",
            "\u001b[?25hDownloading pymatgen-2024.10.3-cp310-cp310-manylinux_2_17_x86_64.manylinux2014_x86_64.whl (4.9 MB)\n",
            "\u001b[2K   \u001b[90m━━━━━━━━━━━━━━━━━━━━━━━━━━━━━━━━━━━━━━━━\u001b[0m \u001b[32m4.9/4.9 MB\u001b[0m \u001b[31m85.1 MB/s\u001b[0m eta \u001b[36m0:00:00\u001b[0m\n",
            "\u001b[?25hDownloading pymongo-4.10.1-cp310-cp310-manylinux_2_17_x86_64.manylinux2014_x86_64.whl (1.4 MB)\n",
            "\u001b[2K   \u001b[90m━━━━━━━━━━━━━━━━━━━━━━━━━━━━━━━━━━━━━━━━\u001b[0m \u001b[32m1.4/1.4 MB\u001b[0m \u001b[31m56.5 MB/s\u001b[0m eta \u001b[36m0:00:00\u001b[0m\n",
            "\u001b[?25hDownloading dnspython-2.7.0-py3-none-any.whl (313 kB)\n",
            "\u001b[2K   \u001b[90m━━━━━━━━━━━━━━━━━━━━━━━━━━━━━━━━━━━━━━━━\u001b[0m \u001b[32m313.6/313.6 kB\u001b[0m \u001b[31m22.3 MB/s\u001b[0m eta \u001b[36m0:00:00\u001b[0m\n",
            "\u001b[?25hDownloading matplotlib-3.9.2-cp310-cp310-manylinux_2_17_x86_64.manylinux2014_x86_64.whl (8.3 MB)\n",
            "\u001b[2K   \u001b[90m━━━━━━━━━━━━━━━━━━━━━━━━━━━━━━━━━━━━━━━━\u001b[0m \u001b[32m8.3/8.3 MB\u001b[0m \u001b[31m88.2 MB/s\u001b[0m eta \u001b[36m0:00:00\u001b[0m\n",
            "\u001b[?25hDownloading palettable-3.3.3-py2.py3-none-any.whl (332 kB)\n",
            "\u001b[2K   \u001b[90m━━━━━━━━━━━━━━━━━━━━━━━━━━━━━━━━━━━━━━━━\u001b[0m \u001b[32m332.3/332.3 kB\u001b[0m \u001b[31m22.0 MB/s\u001b[0m eta \u001b[36m0:00:00\u001b[0m\n",
            "\u001b[?25hDownloading pybtex-0.24.0-py2.py3-none-any.whl (561 kB)\n",
            "\u001b[2K   \u001b[90m━━━━━━━━━━━━━━━━━━━━━━━━━━━━━━━━━━━━━━━━\u001b[0m \u001b[32m561.4/561.4 kB\u001b[0m \u001b[31m33.1 MB/s\u001b[0m eta \u001b[36m0:00:00\u001b[0m\n",
            "\u001b[?25hDownloading ruamel.yaml-0.18.6-py3-none-any.whl (117 kB)\n",
            "\u001b[2K   \u001b[90m━━━━━━━━━━━━━━━━━━━━━━━━━━━━━━━━━━━━━━━━\u001b[0m \u001b[32m117.8/117.8 kB\u001b[0m \u001b[31m7.9 MB/s\u001b[0m eta \u001b[36m0:00:00\u001b[0m\n",
            "\u001b[?25hDownloading spglib-2.5.0-cp310-cp310-manylinux_2_17_x86_64.manylinux2014_x86_64.whl (1.1 MB)\n",
            "\u001b[2K   \u001b[90m━━━━━━━━━━━━━━━━━━━━━━━━━━━━━━━━━━━━━━━━\u001b[0m \u001b[32m1.1/1.1 MB\u001b[0m \u001b[31m44.0 MB/s\u001b[0m eta \u001b[36m0:00:00\u001b[0m\n",
            "\u001b[?25hDownloading uncertainties-3.2.2-py3-none-any.whl (58 kB)\n",
            "\u001b[2K   \u001b[90m━━━━━━━━━━━━━━━━━━━━━━━━━━━━━━━━━━━━━━━━\u001b[0m \u001b[32m58.3/58.3 kB\u001b[0m \u001b[31m4.2 MB/s\u001b[0m eta \u001b[36m0:00:00\u001b[0m\n",
            "\u001b[?25hDownloading latexcodec-3.0.0-py3-none-any.whl (18 kB)\n",
            "Downloading ruamel.yaml.clib-0.2.8-cp310-cp310-manylinux_2_17_x86_64.manylinux2014_x86_64.manylinux_2_24_x86_64.whl (526 kB)\n",
            "\u001b[2K   \u001b[90m━━━━━━━━━━━━━━━━━━━━━━━━━━━━━━━━━━━━━━━━\u001b[0m \u001b[32m526.7/526.7 kB\u001b[0m \u001b[31m30.8 MB/s\u001b[0m eta \u001b[36m0:00:00\u001b[0m\n",
            "\u001b[?25hBuilding wheels for collected packages: matbench\n",
            "  Building wheel for matbench (pyproject.toml) ... \u001b[?25l\u001b[?25hdone\n",
            "  Created wheel for matbench: filename=matbench-0.6-py3-none-any.whl size=5449479 sha256=c4d81b94c8cedac57ff451b8a6e490d962d7c686e510f208b28b7beae7457c67\n",
            "  Stored in directory: /tmp/pip-ephem-wheel-cache-gd4si98w/wheels/88/e5/4e/889ed0b99b6094fca6bb2686267bb93351d6b1c75405e2cd9e\n",
            "Successfully built matbench\n",
            "Installing collected packages: uncertainties, spglib, ruamel.yaml.clib, palettable, monty, latexcodec, dnspython, ruamel.yaml, pymongo, pybtex, matplotlib, pymatgen, matminer, matbench\n",
            "  Attempting uninstall: matplotlib\n",
            "    Found existing installation: matplotlib 3.7.1\n",
            "    Uninstalling matplotlib-3.7.1:\n",
            "      Successfully uninstalled matplotlib-3.7.1\n",
            "Successfully installed dnspython-2.7.0 latexcodec-3.0.0 matbench-0.6 matminer-0.9.3 matplotlib-3.9.2 monty-2024.7.30 palettable-3.3.3 pybtex-0.24.0 pymatgen-2024.10.3 pymongo-4.10.1 ruamel.yaml-0.18.6 ruamel.yaml.clib-0.2.8 spglib-2.5.0 uncertainties-3.2.2\n"
          ]
        }
      ]
    },
    {
      "cell_type": "code",
      "source": [
        "from matbench.bench import MatbenchBenchmark\n",
        "mb = MatbenchBenchmark(autoload=False)"
      ],
      "metadata": {
        "colab": {
          "base_uri": "https://localhost:8080/"
        },
        "id": "3WzObFP64zRY",
        "outputId": "608259ac-3f6c-4a68-c48d-0566487d46ed"
      },
      "execution_count": 3,
      "outputs": [
        {
          "output_type": "stream",
          "name": "stdout",
          "text": [
            "2024-10-14 08:00:38 INFO     Initialized benchmark 'matbench_v0.1' with 13 tasks: \n",
            "['matbench_dielectric',\n",
            " 'matbench_expt_gap',\n",
            " 'matbench_expt_is_metal',\n",
            " 'matbench_glass',\n",
            " 'matbench_jdft2d',\n",
            " 'matbench_log_gvrh',\n",
            " 'matbench_log_kvrh',\n",
            " 'matbench_mp_e_form',\n",
            " 'matbench_mp_gap',\n",
            " 'matbench_mp_is_metal',\n",
            " 'matbench_perovskites',\n",
            " 'matbench_phonons',\n",
            " 'matbench_steels']\n"
          ]
        },
        {
          "output_type": "stream",
          "name": "stderr",
          "text": [
            "INFO:matbench:Initialized benchmark 'matbench_v0.1' with 13 tasks: \n",
            "['matbench_dielectric',\n",
            " 'matbench_expt_gap',\n",
            " 'matbench_expt_is_metal',\n",
            " 'matbench_glass',\n",
            " 'matbench_jdft2d',\n",
            " 'matbench_log_gvrh',\n",
            " 'matbench_log_kvrh',\n",
            " 'matbench_mp_e_form',\n",
            " 'matbench_mp_gap',\n",
            " 'matbench_mp_is_metal',\n",
            " 'matbench_perovskites',\n",
            " 'matbench_phonons',\n",
            " 'matbench_steels']\n"
          ]
        }
      ]
    },
    {
      "cell_type": "code",
      "source": [
        "import numpy as np\n",
        "from sklearn.preprocessing import StandardScaler\n",
        "from sklearn.model_selection import train_test_split\n",
        "import tensorflow as tf\n",
        "from tensorflow.keras import layers, models\n",
        "import matplotlib.pyplot as plt\n"
      ],
      "metadata": {
        "id": "CD66Im5P4_SG"
      },
      "execution_count": 4,
      "outputs": []
    },
    {
      "cell_type": "markdown",
      "source": [
        "# Get first task"
      ],
      "metadata": {
        "id": "KA3HQnDvAN4R"
      }
    },
    {
      "cell_type": "code",
      "source": [
        "for task in mb.tasks:\n",
        "    if task.dataset_name == \"matbench_dielectric\":\n",
        "      print(task.dataset_name)\n",
        "      break\n",
        "\n",
        "mb.matbench_dielectric.load()\n",
        "\n",
        "for fold in task.folds:\n",
        "\n",
        "      # Inputs are either chemical compositions as strings\n",
        "      # or crystal structures as pymatgen.Structure objects.\n",
        "      # Outputs are either floats (regression tasks) or bools (classification tasks)\n",
        "      train_inputs, train_outputs = task.get_train_and_val_data(fold)"
      ],
      "metadata": {
        "colab": {
          "base_uri": "https://localhost:8080/"
        },
        "id": "NKUb_y7IAQ-R",
        "outputId": "429a8afb-5f01-491a-c008-57cc54b46d1a"
      },
      "execution_count": 37,
      "outputs": [
        {
          "output_type": "stream",
          "name": "stdout",
          "text": [
            "matbench_dielectric\n",
            "2024-10-14 08:33:13 INFO     Dataset matbench_dielectric already loaded; not reloading dataset.\n"
          ]
        },
        {
          "output_type": "stream",
          "name": "stderr",
          "text": [
            "INFO:matbench.task:Dataset matbench_dielectric already loaded; not reloading dataset.\n"
          ]
        }
      ]
    },
    {
      "cell_type": "markdown",
      "source": [
        "# Prepare the data"
      ],
      "metadata": {
        "id": "xzDsvl4yAdgN"
      }
    },
    {
      "cell_type": "code",
      "source": [
        "train_inputs[len(train_inputs)-1]"
      ],
      "metadata": {
        "colab": {
          "base_uri": "https://localhost:8080/"
        },
        "id": "oe-hq1QjC0hz",
        "outputId": "5e5e325c-3716-44fb-878b-553c9217f6d2"
      },
      "execution_count": 6,
      "outputs": [
        {
          "output_type": "stream",
          "name": "stderr",
          "text": [
            "<ipython-input-6-a498127e76ac>:1: FutureWarning: Series.__getitem__ treating keys as positions is deprecated. In a future version, integer keys will always be treated as labels (consistent with DataFrame behavior). To access a value by position, use `ser.iloc[pos]`\n",
            "  train_inputs[len(train_inputs)-1]\n"
          ]
        },
        {
          "output_type": "execute_result",
          "data": {
            "text/plain": [
              "Structure Summary\n",
              "Lattice\n",
              "    abc : 5.61279281 5.61279281 5.61279281\n",
              " angles : 90.0 90.0 90.0\n",
              " volume : 176.82229907901328\n",
              "      A : 5.61279281 0.0 0.0\n",
              "      B : 0.0 5.61279281 0.0\n",
              "      C : 0.0 0.0 5.61279281\n",
              "    pbc : True True True\n",
              "PeriodicSite: Cs (0.0, 0.0, 0.0) [0.0, 0.0, 0.0]\n",
              "PeriodicSite: Ge (2.806, 2.806, 2.806) [0.5, 0.5, 0.5]\n",
              "PeriodicSite: Br (2.806, 2.806, 0.0) [0.5, 0.5, 0.0]\n",
              "PeriodicSite: Br (2.806, 0.0, 2.806) [0.5, 0.0, 0.5]\n",
              "PeriodicSite: Br (0.0, 2.806, 2.806) [0.0, 0.5, 0.5]"
            ]
          },
          "metadata": {},
          "execution_count": 6
        }
      ]
    },
    {
      "cell_type": "code",
      "source": [
        "def extract_features(structure_data):\n",
        "    lattice_params = structure_data.lattice.abc\n",
        "    angles = structure_data.lattice.angles\n",
        "    volume = structure_data.lattice.volume\n",
        "\n",
        "    # Extract atomic coordinates and species\n",
        "    atomic_coords = [site.frac_coords for site in structure_data.sites]\n",
        "    atomic_species = [site.specie.Z for site in structure_data.sites]\n",
        "\n",
        "    # Flatten atomic coordinates\n",
        "    atomic_coords_flat = np.array(atomic_coords).flatten()\n",
        "\n",
        "    # Ensure both atomic coordinates and species are of length 288\n",
        "    max_length = 288\n",
        "    atomic_coords_padded = np.zeros(max_length)\n",
        "    atomic_species_padded = np.zeros(max_length)\n",
        "\n",
        "    # Fill in with actual values up to their original lengths\n",
        "    atomic_coords_padded[:len(atomic_coords_flat)] = atomic_coords_flat[:min(len(atomic_coords_flat), max_length)]\n",
        "    atomic_species_padded[:len(atomic_species)] = atomic_species[:min(len(atomic_species), max_length)]\n",
        "\n",
        "    # Concatenate features\n",
        "    features = np.concatenate([lattice_params, angles, [volume], atomic_coords_padded, atomic_species_padded])\n",
        "\n",
        "    return features\n",
        "\n",
        "\n",
        "\n",
        "X = np.array([extract_features(structure) for structure in train_inputs])\n",
        "y = np.array(train_outputs)\n",
        "\n",
        "# Scale the data\n",
        "scaler = StandardScaler()\n",
        "X_scaled = scaler.fit_transform(X)\n",
        "\n",
        "# Split the data into train and validation sets\n",
        "X_train, X_val, y_train, y_val = train_test_split(X_scaled, y, test_size=0.2, random_state=42)\n"
      ],
      "metadata": {
        "id": "efzAn8D8HoxZ"
      },
      "execution_count": 42,
      "outputs": []
    },
    {
      "cell_type": "code",
      "source": [
        "\n",
        "\"\"\"\n",
        "def extract_features(structure_data):\n",
        "\n",
        "    lattice_params = structure_data.lattice.abc\n",
        "    angles = structure_data.lattice.angles\n",
        "    volume = structure_data.lattice.volume\n",
        "    atomic_coords = [site.frac_coords for site in structure_data.sites]\n",
        "    atomic_species = [site.specie.Z for site in structure_data.sites]\n",
        "\n",
        "    atomic_coords_flat = np.array(atomic_coords).flatten()\n",
        "    features = np.concatenate([lattice_params, angles, [volume], atomic_coords_flat, atomic_species])\n",
        "\n",
        "    lattice_params = structure_data.lattice.abc\n",
        "    angles = structure_data.lattice.angles\n",
        "    volume = structure_data.lattice.volume\n",
        "    atomic_coords = [site.frac_coords for site in structure_data.sites]\n",
        "    atomic_species = [site.specie.Z for site in structure_data.sites]\n",
        "\n",
        "    # Flatten atomic coordinates and concatenate features\n",
        "    #atomic_coords_flat = np.array(atomic_coords).flatten()\n",
        "    #features = np.concatenate([lattice_params, angles, [volume]])\n",
        "\n",
        "    features = np.concatenate([lattice_params, angles, [volume], np.array(atomic_coords).flatten()])\n",
        "    return features\n",
        "\n",
        "\n",
        "\n",
        "\n",
        "\n",
        "\n",
        "\n",
        "\n",
        "\n",
        "A = [extract_features(structure) for structure in train_inputs]\n",
        "\n",
        "X = np.array([extract_features(structure) for structure in train_inputs])\n",
        "y = np.array(train_outputs)\n",
        "\n",
        "# Scale the data\n",
        "scaler = StandardScaler()\n",
        "X_scaled = scaler.fit_transform(X)\n",
        "\n",
        "# Split the data into train and validation sets\n",
        "X_train, X_val, y_train, y_val = train_test_split(X_scaled, y, test_size=0.2, random_state=42)\n",
        "\"\"\""
      ],
      "metadata": {
        "id": "crTrb8mxAtnI",
        "colab": {
          "base_uri": "https://localhost:8080/",
          "height": 339
        },
        "outputId": "f552a82d-6456-4086-ed0b-f66f3b3aec51"
      },
      "execution_count": 21,
      "outputs": [
        {
          "output_type": "stream",
          "name": "stdout",
          "text": [
            "atomic_coords: 12\n",
            "atomic_species: 12\n",
            "atomic_coords: 32\n",
            "atomic_species: 32\n",
            "atomic_coords: 36\n",
            "atomic_species: 36\n",
            "atomic_coords: 49\n",
            "atomic_species: 49\n",
            "atomic_coords: 51\n",
            "atomic_species: 51\n",
            "atomic_coords: 56\n",
            "atomic_species: 56\n",
            "atomic_coords: 82\n",
            "atomic_species: 82\n",
            "atomic_coords: 288\n",
            "atomic_species: 288\n"
          ]
        },
        {
          "output_type": "execute_result",
          "data": {
            "text/plain": [
              "'\\nX = np.array([extract_features(structure) for structure in train_inputs])\\ny = np.array(train_outputs)\\n\\n# Scale the data\\nscaler = StandardScaler()\\nX_scaled = scaler.fit_transform(X)\\n\\n# Split the data into train and validation sets\\nX_train, X_val, y_train, y_val = train_test_split(X_scaled, y, test_size=0.2, random_state=42)\\n'"
            ],
            "application/vnd.google.colaboratory.intrinsic+json": {
              "type": "string"
            }
          },
          "metadata": {},
          "execution_count": 21
        }
      ]
    },
    {
      "cell_type": "code",
      "source": [],
      "metadata": {
        "id": "p0cukgFuIFGS"
      },
      "execution_count": null,
      "outputs": []
    },
    {
      "cell_type": "code",
      "source": [
        "X.shape"
      ],
      "metadata": {
        "colab": {
          "base_uri": "https://localhost:8080/"
        },
        "id": "VeCLFOCINE6E",
        "outputId": "fb7d720f-b999-4178-92d3-0950b686a59b"
      },
      "execution_count": 23,
      "outputs": [
        {
          "output_type": "execute_result",
          "data": {
            "text/plain": [
              "(3812, 583)"
            ]
          },
          "metadata": {},
          "execution_count": 23
        }
      ]
    },
    {
      "cell_type": "code",
      "source": [
        "y[0]"
      ],
      "metadata": {
        "colab": {
          "base_uri": "https://localhost:8080/"
        },
        "id": "8_VrlmUhJrnK",
        "outputId": "ecd666dd-e387-4b84-8c92-d2d94526a5a0"
      },
      "execution_count": 35,
      "outputs": [
        {
          "output_type": "execute_result",
          "data": {
            "text/plain": [
              "1.752063640396657"
            ]
          },
          "metadata": {},
          "execution_count": 35
        }
      ]
    },
    {
      "cell_type": "markdown",
      "source": [
        "# ML"
      ],
      "metadata": {
        "id": "vtoTTgGpBg41"
      }
    },
    {
      "cell_type": "code",
      "source": [
        "def build_model(input_shape):\n",
        "    model = models.Sequential()\n",
        "    model.add(layers.Dense(256, activation='relu', input_dim=583))#input_shape=(,7)))\n",
        "    layers.Dropout(0.2),\n",
        "    model.add(layers.Dense(128, activation='relu'))\n",
        "    layers.Dropout(0.3),\n",
        "    model.add(layers.Dense(64, activation='relu'))\n",
        "    layers.Dropout(0.1),\n",
        "    model.add(layers.Dense(1, activation='linear'))\n",
        "    #model.add(layers.Dense(1))  # Output layer for regression\n",
        "    print(model.summary())\n",
        "    model.compile(optimizer='adam', loss='mean_squared_error', metrics=['mae'])\n",
        "    return model"
      ],
      "metadata": {
        "id": "UQ6evA5LBe_U"
      },
      "execution_count": 43,
      "outputs": []
    },
    {
      "cell_type": "code",
      "source": [
        "# Build and train the Keras model\n",
        "model = build_model(X_train.shape[1])\n",
        "\n",
        "\n",
        "history = model.fit(X_train, y_train, epochs=50, batch_size=32, validation_data=(X_val, y_val))\n",
        "\n",
        "# Get test data and extract features\n",
        "test_inputs = task.get_test_data(fold, include_target=False)\n",
        "X_test = np.array([extract_features(structure) for structure in test_inputs])\n",
        "X_test_scaled = scaler.transform(X_test)\n",
        "\n",
        "# Predict on the testing data\n",
        "predictions = model.predict(X_test_scaled)\n",
        "\n",
        "\n",
        "\n",
        "train_loss = history.history[\"loss\"][1:]\n",
        "test_loss = history.history[\"val_loss\"][1:]"
      ],
      "metadata": {
        "colab": {
          "base_uri": "https://localhost:8080/",
          "height": 1000
        },
        "id": "p4gEHUQ8Bye6",
        "outputId": "10d77000-b226-4b42-f15c-195e386af60b"
      },
      "execution_count": 44,
      "outputs": [
        {
          "output_type": "stream",
          "name": "stderr",
          "text": [
            "/usr/local/lib/python3.10/dist-packages/keras/src/layers/core/dense.py:87: UserWarning: Do not pass an `input_shape`/`input_dim` argument to a layer. When using Sequential models, prefer using an `Input(shape)` object as the first layer in the model instead.\n",
            "  super().__init__(activity_regularizer=activity_regularizer, **kwargs)\n"
          ]
        },
        {
          "output_type": "display_data",
          "data": {
            "text/plain": [
              "\u001b[1mModel: \"sequential_3\"\u001b[0m\n"
            ],
            "text/html": [
              "<pre style=\"white-space:pre;overflow-x:auto;line-height:normal;font-family:Menlo,'DejaVu Sans Mono',consolas,'Courier New',monospace\"><span style=\"font-weight: bold\">Model: \"sequential_3\"</span>\n",
              "</pre>\n"
            ]
          },
          "metadata": {}
        },
        {
          "output_type": "display_data",
          "data": {
            "text/plain": [
              "┏━━━━━━━━━━━━━━━━━━━━━━━━━━━━━━━━━━━━━━┳━━━━━━━━━━━━━━━━━━━━━━━━━━━━━┳━━━━━━━━━━━━━━━━━┓\n",
              "┃\u001b[1m \u001b[0m\u001b[1mLayer (type)                        \u001b[0m\u001b[1m \u001b[0m┃\u001b[1m \u001b[0m\u001b[1mOutput Shape               \u001b[0m\u001b[1m \u001b[0m┃\u001b[1m \u001b[0m\u001b[1m        Param #\u001b[0m\u001b[1m \u001b[0m┃\n",
              "┡━━━━━━━━━━━━━━━━━━━━━━━━━━━━━━━━━━━━━━╇━━━━━━━━━━━━━━━━━━━━━━━━━━━━━╇━━━━━━━━━━━━━━━━━┩\n",
              "│ dense_12 (\u001b[38;5;33mDense\u001b[0m)                     │ (\u001b[38;5;45mNone\u001b[0m, \u001b[38;5;34m256\u001b[0m)                 │         \u001b[38;5;34m149,504\u001b[0m │\n",
              "├──────────────────────────────────────┼─────────────────────────────┼─────────────────┤\n",
              "│ dense_13 (\u001b[38;5;33mDense\u001b[0m)                     │ (\u001b[38;5;45mNone\u001b[0m, \u001b[38;5;34m128\u001b[0m)                 │          \u001b[38;5;34m32,896\u001b[0m │\n",
              "├──────────────────────────────────────┼─────────────────────────────┼─────────────────┤\n",
              "│ dense_14 (\u001b[38;5;33mDense\u001b[0m)                     │ (\u001b[38;5;45mNone\u001b[0m, \u001b[38;5;34m64\u001b[0m)                  │           \u001b[38;5;34m8,256\u001b[0m │\n",
              "├──────────────────────────────────────┼─────────────────────────────┼─────────────────┤\n",
              "│ dense_15 (\u001b[38;5;33mDense\u001b[0m)                     │ (\u001b[38;5;45mNone\u001b[0m, \u001b[38;5;34m1\u001b[0m)                   │              \u001b[38;5;34m65\u001b[0m │\n",
              "└──────────────────────────────────────┴─────────────────────────────┴─────────────────┘\n"
            ],
            "text/html": [
              "<pre style=\"white-space:pre;overflow-x:auto;line-height:normal;font-family:Menlo,'DejaVu Sans Mono',consolas,'Courier New',monospace\">┏━━━━━━━━━━━━━━━━━━━━━━━━━━━━━━━━━━━━━━┳━━━━━━━━━━━━━━━━━━━━━━━━━━━━━┳━━━━━━━━━━━━━━━━━┓\n",
              "┃<span style=\"font-weight: bold\"> Layer (type)                         </span>┃<span style=\"font-weight: bold\"> Output Shape                </span>┃<span style=\"font-weight: bold\">         Param # </span>┃\n",
              "┡━━━━━━━━━━━━━━━━━━━━━━━━━━━━━━━━━━━━━━╇━━━━━━━━━━━━━━━━━━━━━━━━━━━━━╇━━━━━━━━━━━━━━━━━┩\n",
              "│ dense_12 (<span style=\"color: #0087ff; text-decoration-color: #0087ff\">Dense</span>)                     │ (<span style=\"color: #00d7ff; text-decoration-color: #00d7ff\">None</span>, <span style=\"color: #00af00; text-decoration-color: #00af00\">256</span>)                 │         <span style=\"color: #00af00; text-decoration-color: #00af00\">149,504</span> │\n",
              "├──────────────────────────────────────┼─────────────────────────────┼─────────────────┤\n",
              "│ dense_13 (<span style=\"color: #0087ff; text-decoration-color: #0087ff\">Dense</span>)                     │ (<span style=\"color: #00d7ff; text-decoration-color: #00d7ff\">None</span>, <span style=\"color: #00af00; text-decoration-color: #00af00\">128</span>)                 │          <span style=\"color: #00af00; text-decoration-color: #00af00\">32,896</span> │\n",
              "├──────────────────────────────────────┼─────────────────────────────┼─────────────────┤\n",
              "│ dense_14 (<span style=\"color: #0087ff; text-decoration-color: #0087ff\">Dense</span>)                     │ (<span style=\"color: #00d7ff; text-decoration-color: #00d7ff\">None</span>, <span style=\"color: #00af00; text-decoration-color: #00af00\">64</span>)                  │           <span style=\"color: #00af00; text-decoration-color: #00af00\">8,256</span> │\n",
              "├──────────────────────────────────────┼─────────────────────────────┼─────────────────┤\n",
              "│ dense_15 (<span style=\"color: #0087ff; text-decoration-color: #0087ff\">Dense</span>)                     │ (<span style=\"color: #00d7ff; text-decoration-color: #00d7ff\">None</span>, <span style=\"color: #00af00; text-decoration-color: #00af00\">1</span>)                   │              <span style=\"color: #00af00; text-decoration-color: #00af00\">65</span> │\n",
              "└──────────────────────────────────────┴─────────────────────────────┴─────────────────┘\n",
              "</pre>\n"
            ]
          },
          "metadata": {}
        },
        {
          "output_type": "display_data",
          "data": {
            "text/plain": [
              "\u001b[1m Total params: \u001b[0m\u001b[38;5;34m190,721\u001b[0m (745.00 KB)\n"
            ],
            "text/html": [
              "<pre style=\"white-space:pre;overflow-x:auto;line-height:normal;font-family:Menlo,'DejaVu Sans Mono',consolas,'Courier New',monospace\"><span style=\"font-weight: bold\"> Total params: </span><span style=\"color: #00af00; text-decoration-color: #00af00\">190,721</span> (745.00 KB)\n",
              "</pre>\n"
            ]
          },
          "metadata": {}
        },
        {
          "output_type": "display_data",
          "data": {
            "text/plain": [
              "\u001b[1m Trainable params: \u001b[0m\u001b[38;5;34m190,721\u001b[0m (745.00 KB)\n"
            ],
            "text/html": [
              "<pre style=\"white-space:pre;overflow-x:auto;line-height:normal;font-family:Menlo,'DejaVu Sans Mono',consolas,'Courier New',monospace\"><span style=\"font-weight: bold\"> Trainable params: </span><span style=\"color: #00af00; text-decoration-color: #00af00\">190,721</span> (745.00 KB)\n",
              "</pre>\n"
            ]
          },
          "metadata": {}
        },
        {
          "output_type": "display_data",
          "data": {
            "text/plain": [
              "\u001b[1m Non-trainable params: \u001b[0m\u001b[38;5;34m0\u001b[0m (0.00 B)\n"
            ],
            "text/html": [
              "<pre style=\"white-space:pre;overflow-x:auto;line-height:normal;font-family:Menlo,'DejaVu Sans Mono',consolas,'Courier New',monospace\"><span style=\"font-weight: bold\"> Non-trainable params: </span><span style=\"color: #00af00; text-decoration-color: #00af00\">0</span> (0.00 B)\n",
              "</pre>\n"
            ]
          },
          "metadata": {}
        },
        {
          "output_type": "stream",
          "name": "stdout",
          "text": [
            "None\n",
            "Epoch 1/50\n",
            "\u001b[1m96/96\u001b[0m \u001b[32m━━━━━━━━━━━━━━━━━━━━\u001b[0m\u001b[37m\u001b[0m \u001b[1m9s\u001b[0m 43ms/step - loss: 5.0636 - mae: 1.0489 - val_loss: 5.4113 - val_mae: 0.9203\n",
            "Epoch 2/50\n",
            "\u001b[1m96/96\u001b[0m \u001b[32m━━━━━━━━━━━━━━━━━━━━\u001b[0m\u001b[37m\u001b[0m \u001b[1m2s\u001b[0m 12ms/step - loss: 13.1707 - mae: 0.8088 - val_loss: 5.6096 - val_mae: 0.7681\n",
            "Epoch 3/50\n",
            "\u001b[1m96/96\u001b[0m \u001b[32m━━━━━━━━━━━━━━━━━━━━\u001b[0m\u001b[37m\u001b[0m \u001b[1m1s\u001b[0m 7ms/step - loss: 5.9073 - mae: 0.8477 - val_loss: 5.2717 - val_mae: 0.6653\n",
            "Epoch 4/50\n",
            "\u001b[1m96/96\u001b[0m \u001b[32m━━━━━━━━━━━━━━━━━━━━\u001b[0m\u001b[37m\u001b[0m \u001b[1m1s\u001b[0m 6ms/step - loss: 6.2896 - mae: 0.7999 - val_loss: 5.3541 - val_mae: 0.7609\n",
            "Epoch 5/50\n",
            "\u001b[1m96/96\u001b[0m \u001b[32m━━━━━━━━━━━━━━━━━━━━\u001b[0m\u001b[37m\u001b[0m \u001b[1m1s\u001b[0m 6ms/step - loss: 7.6434 - mae: 0.7189 - val_loss: 5.3939 - val_mae: 0.6776\n",
            "Epoch 6/50\n",
            "\u001b[1m96/96\u001b[0m \u001b[32m━━━━━━━━━━━━━━━━━━━━\u001b[0m\u001b[37m\u001b[0m \u001b[1m1s\u001b[0m 5ms/step - loss: 4.8260 - mae: 0.7896 - val_loss: 7.6197 - val_mae: 0.8356\n",
            "Epoch 7/50\n",
            "\u001b[1m96/96\u001b[0m \u001b[32m━━━━━━━━━━━━━━━━━━━━\u001b[0m\u001b[37m\u001b[0m \u001b[1m1s\u001b[0m 6ms/step - loss: 30.2374 - mae: 0.8840 - val_loss: 6.8882 - val_mae: 0.9114\n",
            "Epoch 8/50\n",
            "\u001b[1m96/96\u001b[0m \u001b[32m━━━━━━━━━━━━━━━━━━━━\u001b[0m\u001b[37m\u001b[0m \u001b[1m1s\u001b[0m 6ms/step - loss: 4.6029 - mae: 0.8018 - val_loss: 7.4073 - val_mae: 1.0563\n",
            "Epoch 9/50\n",
            "\u001b[1m96/96\u001b[0m \u001b[32m━━━━━━━━━━━━━━━━━━━━\u001b[0m\u001b[37m\u001b[0m \u001b[1m1s\u001b[0m 6ms/step - loss: 66.0117 - mae: 1.0847 - val_loss: 5.2655 - val_mae: 0.7199\n",
            "Epoch 10/50\n",
            "\u001b[1m96/96\u001b[0m \u001b[32m━━━━━━━━━━━━━━━━━━━━\u001b[0m\u001b[37m\u001b[0m \u001b[1m1s\u001b[0m 6ms/step - loss: 24.2845 - mae: 0.7413 - val_loss: 5.5411 - val_mae: 0.9077\n",
            "Epoch 11/50\n",
            "\u001b[1m96/96\u001b[0m \u001b[32m━━━━━━━━━━━━━━━━━━━━\u001b[0m\u001b[37m\u001b[0m \u001b[1m1s\u001b[0m 7ms/step - loss: 3.5231 - mae: 0.6613 - val_loss: 6.3789 - val_mae: 0.8495\n",
            "Epoch 12/50\n",
            "\u001b[1m96/96\u001b[0m \u001b[32m━━━━━━━━━━━━━━━━━━━━\u001b[0m\u001b[37m\u001b[0m \u001b[1m1s\u001b[0m 11ms/step - loss: 4.6693 - mae: 0.7229 - val_loss: 5.8925 - val_mae: 0.8572\n",
            "Epoch 13/50\n",
            "\u001b[1m96/96\u001b[0m \u001b[32m━━━━━━━━━━━━━━━━━━━━\u001b[0m\u001b[37m\u001b[0m \u001b[1m1s\u001b[0m 11ms/step - loss: 4.8937 - mae: 0.6988 - val_loss: 5.7764 - val_mae: 0.7661\n",
            "Epoch 14/50\n",
            "\u001b[1m96/96\u001b[0m \u001b[32m━━━━━━━━━━━━━━━━━━━━\u001b[0m\u001b[37m\u001b[0m \u001b[1m1s\u001b[0m 8ms/step - loss: 4.5054 - mae: 0.6558 - val_loss: 5.4072 - val_mae: 0.7754\n",
            "Epoch 15/50\n",
            "\u001b[1m96/96\u001b[0m \u001b[32m━━━━━━━━━━━━━━━━━━━━\u001b[0m\u001b[37m\u001b[0m \u001b[1m1s\u001b[0m 6ms/step - loss: 2.9886 - mae: 0.6480 - val_loss: 5.9441 - val_mae: 1.0141\n",
            "Epoch 16/50\n",
            "\u001b[1m96/96\u001b[0m \u001b[32m━━━━━━━━━━━━━━━━━━━━\u001b[0m\u001b[37m\u001b[0m \u001b[1m1s\u001b[0m 6ms/step - loss: 4.4905 - mae: 0.7076 - val_loss: 5.6057 - val_mae: 0.7190\n",
            "Epoch 17/50\n",
            "\u001b[1m96/96\u001b[0m \u001b[32m━━━━━━━━━━━━━━━━━━━━\u001b[0m\u001b[37m\u001b[0m \u001b[1m1s\u001b[0m 6ms/step - loss: 8.4252 - mae: 0.7734 - val_loss: 5.4064 - val_mae: 0.7264\n",
            "Epoch 18/50\n",
            "\u001b[1m96/96\u001b[0m \u001b[32m━━━━━━━━━━━━━━━━━━━━\u001b[0m\u001b[37m\u001b[0m \u001b[1m1s\u001b[0m 6ms/step - loss: 5.8325 - mae: 0.7314 - val_loss: 5.2106 - val_mae: 0.6788\n",
            "Epoch 19/50\n",
            "\u001b[1m96/96\u001b[0m \u001b[32m━━━━━━━━━━━━━━━━━━━━\u001b[0m\u001b[37m\u001b[0m \u001b[1m1s\u001b[0m 6ms/step - loss: 3.7683 - mae: 0.6129 - val_loss: 5.2585 - val_mae: 0.6706\n",
            "Epoch 20/50\n",
            "\u001b[1m96/96\u001b[0m \u001b[32m━━━━━━━━━━━━━━━━━━━━\u001b[0m\u001b[37m\u001b[0m \u001b[1m1s\u001b[0m 6ms/step - loss: 6.5071 - mae: 0.6966 - val_loss: 5.3268 - val_mae: 0.6609\n",
            "Epoch 21/50\n",
            "\u001b[1m96/96\u001b[0m \u001b[32m━━━━━━━━━━━━━━━━━━━━\u001b[0m\u001b[37m\u001b[0m \u001b[1m1s\u001b[0m 6ms/step - loss: 2.4951 - mae: 0.5902 - val_loss: 5.4397 - val_mae: 0.7668\n",
            "Epoch 22/50\n",
            "\u001b[1m96/96\u001b[0m \u001b[32m━━━━━━━━━━━━━━━━━━━━\u001b[0m\u001b[37m\u001b[0m \u001b[1m1s\u001b[0m 6ms/step - loss: 2.1201 - mae: 0.6318 - val_loss: 6.8074 - val_mae: 1.1201\n",
            "Epoch 23/50\n",
            "\u001b[1m96/96\u001b[0m \u001b[32m━━━━━━━━━━━━━━━━━━━━\u001b[0m\u001b[37m\u001b[0m \u001b[1m1s\u001b[0m 6ms/step - loss: 4.4428 - mae: 0.7585 - val_loss: 5.2150 - val_mae: 0.7006\n",
            "Epoch 24/50\n",
            "\u001b[1m96/96\u001b[0m \u001b[32m━━━━━━━━━━━━━━━━━━━━\u001b[0m\u001b[37m\u001b[0m \u001b[1m1s\u001b[0m 6ms/step - loss: 2.5238 - mae: 0.5744 - val_loss: 5.3890 - val_mae: 0.6787\n",
            "Epoch 25/50\n",
            "\u001b[1m96/96\u001b[0m \u001b[32m━━━━━━━━━━━━━━━━━━━━\u001b[0m\u001b[37m\u001b[0m \u001b[1m1s\u001b[0m 6ms/step - loss: 5.0071 - mae: 0.6536 - val_loss: 5.3716 - val_mae: 0.7240\n",
            "Epoch 26/50\n",
            "\u001b[1m96/96\u001b[0m \u001b[32m━━━━━━━━━━━━━━━━━━━━\u001b[0m\u001b[37m\u001b[0m \u001b[1m1s\u001b[0m 6ms/step - loss: 4.6981 - mae: 0.6899 - val_loss: 5.4038 - val_mae: 0.7180\n",
            "Epoch 27/50\n",
            "\u001b[1m96/96\u001b[0m \u001b[32m━━━━━━━━━━━━━━━━━━━━\u001b[0m\u001b[37m\u001b[0m \u001b[1m1s\u001b[0m 6ms/step - loss: 9.0630 - mae: 0.6770 - val_loss: 5.2217 - val_mae: 0.7001\n",
            "Epoch 28/50\n",
            "\u001b[1m96/96\u001b[0m \u001b[32m━━━━━━━━━━━━━━━━━━━━\u001b[0m\u001b[37m\u001b[0m \u001b[1m1s\u001b[0m 6ms/step - loss: 6.4145 - mae: 0.5737 - val_loss: 5.5214 - val_mae: 0.7835\n",
            "Epoch 29/50\n",
            "\u001b[1m96/96\u001b[0m \u001b[32m━━━━━━━━━━━━━━━━━━━━\u001b[0m\u001b[37m\u001b[0m \u001b[1m1s\u001b[0m 6ms/step - loss: 2.4165 - mae: 0.5362 - val_loss: 6.3728 - val_mae: 0.8150\n",
            "Epoch 30/50\n",
            "\u001b[1m96/96\u001b[0m \u001b[32m━━━━━━━━━━━━━━━━━━━━\u001b[0m\u001b[37m\u001b[0m \u001b[1m1s\u001b[0m 11ms/step - loss: 10.1108 - mae: 0.6941 - val_loss: 5.1646 - val_mae: 0.6391\n",
            "Epoch 31/50\n",
            "\u001b[1m96/96\u001b[0m \u001b[32m━━━━━━━━━━━━━━━━━━━━\u001b[0m\u001b[37m\u001b[0m \u001b[1m1s\u001b[0m 12ms/step - loss: 4.7592 - mae: 0.5566 - val_loss: 5.8809 - val_mae: 0.7260\n",
            "Epoch 32/50\n",
            "\u001b[1m96/96\u001b[0m \u001b[32m━━━━━━━━━━━━━━━━━━━━\u001b[0m\u001b[37m\u001b[0m \u001b[1m1s\u001b[0m 13ms/step - loss: 5.0402 - mae: 0.6422 - val_loss: 5.3669 - val_mae: 0.7335\n",
            "Epoch 33/50\n",
            "\u001b[1m96/96\u001b[0m \u001b[32m━━━━━━━━━━━━━━━━━━━━\u001b[0m\u001b[37m\u001b[0m \u001b[1m1s\u001b[0m 12ms/step - loss: 2.3268 - mae: 0.5359 - val_loss: 6.2085 - val_mae: 0.7386\n",
            "Epoch 34/50\n",
            "\u001b[1m96/96\u001b[0m \u001b[32m━━━━━━━━━━━━━━━━━━━━\u001b[0m\u001b[37m\u001b[0m \u001b[1m1s\u001b[0m 13ms/step - loss: 4.1150 - mae: 0.5834 - val_loss: 5.4688 - val_mae: 0.6849\n",
            "Epoch 35/50\n",
            "\u001b[1m96/96\u001b[0m \u001b[32m━━━━━━━━━━━━━━━━━━━━\u001b[0m\u001b[37m\u001b[0m \u001b[1m1s\u001b[0m 7ms/step - loss: 2.3702 - mae: 0.5052 - val_loss: 6.0947 - val_mae: 0.7935\n",
            "Epoch 36/50\n",
            "\u001b[1m96/96\u001b[0m \u001b[32m━━━━━━━━━━━━━━━━━━━━\u001b[0m\u001b[37m\u001b[0m \u001b[1m1s\u001b[0m 6ms/step - loss: 2.5908 - mae: 0.5623 - val_loss: 5.5068 - val_mae: 0.7233\n",
            "Epoch 37/50\n",
            "\u001b[1m96/96\u001b[0m \u001b[32m━━━━━━━━━━━━━━━━━━━━\u001b[0m\u001b[37m\u001b[0m \u001b[1m1s\u001b[0m 6ms/step - loss: 1.5696 - mae: 0.4876 - val_loss: 6.1769 - val_mae: 0.7268\n",
            "Epoch 38/50\n",
            "\u001b[1m96/96\u001b[0m \u001b[32m━━━━━━━━━━━━━━━━━━━━\u001b[0m\u001b[37m\u001b[0m \u001b[1m1s\u001b[0m 6ms/step - loss: 3.0723 - mae: 0.5506 - val_loss: 5.1704 - val_mae: 0.6835\n",
            "Epoch 39/50\n",
            "\u001b[1m96/96\u001b[0m \u001b[32m━━━━━━━━━━━━━━━━━━━━\u001b[0m\u001b[37m\u001b[0m \u001b[1m1s\u001b[0m 6ms/step - loss: 2.6866 - mae: 0.5073 - val_loss: 5.2574 - val_mae: 0.6875\n",
            "Epoch 40/50\n",
            "\u001b[1m96/96\u001b[0m \u001b[32m━━━━━━━━━━━━━━━━━━━━\u001b[0m\u001b[37m\u001b[0m \u001b[1m1s\u001b[0m 6ms/step - loss: 3.6261 - mae: 0.5796 - val_loss: 5.2634 - val_mae: 0.6891\n",
            "Epoch 41/50\n",
            "\u001b[1m96/96\u001b[0m \u001b[32m━━━━━━━━━━━━━━━━━━━━\u001b[0m\u001b[37m\u001b[0m \u001b[1m1s\u001b[0m 6ms/step - loss: 3.7666 - mae: 0.6011 - val_loss: 5.1212 - val_mae: 0.6380\n",
            "Epoch 42/50\n",
            "\u001b[1m96/96\u001b[0m \u001b[32m━━━━━━━━━━━━━━━━━━━━\u001b[0m\u001b[37m\u001b[0m \u001b[1m1s\u001b[0m 6ms/step - loss: 2.3013 - mae: 0.5252 - val_loss: 5.6500 - val_mae: 0.8011\n",
            "Epoch 43/50\n",
            "\u001b[1m96/96\u001b[0m \u001b[32m━━━━━━━━━━━━━━━━━━━━\u001b[0m\u001b[37m\u001b[0m \u001b[1m1s\u001b[0m 6ms/step - loss: 2.0959 - mae: 0.4962 - val_loss: 5.2388 - val_mae: 0.6434\n",
            "Epoch 44/50\n",
            "\u001b[1m96/96\u001b[0m \u001b[32m━━━━━━━━━━━━━━━━━━━━\u001b[0m\u001b[37m\u001b[0m \u001b[1m1s\u001b[0m 6ms/step - loss: 1.2061 - mae: 0.4608 - val_loss: 6.2068 - val_mae: 0.8709\n",
            "Epoch 45/50\n",
            "\u001b[1m96/96\u001b[0m \u001b[32m━━━━━━━━━━━━━━━━━━━━\u001b[0m\u001b[37m\u001b[0m \u001b[1m1s\u001b[0m 6ms/step - loss: 1.6384 - mae: 0.5369 - val_loss: 5.4835 - val_mae: 0.6546\n",
            "Epoch 46/50\n",
            "\u001b[1m96/96\u001b[0m \u001b[32m━━━━━━━━━━━━━━━━━━━━\u001b[0m\u001b[37m\u001b[0m \u001b[1m1s\u001b[0m 6ms/step - loss: 2.5099 - mae: 0.4930 - val_loss: 5.2733 - val_mae: 0.6975\n",
            "Epoch 47/50\n",
            "\u001b[1m96/96\u001b[0m \u001b[32m━━━━━━━━━━━━━━━━━━━━\u001b[0m\u001b[37m\u001b[0m \u001b[1m1s\u001b[0m 6ms/step - loss: 2.3997 - mae: 0.5084 - val_loss: 6.0188 - val_mae: 0.7149\n",
            "Epoch 48/50\n",
            "\u001b[1m96/96\u001b[0m \u001b[32m━━━━━━━━━━━━━━━━━━━━\u001b[0m\u001b[37m\u001b[0m \u001b[1m1s\u001b[0m 7ms/step - loss: 1.2626 - mae: 0.4459 - val_loss: 6.8594 - val_mae: 0.9112\n",
            "Epoch 49/50\n",
            "\u001b[1m96/96\u001b[0m \u001b[32m━━━━━━━━━━━━━━━━━━━━\u001b[0m\u001b[37m\u001b[0m \u001b[1m2s\u001b[0m 11ms/step - loss: 2.0249 - mae: 0.5880 - val_loss: 5.1878 - val_mae: 0.7065\n",
            "Epoch 50/50\n",
            "\u001b[1m96/96\u001b[0m \u001b[32m━━━━━━━━━━━━━━━━━━━━\u001b[0m\u001b[37m\u001b[0m \u001b[1m1s\u001b[0m 11ms/step - loss: 3.4185 - mae: 0.5182 - val_loss: 5.2848 - val_mae: 0.6383\n",
            "\u001b[1m30/30\u001b[0m \u001b[32m━━━━━━━━━━━━━━━━━━━━\u001b[0m\u001b[37m\u001b[0m \u001b[1m0s\u001b[0m 7ms/step\n"
          ]
        }
      ]
    },
    {
      "cell_type": "code",
      "source": [
        "# Prepare and plot loss over time\n",
        "plt.plot(train_loss,label=\"train\")\n",
        "plt.plot(test_loss,label=\"test\")\n",
        "plt.legend()\n",
        "plt.xlabel(\"Epochs\")\n",
        "plt.ylabel(\"Loss\")\n",
        "plt.show()"
      ],
      "metadata": {
        "colab": {
          "base_uri": "https://localhost:8080/",
          "height": 449
        },
        "id": "n2K2zs-MIUPk",
        "outputId": "c932221e-be21-45cc-9efd-04a708acbb0b"
      },
      "execution_count": 29,
      "outputs": [
        {
          "output_type": "display_data",
          "data": {
            "text/plain": [
              "<Figure size 640x480 with 1 Axes>"
            ],
            "image/png": "[encoded data removed]"
          },
          "metadata": {}
        }
      ]
    }
  ]
}